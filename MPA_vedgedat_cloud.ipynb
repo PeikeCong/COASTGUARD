{
 "cells": [
  {
   "cell_type": "markdown",
   "id": "e18670f2",
   "metadata": {},
   "source": [
    "# set up environment"
   ]
  },
  {
   "cell_type": "markdown",
   "id": "2a73d5fa",
   "metadata": {},
   "source": [
    "### initialize"
   ]
  },
  {
   "cell_type": "code",
   "execution_count": 1,
   "id": "d654275c",
   "metadata": {
    "execution": {
     "iopub.execute_input": "2025-06-09T15:33:27.621960Z",
     "iopub.status.busy": "2025-06-09T15:33:27.621233Z",
     "iopub.status.idle": "2025-06-09T15:33:34.842474Z",
     "shell.execute_reply": "2025-06-09T15:33:34.841828Z",
     "shell.execute_reply.started": "2025-06-09T15:33:27.621920Z"
    }
   },
   "outputs": [
    {
     "data": {
      "text/plain": [
       "True"
      ]
     },
     "execution_count": 1,
     "metadata": {},
     "output_type": "execute_result"
    }
   ],
   "source": [
    "import os\n",
    "import shutil\n",
    "import glob\n",
    "import pickle\n",
    "import warnings\n",
    "warnings.filterwarnings(\"ignore\")\n",
    "import matplotlib\n",
    "%matplotlib widget\n",
    "import matplotlib.pyplot as plt\n",
    "plt.ion()\n",
    "from datetime import datetime\n",
    "from Toolshed import Download, Toolbox, VegetationLine, Plotting, PlottingSeaborn, Transects\n",
    "import ee\n",
    "import geopandas as gpd\n",
    "import geemap\n",
    "from shapely.geometry import MultiPolygon\n",
    "matplotlib.rcParams['font.family'] = 'DejaVu Sans'\n",
    "\n",
    "ee.Initialize()\n",
    "ee.Authenticate() # should only need to be run the first time after installation"
   ]
  },
  {
   "cell_type": "markdown",
   "id": "f228ad09",
   "metadata": {},
   "source": [
    "### parameter settings"
   ]
  },
  {
   "cell_type": "code",
   "execution_count": 2,
   "id": "52f11935",
   "metadata": {
    "execution": {
     "iopub.execute_input": "2025-06-09T15:33:34.844500Z",
     "iopub.status.busy": "2025-06-09T15:33:34.843841Z",
     "iopub.status.idle": "2025-06-09T15:33:34.849849Z",
     "shell.execute_reply": "2025-06-09T15:33:34.849294Z",
     "shell.execute_reply.started": "2025-06-09T15:33:34.844473Z"
    }
   },
   "outputs": [
    {
     "data": {
      "text/html": [
       "\n",
       "            <style>\n",
       "                .geemap-dark {\n",
       "                    --jp-widgets-color: white;\n",
       "                    --jp-widgets-label-color: white;\n",
       "                    --jp-ui-font-color1: white;\n",
       "                    --jp-layout-color2: #454545;\n",
       "                    background-color: #383838;\n",
       "                }\n",
       "\n",
       "                .geemap-dark .jupyter-button {\n",
       "                    --jp-layout-color3: #383838;\n",
       "                }\n",
       "\n",
       "                .geemap-colab {\n",
       "                    background-color: var(--colab-primary-surface-color, white);\n",
       "                }\n",
       "\n",
       "                .geemap-colab .jupyter-button {\n",
       "                    --jp-layout-color3: var(--colab-primary-surface-color, white);\n",
       "                }\n",
       "            </style>\n",
       "            "
      ],
      "text/plain": [
       "<IPython.core.display.HTML object>"
      ]
     },
     "metadata": {},
     "output_type": "display_data"
    }
   ],
   "source": [
    "# The points represent the corners of a bounding box that go around your site\n",
    "sitename = 'smalltest'\n",
    "\n",
    "# Date range\n",
    "dates = ['2014-01-01', '2025-01-01']\n",
    "\n",
    "# Satellite missions\n",
    "# Input a list of containing any/all of 'L5', 'L7', 'L8', 'L9', 'S2', 'PSScene4Band'\n",
    "# L5: 1984-2013; L7: 1999-2017 (SLC error from 2003); L8: 2013-present; S2: 2014-present; L9: 2021-present\n",
    "sat_list = ['PSScene4Band']\n",
    "\n",
    "# Cloud threshold for screening out cloudy imagery (0.5 or 50% recommended)\n",
    "cloud_thresh = 0.3\n",
    "\n",
    "# Extract shoreline (wet-dry boundary) as well as veg edge\n",
    "wetdry = True\n",
    "\n",
    "# Directory where the data will be stored\n",
    "filepath = Toolbox.CreateFileStructure(sitename, sat_list)"
   ]
  },
  {
   "cell_type": "code",
   "execution_count": 3,
   "id": "4418ca6d",
   "metadata": {
    "execution": {
     "iopub.execute_input": "2025-06-09T15:33:34.850692Z",
     "iopub.status.busy": "2025-06-09T15:33:34.850484Z",
     "iopub.status.idle": "2025-06-09T15:33:34.858803Z",
     "shell.execute_reply": "2025-06-09T15:33:34.858267Z",
     "shell.execute_reply.started": "2025-06-09T15:33:34.850672Z"
    }
   },
   "outputs": [
    {
     "data": {
      "text/html": [
       "\n",
       "            <style>\n",
       "                .geemap-dark {\n",
       "                    --jp-widgets-color: white;\n",
       "                    --jp-widgets-label-color: white;\n",
       "                    --jp-ui-font-color1: white;\n",
       "                    --jp-layout-color2: #454545;\n",
       "                    background-color: #383838;\n",
       "                }\n",
       "\n",
       "                .geemap-dark .jupyter-button {\n",
       "                    --jp-layout-color3: #383838;\n",
       "                }\n",
       "\n",
       "                .geemap-colab {\n",
       "                    background-color: var(--colab-primary-surface-color, white);\n",
       "                }\n",
       "\n",
       "                .geemap-colab .jupyter-button {\n",
       "                    --jp-layout-color3: var(--colab-primary-surface-color, white);\n",
       "                }\n",
       "            </style>\n",
       "            "
      ],
      "text/plain": [
       "<IPython.core.display.HTML object>"
      ]
     },
     "metadata": {},
     "output_type": "display_data"
    },
    {
     "data": {
      "text/plain": [
       "'/home/sagemaker-user/COASTGUARD/Data'"
      ]
     },
     "execution_count": 3,
     "metadata": {},
     "output_type": "execute_result"
    }
   ],
   "source": [
    "filepath"
   ]
  },
  {
   "cell_type": "code",
   "execution_count": 4,
   "id": "5d2029a7",
   "metadata": {
    "execution": {
     "iopub.execute_input": "2025-06-09T15:33:34.860692Z",
     "iopub.status.busy": "2025-06-09T15:33:34.860420Z",
     "iopub.status.idle": "2025-06-09T15:33:34.866159Z",
     "shell.execute_reply": "2025-06-09T15:33:34.865578Z",
     "shell.execute_reply.started": "2025-06-09T15:33:34.860671Z"
    }
   },
   "outputs": [
    {
     "data": {
      "text/html": [
       "\n",
       "            <style>\n",
       "                .geemap-dark {\n",
       "                    --jp-widgets-color: white;\n",
       "                    --jp-widgets-label-color: white;\n",
       "                    --jp-ui-font-color1: white;\n",
       "                    --jp-layout-color2: #454545;\n",
       "                    background-color: #383838;\n",
       "                }\n",
       "\n",
       "                .geemap-dark .jupyter-button {\n",
       "                    --jp-layout-color3: #383838;\n",
       "                }\n",
       "\n",
       "                .geemap-colab {\n",
       "                    background-color: var(--colab-primary-surface-color, white);\n",
       "                }\n",
       "\n",
       "                .geemap-colab .jupyter-button {\n",
       "                    --jp-layout-color3: var(--colab-primary-surface-color, white);\n",
       "                }\n",
       "            </style>\n",
       "            "
      ],
      "text/plain": [
       "<IPython.core.display.HTML object>"
      ]
     },
     "metadata": {},
     "output_type": "display_data"
    },
    {
     "name": "stdout",
     "output_type": "stream",
     "text": [
      "widget\n"
     ]
    }
   ],
   "source": [
    "import matplotlib\n",
    "print(matplotlib.get_backend())"
   ]
  },
  {
   "cell_type": "markdown",
   "id": "0a9a0453",
   "metadata": {},
   "source": [
    "# load locations information and Reference Lines"
   ]
  },
  {
   "cell_type": "markdown",
   "id": "5fc44ae8",
   "metadata": {},
   "source": [
    "### load reference shoreline AOI on reference shoreline (in library)"
   ]
  },
  {
   "cell_type": "code",
   "execution_count": 5,
   "id": "a8f2001b-7fc4-4184-bddd-5d3be8e6c492",
   "metadata": {
    "execution": {
     "iopub.execute_input": "2025-06-09T15:33:34.867222Z",
     "iopub.status.busy": "2025-06-09T15:33:34.866905Z",
     "iopub.status.idle": "2025-06-09T15:33:34.873109Z",
     "shell.execute_reply": "2025-06-09T15:33:34.872587Z",
     "shell.execute_reply.started": "2025-06-09T15:33:34.867196Z"
    }
   },
   "outputs": [
    {
     "data": {
      "text/html": [
       "\n",
       "            <style>\n",
       "                .geemap-dark {\n",
       "                    --jp-widgets-color: white;\n",
       "                    --jp-widgets-label-color: white;\n",
       "                    --jp-ui-font-color1: white;\n",
       "                    --jp-layout-color2: #454545;\n",
       "                    background-color: #383838;\n",
       "                }\n",
       "\n",
       "                .geemap-dark .jupyter-button {\n",
       "                    --jp-layout-color3: #383838;\n",
       "                }\n",
       "\n",
       "                .geemap-colab {\n",
       "                    background-color: var(--colab-primary-surface-color, white);\n",
       "                }\n",
       "\n",
       "                .geemap-colab .jupyter-button {\n",
       "                    --jp-layout-color3: var(--colab-primary-surface-color, white);\n",
       "                }\n",
       "            </style>\n",
       "            "
      ],
      "text/plain": [
       "<IPython.core.display.HTML object>"
      ]
     },
     "metadata": {},
     "output_type": "display_data"
    }
   ],
   "source": [
    "# Reference shoreline/veg line shapefile name (should be stored in a folder called referenceLines in Data)\n",
    "# Line should be ONE CONTINUOUS linestring along the shore, stored as a shapefile in WGS84 coord system\n",
    "referenceLineShp = sitename + '_ref.shp'\n",
    "# Maximum amount in metres by which to buffer the reference line for capturing veg edges within\n",
    "max_dist_ref = 150"
   ]
  },
  {
   "cell_type": "code",
   "execution_count": 6,
   "id": "e4ab888d",
   "metadata": {
    "execution": {
     "iopub.execute_input": "2025-06-09T15:33:34.873989Z",
     "iopub.status.busy": "2025-06-09T15:33:34.873733Z",
     "iopub.status.idle": "2025-06-09T15:33:35.120438Z",
     "shell.execute_reply": "2025-06-09T15:33:35.119836Z",
     "shell.execute_reply.started": "2025-06-09T15:33:34.873968Z"
    }
   },
   "outputs": [
    {
     "data": {
      "text/html": [
       "\n",
       "            <style>\n",
       "                .geemap-dark {\n",
       "                    --jp-widgets-color: white;\n",
       "                    --jp-widgets-label-color: white;\n",
       "                    --jp-ui-font-color1: white;\n",
       "                    --jp-layout-color2: #454545;\n",
       "                    background-color: #383838;\n",
       "                }\n",
       "\n",
       "                .geemap-dark .jupyter-button {\n",
       "                    --jp-layout-color3: #383838;\n",
       "                }\n",
       "\n",
       "                .geemap-colab {\n",
       "                    background-color: var(--colab-primary-surface-color, white);\n",
       "                }\n",
       "\n",
       "                .geemap-colab .jupyter-button {\n",
       "                    --jp-layout-color3: var(--colab-primary-surface-color, white);\n",
       "                }\n",
       "            </style>\n",
       "            "
      ],
      "text/plain": [
       "<IPython.core.display.HTML object>"
      ]
     },
     "metadata": {},
     "output_type": "display_data"
    }
   ],
   "source": [
    "# Return AOI from reference line bounding box and save AOI folium map HTML in sitename directory\n",
    "referenceLinePath = os.path.join(filepath, 'referenceLines', referenceLineShp)\n",
    "referenceLineDF = gpd.read_file(referenceLinePath)\n",
    "polygon, point, lonmin, lonmax, latmin, latmax = Toolbox.AOIfromLine(referenceLinePath, max_dist_ref, sitename)\n",
    "\n",
    "# It's recommended to convert the polygon to the smallest rectangle (sides parallel to coordinate axes)       \n",
    "polygon = Toolbox.smallest_rectangle(polygon)"
   ]
  },
  {
   "cell_type": "code",
   "execution_count": 7,
   "id": "54ca8672",
   "metadata": {
    "execution": {
     "iopub.execute_input": "2025-06-09T15:33:35.121632Z",
     "iopub.status.busy": "2025-06-09T15:33:35.121242Z",
     "iopub.status.idle": "2025-06-09T15:33:35.127424Z",
     "shell.execute_reply": "2025-06-09T15:33:35.126840Z",
     "shell.execute_reply.started": "2025-06-09T15:33:35.121596Z"
    }
   },
   "outputs": [
    {
     "data": {
      "text/html": [
       "\n",
       "            <style>\n",
       "                .geemap-dark {\n",
       "                    --jp-widgets-color: white;\n",
       "                    --jp-widgets-label-color: white;\n",
       "                    --jp-ui-font-color1: white;\n",
       "                    --jp-layout-color2: #454545;\n",
       "                    background-color: #383838;\n",
       "                }\n",
       "\n",
       "                .geemap-dark .jupyter-button {\n",
       "                    --jp-layout-color3: #383838;\n",
       "                }\n",
       "\n",
       "                .geemap-colab {\n",
       "                    background-color: var(--colab-primary-surface-color, white);\n",
       "                }\n",
       "\n",
       "                .geemap-colab .jupyter-button {\n",
       "                    --jp-layout-color3: var(--colab-primary-surface-color, white);\n",
       "                }\n",
       "            </style>\n",
       "            "
      ],
      "text/plain": [
       "<IPython.core.display.HTML object>"
      ]
     },
     "metadata": {},
     "output_type": "display_data"
    },
    {
     "data": {
      "text/plain": [
       "'/home/sagemaker-user/COASTGUARD/Data/referenceLines/smalltest_ref.shp'"
      ]
     },
     "execution_count": 7,
     "metadata": {},
     "output_type": "execute_result"
    }
   ],
   "source": [
    "referenceLinePath"
   ]
  },
  {
   "cell_type": "code",
   "execution_count": 8,
   "id": "968f85d9",
   "metadata": {
    "execution": {
     "iopub.execute_input": "2025-06-09T15:33:35.129101Z",
     "iopub.status.busy": "2025-06-09T15:33:35.128836Z",
     "iopub.status.idle": "2025-06-09T15:33:35.135012Z",
     "shell.execute_reply": "2025-06-09T15:33:35.134428Z",
     "shell.execute_reply.started": "2025-06-09T15:33:35.129080Z"
    }
   },
   "outputs": [
    {
     "data": {
      "text/html": [
       "\n",
       "            <style>\n",
       "                .geemap-dark {\n",
       "                    --jp-widgets-color: white;\n",
       "                    --jp-widgets-label-color: white;\n",
       "                    --jp-ui-font-color1: white;\n",
       "                    --jp-layout-color2: #454545;\n",
       "                    background-color: #383838;\n",
       "                }\n",
       "\n",
       "                .geemap-dark .jupyter-button {\n",
       "                    --jp-layout-color3: #383838;\n",
       "                }\n",
       "\n",
       "                .geemap-colab {\n",
       "                    background-color: var(--colab-primary-surface-color, white);\n",
       "                }\n",
       "\n",
       "                .geemap-colab .jupyter-button {\n",
       "                    --jp-layout-color3: var(--colab-primary-surface-color, white);\n",
       "                }\n",
       "            </style>\n",
       "            "
      ],
      "text/plain": [
       "<IPython.core.display.HTML object>"
      ]
     },
     "metadata": {},
     "output_type": "display_data"
    },
    {
     "name": "stdout",
     "output_type": "stream",
     "text": [
      "[-66.23066578  45.14371425]\n"
     ]
    }
   ],
   "source": [
    "# get polygon centroid, coordinates to get tides from\n",
    "import numpy as np\n",
    "centroid = np.mean(polygon[0], axis=0)\n",
    "print(centroid)\n",
    "# if longitude is negative add 180 (longitudes are from 0 to 360 in fes)\n",
    "if centroid[0] < 0: centroid[0] += 360"
   ]
  },
  {
   "cell_type": "markdown",
   "id": "d598dffc",
   "metadata": {},
   "source": [
    "### date range"
   ]
  },
  {
   "cell_type": "code",
   "execution_count": 9,
   "id": "c9211557",
   "metadata": {
    "execution": {
     "iopub.execute_input": "2025-06-09T15:33:35.135922Z",
     "iopub.status.busy": "2025-06-09T15:33:35.135668Z",
     "iopub.status.idle": "2025-06-09T15:33:35.142004Z",
     "shell.execute_reply": "2025-06-09T15:33:35.141472Z",
     "shell.execute_reply.started": "2025-06-09T15:33:35.135900Z"
    }
   },
   "outputs": [
    {
     "data": {
      "text/html": [
       "\n",
       "            <style>\n",
       "                .geemap-dark {\n",
       "                    --jp-widgets-color: white;\n",
       "                    --jp-widgets-label-color: white;\n",
       "                    --jp-ui-font-color1: white;\n",
       "                    --jp-layout-color2: #454545;\n",
       "                    background-color: #383838;\n",
       "                }\n",
       "\n",
       "                .geemap-dark .jupyter-button {\n",
       "                    --jp-layout-color3: #383838;\n",
       "                }\n",
       "\n",
       "                .geemap-colab {\n",
       "                    background-color: var(--colab-primary-surface-color, white);\n",
       "                }\n",
       "\n",
       "                .geemap-colab .jupyter-button {\n",
       "                    --jp-layout-color3: var(--colab-primary-surface-color, white);\n",
       "                }\n",
       "            </style>\n",
       "            "
      ],
      "text/plain": [
       "<IPython.core.display.HTML object>"
      ]
     },
     "metadata": {},
     "output_type": "display_data"
    }
   ],
   "source": [
    "if len(dates)>2:\n",
    "    daterange='no'\n",
    "else:\n",
    "    daterange='yes'\n",
    "years = list(Toolbox.daterange(datetime.strptime(dates[0],'%Y-%m-%d'), datetime.strptime(dates[-1],'%Y-%m-%d')))"
   ]
  },
  {
   "cell_type": "markdown",
   "id": "c1e1f103",
   "metadata": {},
   "source": [
    "### Compile Input Settings for Gathering Imagery"
   ]
  },
  {
   "cell_type": "code",
   "execution_count": 10,
   "id": "788f129a",
   "metadata": {
    "execution": {
     "iopub.execute_input": "2025-06-09T15:33:35.144220Z",
     "iopub.status.busy": "2025-06-09T15:33:35.143964Z",
     "iopub.status.idle": "2025-06-09T15:33:35.148867Z",
     "shell.execute_reply": "2025-06-09T15:33:35.148284Z",
     "shell.execute_reply.started": "2025-06-09T15:33:35.144199Z"
    }
   },
   "outputs": [
    {
     "data": {
      "text/html": [
       "\n",
       "            <style>\n",
       "                .geemap-dark {\n",
       "                    --jp-widgets-color: white;\n",
       "                    --jp-widgets-label-color: white;\n",
       "                    --jp-ui-font-color1: white;\n",
       "                    --jp-layout-color2: #454545;\n",
       "                    background-color: #383838;\n",
       "                }\n",
       "\n",
       "                .geemap-dark .jupyter-button {\n",
       "                    --jp-layout-color3: #383838;\n",
       "                }\n",
       "\n",
       "                .geemap-colab {\n",
       "                    background-color: var(--colab-primary-surface-color, white);\n",
       "                }\n",
       "\n",
       "                .geemap-colab .jupyter-button {\n",
       "                    --jp-layout-color3: var(--colab-primary-surface-color, white);\n",
       "                }\n",
       "            </style>\n",
       "            "
      ],
      "text/plain": [
       "<IPython.core.display.HTML object>"
      ]
     },
     "metadata": {},
     "output_type": "display_data"
    }
   ],
   "source": [
    "inputs = {\n",
    "    'polygon': polygon,\n",
    "    'dates': dates,\n",
    "    'daterange': daterange,\n",
    "    'sat_list': sat_list,\n",
    "    'sitename': sitename,\n",
    "    'filepath': filepath\n",
    "}"
   ]
  },
  {
   "cell_type": "code",
   "execution_count": 11,
   "id": "778e68d2",
   "metadata": {
    "execution": {
     "iopub.execute_input": "2025-06-09T15:33:35.150009Z",
     "iopub.status.busy": "2025-06-09T15:33:35.149559Z",
     "iopub.status.idle": "2025-06-09T15:33:35.155994Z",
     "shell.execute_reply": "2025-06-09T15:33:35.155350Z",
     "shell.execute_reply.started": "2025-06-09T15:33:35.149986Z"
    }
   },
   "outputs": [
    {
     "data": {
      "text/html": [
       "\n",
       "            <style>\n",
       "                .geemap-dark {\n",
       "                    --jp-widgets-color: white;\n",
       "                    --jp-widgets-label-color: white;\n",
       "                    --jp-ui-font-color1: white;\n",
       "                    --jp-layout-color2: #454545;\n",
       "                    background-color: #383838;\n",
       "                }\n",
       "\n",
       "                .geemap-dark .jupyter-button {\n",
       "                    --jp-layout-color3: #383838;\n",
       "                }\n",
       "\n",
       "                .geemap-colab {\n",
       "                    background-color: var(--colab-primary-surface-color, white);\n",
       "                }\n",
       "\n",
       "                .geemap-colab .jupyter-button {\n",
       "                    --jp-layout-color3: var(--colab-primary-surface-color, white);\n",
       "                }\n",
       "            </style>\n",
       "            "
      ],
      "text/plain": [
       "<IPython.core.display.HTML object>"
      ]
     },
     "metadata": {},
     "output_type": "display_data"
    },
    {
     "data": {
      "text/plain": [
       "{'polygon': [[[-66.23802289695303, 45.1415656881299],\n",
       "   [-66.21963010709617, 45.1415656881299],\n",
       "   [-66.21963010709617, 45.14693708311553],\n",
       "   [-66.23802289695303, 45.14693708311553],\n",
       "   [-66.23802289695303, 45.1415656881299]]],\n",
       " 'dates': ['2014-01-01', '2025-01-01'],\n",
       " 'daterange': 'yes',\n",
       " 'sat_list': ['PSScene4Band'],\n",
       " 'sitename': 'smalltest',\n",
       " 'filepath': '/home/sagemaker-user/COASTGUARD/Data'}"
      ]
     },
     "execution_count": 11,
     "metadata": {},
     "output_type": "execute_result"
    }
   ],
   "source": [
    "inputs"
   ]
  },
  {
   "cell_type": "code",
   "execution_count": 12,
   "id": "cae17692-9cf9-4b9f-a17b-2e2886cb4991",
   "metadata": {
    "execution": {
     "iopub.execute_input": "2025-06-09T15:33:35.157166Z",
     "iopub.status.busy": "2025-06-09T15:33:35.156799Z",
     "iopub.status.idle": "2025-06-09T15:33:35.164426Z",
     "shell.execute_reply": "2025-06-09T15:33:35.163856Z",
     "shell.execute_reply.started": "2025-06-09T15:33:35.157132Z"
    }
   },
   "outputs": [
    {
     "data": {
      "text/html": [
       "\n",
       "            <style>\n",
       "                .geemap-dark {\n",
       "                    --jp-widgets-color: white;\n",
       "                    --jp-widgets-label-color: white;\n",
       "                    --jp-ui-font-color1: white;\n",
       "                    --jp-layout-color2: #454545;\n",
       "                    background-color: #383838;\n",
       "                }\n",
       "\n",
       "                .geemap-dark .jupyter-button {\n",
       "                    --jp-layout-color3: #383838;\n",
       "                }\n",
       "\n",
       "                .geemap-colab {\n",
       "                    background-color: var(--colab-primary-surface-color, white);\n",
       "                }\n",
       "\n",
       "                .geemap-colab .jupyter-button {\n",
       "                    --jp-layout-color3: var(--colab-primary-surface-color, white);\n",
       "                }\n",
       "            </style>\n",
       "            "
      ],
      "text/plain": [
       "<IPython.core.display.HTML object>"
      ]
     },
     "metadata": {},
     "output_type": "display_data"
    },
    {
     "name": "stdout",
     "output_type": "stream",
     "text": [
      "All images and cloud masks have been moved successfully!\n"
     ]
    }
   ],
   "source": [
    "# Define source folders\n",
    "source_folder_images = os.path.join(filepath, 'PlanetScope')           # Images are here\n",
    "source_folder_cloudmasks = os.path.join(filepath, 'PlanetScope', 'cloudmasks')  # Cloud masks are here\n",
    "\n",
    "# Define target folders\n",
    "target_image_folder = os.path.join(filepath, sitename, 'local_images', 'PSScene4Band')\n",
    "target_cloudmask_folder = os.path.join(target_image_folder, 'cloudmasks')\n",
    "\n",
    "# Create target folders if they don't exist\n",
    "os.makedirs(target_image_folder, exist_ok=True)\n",
    "os.makedirs(target_cloudmask_folder, exist_ok=True)\n",
    "\n",
    "# Move images\n",
    "for file in os.listdir(source_folder_images):\n",
    "    full_file_path = os.path.join(source_folder_images, file)\n",
    "\n",
    "    if file.endswith('_composite.tif'):\n",
    "        shutil.move(full_file_path, os.path.join(target_image_folder, file))\n",
    "        print(f\"Moved image: {file}\")\n",
    "\n",
    "# Move cloud masks\n",
    "for file in os.listdir(source_folder_cloudmasks):\n",
    "    full_file_path = os.path.join(source_folder_cloudmasks, file)\n",
    "\n",
    "    if file.endswith('_composite_udm2.tif'):\n",
    "        shutil.move(full_file_path, os.path.join(target_cloudmask_folder, file))\n",
    "        print(f\"Moved cloud mask: {file}\")\n",
    "\n",
    "print(\"All images and cloud masks have been moved successfully!\")"
   ]
  },
  {
   "cell_type": "markdown",
   "id": "7f179f43",
   "metadata": {},
   "source": [
    "### Image Retrieval and download"
   ]
  },
  {
   "cell_type": "code",
   "execution_count": 13,
   "id": "9ebf3435",
   "metadata": {
    "execution": {
     "iopub.execute_input": "2025-06-09T15:33:35.165285Z",
     "iopub.status.busy": "2025-06-09T15:33:35.165037Z",
     "iopub.status.idle": "2025-06-09T15:33:35.170759Z",
     "shell.execute_reply": "2025-06-09T15:33:35.170180Z",
     "shell.execute_reply.started": "2025-06-09T15:33:35.165265Z"
    }
   },
   "outputs": [
    {
     "data": {
      "text/html": [
       "\n",
       "            <style>\n",
       "                .geemap-dark {\n",
       "                    --jp-widgets-color: white;\n",
       "                    --jp-widgets-label-color: white;\n",
       "                    --jp-ui-font-color1: white;\n",
       "                    --jp-layout-color2: #454545;\n",
       "                    background-color: #383838;\n",
       "                }\n",
       "\n",
       "                .geemap-dark .jupyter-button {\n",
       "                    --jp-layout-color3: #383838;\n",
       "                }\n",
       "\n",
       "                .geemap-colab {\n",
       "                    background-color: var(--colab-primary-surface-color, white);\n",
       "                }\n",
       "\n",
       "                .geemap-colab .jupyter-button {\n",
       "                    --jp-layout-color3: var(--colab-primary-surface-color, white);\n",
       "                }\n",
       "            </style>\n",
       "            "
      ],
      "text/plain": [
       "<IPython.core.display.HTML object>"
      ]
     },
     "metadata": {},
     "output_type": "display_data"
    },
    {
     "name": "stdout",
     "output_type": "stream",
     "text": [
      "retrieving image metadata...\n"
     ]
    }
   ],
   "source": [
    "# inputs = Download.check_images_available(inputs)\n",
    "Sat = Download.RetrieveImages(inputs, SLC=False)"
   ]
  },
  {
   "cell_type": "code",
   "execution_count": 14,
   "id": "382853e9-7754-49da-9f11-403a919f2370",
   "metadata": {
    "execution": {
     "iopub.execute_input": "2025-06-09T15:33:35.171935Z",
     "iopub.status.busy": "2025-06-09T15:33:35.171570Z",
     "iopub.status.idle": "2025-06-09T15:33:35.178388Z",
     "shell.execute_reply": "2025-06-09T15:33:35.177822Z",
     "shell.execute_reply.started": "2025-06-09T15:33:35.171900Z"
    }
   },
   "outputs": [
    {
     "data": {
      "text/html": [
       "\n",
       "            <style>\n",
       "                .geemap-dark {\n",
       "                    --jp-widgets-color: white;\n",
       "                    --jp-widgets-label-color: white;\n",
       "                    --jp-ui-font-color1: white;\n",
       "                    --jp-layout-color2: #454545;\n",
       "                    background-color: #383838;\n",
       "                }\n",
       "\n",
       "                .geemap-dark .jupyter-button {\n",
       "                    --jp-layout-color3: #383838;\n",
       "                }\n",
       "\n",
       "                .geemap-colab {\n",
       "                    background-color: var(--colab-primary-surface-color, white);\n",
       "                }\n",
       "\n",
       "                .geemap-colab .jupyter-button {\n",
       "                    --jp-layout-color3: var(--colab-primary-surface-color, white);\n",
       "                }\n",
       "            </style>\n",
       "            "
      ],
      "text/plain": [
       "<IPython.core.display.HTML object>"
      ]
     },
     "metadata": {},
     "output_type": "display_data"
    },
    {
     "data": {
      "text/plain": [
       "[['./Data/smalltest/local_images/PSScene4Band/20230122_145737_composite.tif',\n",
       "  './Data/smalltest/local_images/PSScene4Band/20230125_145749_composite.tif',\n",
       "  './Data/smalltest/local_images/PSScene4Band/20230130_145850_composite.tif',\n",
       "  './Data/smalltest/local_images/PSScene4Band/20230201_145924_composite.tif',\n",
       "  './Data/smalltest/local_images/PSScene4Band/20230202_145416_composite.tif',\n",
       "  './Data/smalltest/local_images/PSScene4Band/20230203_150425_composite.tif',\n",
       "  './Data/smalltest/local_images/PSScene4Band/20230216_145439_composite.tif',\n",
       "  './Data/smalltest/local_images/PSScene4Band/20230225_150309_composite.tif',\n",
       "  './Data/smalltest/local_images/PSScene4Band/20230227_145353_composite.tif',\n",
       "  './Data/smalltest/local_images/PSScene4Band/20230305_145613_composite.tif',\n",
       "  './Data/smalltest/local_images/PSScene4Band/20230312_145925_composite.tif',\n",
       "  './Data/smalltest/local_images/PSScene4Band/20230320_145520_composite.tif',\n",
       "  './Data/smalltest/local_images/PSScene4Band/20230321_145541_composite.tif',\n",
       "  './Data/smalltest/local_images/PSScene4Band/20230322_145437_composite.tif',\n",
       "  './Data/smalltest/local_images/PSScene4Band/20230408_145736_composite.tif',\n",
       "  './Data/smalltest/local_images/PSScene4Band/20230410_151149_composite.tif',\n",
       "  './Data/smalltest/local_images/PSScene4Band/20230414_145624_composite.tif',\n",
       "  './Data/smalltest/local_images/PSScene4Band/20230421_150059_composite.tif',\n",
       "  './Data/smalltest/local_images/PSScene4Band/20230507_142547_composite.tif',\n",
       "  './Data/smalltest/local_images/PSScene4Band/20230508_142757_composite.tif',\n",
       "  './Data/smalltest/local_images/PSScene4Band/20230513_145942_composite.tif',\n",
       "  './Data/smalltest/local_images/PSScene4Band/20230515_142406_composite.tif',\n",
       "  './Data/smalltest/local_images/PSScene4Band/20230527_150143_composite.tif',\n",
       "  './Data/smalltest/local_images/PSScene4Band/20230528_142548_composite.tif',\n",
       "  './Data/smalltest/local_images/PSScene4Band/20230530_142413_composite.tif',\n",
       "  './Data/smalltest/local_images/PSScene4Band/20230601_145949_composite.tif',\n",
       "  './Data/smalltest/local_images/PSScene4Band/20230622_150103_composite.tif',\n",
       "  './Data/smalltest/local_images/PSScene4Band/20230623_150056_composite.tif',\n",
       "  './Data/smalltest/local_images/PSScene4Band/20230728_151647_composite.tif',\n",
       "  './Data/smalltest/local_images/PSScene4Band/20230806_142254_composite.tif',\n",
       "  './Data/smalltest/local_images/PSScene4Band/20230901_150444_composite.tif',\n",
       "  './Data/smalltest/local_images/PSScene4Band/20230922_142847_composite.tif',\n",
       "  './Data/smalltest/local_images/PSScene4Band/20231024_150651_composite.tif',\n",
       "  './Data/smalltest/local_images/PSScene4Band/20231115_143159_composite.tif',\n",
       "  './Data/smalltest/local_images/PSScene4Band/20231119_153025_composite.tif',\n",
       "  './Data/smalltest/local_images/PSScene4Band/20231121_151220_composite.tif',\n",
       "  './Data/smalltest/local_images/PSScene4Band/20231124_143352_composite.tif',\n",
       "  './Data/smalltest/local_images/PSScene4Band/20231212_143237_composite.tif',\n",
       "  './Data/smalltest/local_images/PSScene4Band/20231214_142836_composite.tif',\n",
       "  './Data/smalltest/local_images/PSScene4Band/20231221_151224_composite.tif',\n",
       "  './Data/smalltest/local_images/PSScene4Band/20231222_151106_composite.tif'],\n",
       " ['./Data/smalltest/local_images/PSScene4Band/cloudmasks/20230122_145737_composite_udm2.tif',\n",
       "  './Data/smalltest/local_images/PSScene4Band/cloudmasks/20230125_145749_composite_udm2.tif',\n",
       "  './Data/smalltest/local_images/PSScene4Band/cloudmasks/20230130_145850_composite_udm2.tif',\n",
       "  './Data/smalltest/local_images/PSScene4Band/cloudmasks/20230201_145924_composite_udm2.tif',\n",
       "  './Data/smalltest/local_images/PSScene4Band/cloudmasks/20230202_145416_composite_udm2.tif',\n",
       "  './Data/smalltest/local_images/PSScene4Band/cloudmasks/20230203_150425_composite_udm2.tif',\n",
       "  './Data/smalltest/local_images/PSScene4Band/cloudmasks/20230216_145439_composite_udm2.tif',\n",
       "  './Data/smalltest/local_images/PSScene4Band/cloudmasks/20230225_150309_composite_udm2.tif',\n",
       "  './Data/smalltest/local_images/PSScene4Band/cloudmasks/20230227_145353_composite_udm2.tif',\n",
       "  './Data/smalltest/local_images/PSScene4Band/cloudmasks/20230305_145613_composite_udm2.tif',\n",
       "  './Data/smalltest/local_images/PSScene4Band/cloudmasks/20230312_145925_composite_udm2.tif',\n",
       "  './Data/smalltest/local_images/PSScene4Band/cloudmasks/20230320_145520_composite_udm2.tif',\n",
       "  './Data/smalltest/local_images/PSScene4Band/cloudmasks/20230321_145541_composite_udm2.tif',\n",
       "  './Data/smalltest/local_images/PSScene4Band/cloudmasks/20230322_145437_composite_udm2.tif',\n",
       "  './Data/smalltest/local_images/PSScene4Band/cloudmasks/20230408_145736_composite_udm2.tif',\n",
       "  './Data/smalltest/local_images/PSScene4Band/cloudmasks/20230410_151149_composite_udm2.tif',\n",
       "  './Data/smalltest/local_images/PSScene4Band/cloudmasks/20230414_145624_composite_udm2.tif',\n",
       "  './Data/smalltest/local_images/PSScene4Band/cloudmasks/20230421_150059_composite_udm2.tif',\n",
       "  './Data/smalltest/local_images/PSScene4Band/cloudmasks/20230507_142547_composite_udm2.tif',\n",
       "  './Data/smalltest/local_images/PSScene4Band/cloudmasks/20230508_142757_composite_udm2.tif',\n",
       "  './Data/smalltest/local_images/PSScene4Band/cloudmasks/20230513_145942_composite_udm2.tif',\n",
       "  './Data/smalltest/local_images/PSScene4Band/cloudmasks/20230515_142406_composite_udm2.tif',\n",
       "  './Data/smalltest/local_images/PSScene4Band/cloudmasks/20230527_150143_composite_udm2.tif',\n",
       "  './Data/smalltest/local_images/PSScene4Band/cloudmasks/20230528_142548_composite_udm2.tif',\n",
       "  './Data/smalltest/local_images/PSScene4Band/cloudmasks/20230530_142413_composite_udm2.tif',\n",
       "  './Data/smalltest/local_images/PSScene4Band/cloudmasks/20230601_145949_composite_udm2.tif',\n",
       "  './Data/smalltest/local_images/PSScene4Band/cloudmasks/20230622_150103_composite_udm2.tif',\n",
       "  './Data/smalltest/local_images/PSScene4Band/cloudmasks/20230623_150056_composite_udm2.tif',\n",
       "  './Data/smalltest/local_images/PSScene4Band/cloudmasks/20230728_151647_composite_udm2.tif',\n",
       "  './Data/smalltest/local_images/PSScene4Band/cloudmasks/20230806_142254_composite_udm2.tif',\n",
       "  './Data/smalltest/local_images/PSScene4Band/cloudmasks/20230901_150444_composite_udm2.tif',\n",
       "  './Data/smalltest/local_images/PSScene4Band/cloudmasks/20230922_142847_composite_udm2.tif',\n",
       "  './Data/smalltest/local_images/PSScene4Band/cloudmasks/20231024_150651_composite_udm2.tif',\n",
       "  './Data/smalltest/local_images/PSScene4Band/cloudmasks/20231115_143159_composite_udm2.tif',\n",
       "  './Data/smalltest/local_images/PSScene4Band/cloudmasks/20231119_153025_composite_udm2.tif',\n",
       "  './Data/smalltest/local_images/PSScene4Band/cloudmasks/20231121_151220_composite_udm2.tif',\n",
       "  './Data/smalltest/local_images/PSScene4Band/cloudmasks/20231124_143352_composite_udm2.tif',\n",
       "  './Data/smalltest/local_images/PSScene4Band/cloudmasks/20231212_143237_composite_udm2.tif',\n",
       "  './Data/smalltest/local_images/PSScene4Band/cloudmasks/20231214_142836_composite_udm2.tif',\n",
       "  './Data/smalltest/local_images/PSScene4Band/cloudmasks/20231221_151224_composite_udm2.tif',\n",
       "  './Data/smalltest/local_images/PSScene4Band/cloudmasks/20231222_151106_composite_udm2.tif']]"
      ]
     },
     "execution_count": 14,
     "metadata": {},
     "output_type": "execute_result"
    }
   ],
   "source": [
    "# Remove the first two empty lists manually\n",
    "Sat = [s for s in Sat if len(s) > 0]\n",
    "Sat"
   ]
  },
  {
   "cell_type": "code",
   "execution_count": 15,
   "id": "b38cdd10-7217-4dc6-b0f4-b12b2b8a137f",
   "metadata": {
    "execution": {
     "iopub.execute_input": "2025-06-09T15:33:35.179286Z",
     "iopub.status.busy": "2025-06-09T15:33:35.179036Z",
     "iopub.status.idle": "2025-06-09T15:33:35.184120Z",
     "shell.execute_reply": "2025-06-09T15:33:35.183468Z",
     "shell.execute_reply.started": "2025-06-09T15:33:35.179266Z"
    }
   },
   "outputs": [
    {
     "data": {
      "text/html": [
       "\n",
       "            <style>\n",
       "                .geemap-dark {\n",
       "                    --jp-widgets-color: white;\n",
       "                    --jp-widgets-label-color: white;\n",
       "                    --jp-ui-font-color1: white;\n",
       "                    --jp-layout-color2: #454545;\n",
       "                    background-color: #383838;\n",
       "                }\n",
       "\n",
       "                .geemap-dark .jupyter-button {\n",
       "                    --jp-layout-color3: #383838;\n",
       "                }\n",
       "\n",
       "                .geemap-colab {\n",
       "                    background-color: var(--colab-primary-surface-color, white);\n",
       "                }\n",
       "\n",
       "                .geemap-colab .jupyter-button {\n",
       "                    --jp-layout-color3: var(--colab-primary-surface-color, white);\n",
       "                }\n",
       "            </style>\n",
       "            "
      ],
      "text/plain": [
       "<IPython.core.display.HTML object>"
      ]
     },
     "metadata": {},
     "output_type": "display_data"
    }
   ],
   "source": [
    "metadata = {}\n",
    "\n",
    "for i in range(len(inputs['sat_list'])):\n",
    "    metadata[inputs['sat_list'][i]] = {\n",
    "        'filenames': [], \n",
    "        'acc_georef': [], \n",
    "        'epsg': [], \n",
    "        'dates': []\n",
    "    }"
   ]
  },
  {
   "cell_type": "code",
   "execution_count": 16,
   "id": "aed5b6f8",
   "metadata": {
    "execution": {
     "iopub.execute_input": "2025-06-09T15:33:35.185256Z",
     "iopub.status.busy": "2025-06-09T15:33:35.184874Z",
     "iopub.status.idle": "2025-06-09T15:33:35.313124Z",
     "shell.execute_reply": "2025-06-09T15:33:35.312507Z",
     "shell.execute_reply.started": "2025-06-09T15:33:35.185222Z"
    }
   },
   "outputs": [
    {
     "data": {
      "text/html": [
       "\n",
       "            <style>\n",
       "                .geemap-dark {\n",
       "                    --jp-widgets-color: white;\n",
       "                    --jp-widgets-label-color: white;\n",
       "                    --jp-ui-font-color1: white;\n",
       "                    --jp-layout-color2: #454545;\n",
       "                    background-color: #383838;\n",
       "                }\n",
       "\n",
       "                .geemap-dark .jupyter-button {\n",
       "                    --jp-layout-color3: #383838;\n",
       "                }\n",
       "\n",
       "                .geemap-colab {\n",
       "                    background-color: var(--colab-primary-surface-color, white);\n",
       "                }\n",
       "\n",
       "                .geemap-colab .jupyter-button {\n",
       "                    --jp-layout-color3: var(--colab-primary-surface-color, white);\n",
       "                }\n",
       "            </style>\n",
       "            "
      ],
      "text/plain": [
       "<IPython.core.display.HTML object>"
      ]
     },
     "metadata": {},
     "output_type": "display_data"
    },
    {
     "name": "stdout",
     "output_type": "stream",
     "text": [
      "PSScene4Band :  2.4390243902439024 %PSScene4Band :  4.878048780487805 %PSScene4Band :  7.317073170731708 %PSScene4Band :  9.75609756097561 %PSScene4Band :  12.195121951219512 %PSScene4Band :  14.634146341463415 %PSScene4Band :  17.073170731707318 %PSScene4Band :  19.51219512195122 %PSScene4Band :  21.951219512195124 %PSScene4Band :  24.390243902439025 %PSScene4Band :  26.829268292682926 %PSScene4Band :  29.26829268292683 %PSScene4Band :  31.70731707317073 %PSScene4Band :  34.146341463414636 %PSScene4Band :  36.58536585365854 %PSScene4Band :  39.02439024390244 %PSScene4Band :  41.46341463414634 %PSScene4Band :  43.90243902439025 %PSScene4Band :  46.34146341463415 %PSScene4Band :  48.78048780487805 %PSScene4Band :  51.21951219512195 %PSScene4Band :  53.65853658536585 %PSScene4Band :  56.09756097560975 %PSScene4Band :  58.53658536585366 %PSScene4Band :  60.97560975609756 %PSScene4Band :  63.41463414634146 %PSScene4Band :  65.85365853658537 %PSScene4Band :  68.29268292682927 %PSScene4Band :  70.73170731707317 %PSScene4Band :  73.17073170731707 %PSScene4Band :  75.60975609756098 %PSScene4Band :  78.04878048780488 %PSScene4Band :  80.48780487804878 %PSScene4Band :  82.92682926829268 %PSScene4Band :  85.36585365853658 %PSScene4Band :  87.8048780487805 %PSScene4Band :  90.2439024390244 %PSScene4Band :  92.6829268292683 %PSScene4Band :  95.1219512195122 %PSScene4Band :  97.5609756097561 %PSScene4Band :  100.0 %"
     ]
    }
   ],
   "source": [
    "metadata = Download.CollectMetadata(inputs, Sat)"
   ]
  },
  {
   "cell_type": "code",
   "execution_count": 17,
   "id": "0dd56d8a-bdc8-48d8-9fa3-a01dd2b115f3",
   "metadata": {
    "execution": {
     "iopub.execute_input": "2025-06-09T15:33:35.315027Z",
     "iopub.status.busy": "2025-06-09T15:33:35.314730Z",
     "iopub.status.idle": "2025-06-09T15:33:35.319798Z",
     "shell.execute_reply": "2025-06-09T15:33:35.319187Z",
     "shell.execute_reply.started": "2025-06-09T15:33:35.315005Z"
    }
   },
   "outputs": [
    {
     "data": {
      "text/html": [
       "\n",
       "            <style>\n",
       "                .geemap-dark {\n",
       "                    --jp-widgets-color: white;\n",
       "                    --jp-widgets-label-color: white;\n",
       "                    --jp-ui-font-color1: white;\n",
       "                    --jp-layout-color2: #454545;\n",
       "                    background-color: #383838;\n",
       "                }\n",
       "\n",
       "                .geemap-dark .jupyter-button {\n",
       "                    --jp-layout-color3: #383838;\n",
       "                }\n",
       "\n",
       "                .geemap-colab {\n",
       "                    background-color: var(--colab-primary-surface-color, white);\n",
       "                }\n",
       "\n",
       "                .geemap-colab .jupyter-button {\n",
       "                    --jp-layout-color3: var(--colab-primary-surface-color, white);\n",
       "                }\n",
       "            </style>\n",
       "            "
      ],
      "text/plain": [
       "<IPython.core.display.HTML object>"
      ]
     },
     "metadata": {},
     "output_type": "display_data"
    },
    {
     "name": "stdout",
     "output_type": "stream",
     "text": [
      "dict_keys(['PSScene4Band'])\n",
      "dict_keys(['filenames', 'acc_georef', 'epsg', 'dates'])\n"
     ]
    }
   ],
   "source": [
    "print(metadata.keys())  # Should print: dict_keys(['PlanetScope'])\n",
    "print(metadata['PSScene4Band'].keys())  # Should print: dict_keys(['filenames', 'acc_georef', 'epsg', 'dates'])"
   ]
  },
  {
   "cell_type": "code",
   "execution_count": 18,
   "id": "ef6dc64f-9e3a-492c-a16f-3a8aa71cf12f",
   "metadata": {
    "execution": {
     "iopub.execute_input": "2025-06-09T15:33:35.320960Z",
     "iopub.status.busy": "2025-06-09T15:33:35.320590Z",
     "iopub.status.idle": "2025-06-09T15:33:35.326713Z",
     "shell.execute_reply": "2025-06-09T15:33:35.326141Z",
     "shell.execute_reply.started": "2025-06-09T15:33:35.320925Z"
    }
   },
   "outputs": [
    {
     "data": {
      "text/html": [
       "\n",
       "            <style>\n",
       "                .geemap-dark {\n",
       "                    --jp-widgets-color: white;\n",
       "                    --jp-widgets-label-color: white;\n",
       "                    --jp-ui-font-color1: white;\n",
       "                    --jp-layout-color2: #454545;\n",
       "                    background-color: #383838;\n",
       "                }\n",
       "\n",
       "                .geemap-dark .jupyter-button {\n",
       "                    --jp-layout-color3: #383838;\n",
       "                }\n",
       "\n",
       "                .geemap-colab {\n",
       "                    background-color: var(--colab-primary-surface-color, white);\n",
       "                }\n",
       "\n",
       "                .geemap-colab .jupyter-button {\n",
       "                    --jp-layout-color3: var(--colab-primary-surface-color, white);\n",
       "                }\n",
       "            </style>\n",
       "            "
      ],
      "text/plain": [
       "<IPython.core.display.HTML object>"
      ]
     },
     "metadata": {},
     "output_type": "display_data"
    },
    {
     "name": "stdout",
     "output_type": "stream",
     "text": [
      "{'PSScene4Band': {'filenames': ['./Data/smalltest/local_images/PSScene4Band/20230122_145737_composite.tif', './Data/smalltest/local_images/PSScene4Band/20230125_145749_composite.tif', './Data/smalltest/local_images/PSScene4Band/20230130_145850_composite.tif', './Data/smalltest/local_images/PSScene4Band/20230201_145924_composite.tif', './Data/smalltest/local_images/PSScene4Band/20230202_145416_composite.tif', './Data/smalltest/local_images/PSScene4Band/20230203_150425_composite.tif', './Data/smalltest/local_images/PSScene4Band/20230216_145439_composite.tif', './Data/smalltest/local_images/PSScene4Band/20230225_150309_composite.tif', './Data/smalltest/local_images/PSScene4Band/20230227_145353_composite.tif', './Data/smalltest/local_images/PSScene4Band/20230305_145613_composite.tif', './Data/smalltest/local_images/PSScene4Band/20230312_145925_composite.tif', './Data/smalltest/local_images/PSScene4Band/20230320_145520_composite.tif', './Data/smalltest/local_images/PSScene4Band/20230321_145541_composite.tif', './Data/smalltest/local_images/PSScene4Band/20230322_145437_composite.tif', './Data/smalltest/local_images/PSScene4Band/20230408_145736_composite.tif', './Data/smalltest/local_images/PSScene4Band/20230410_151149_composite.tif', './Data/smalltest/local_images/PSScene4Band/20230414_145624_composite.tif', './Data/smalltest/local_images/PSScene4Band/20230421_150059_composite.tif', './Data/smalltest/local_images/PSScene4Band/20230507_142547_composite.tif', './Data/smalltest/local_images/PSScene4Band/20230508_142757_composite.tif', './Data/smalltest/local_images/PSScene4Band/20230513_145942_composite.tif', './Data/smalltest/local_images/PSScene4Band/20230515_142406_composite.tif', './Data/smalltest/local_images/PSScene4Band/20230527_150143_composite.tif', './Data/smalltest/local_images/PSScene4Band/20230528_142548_composite.tif', './Data/smalltest/local_images/PSScene4Band/20230530_142413_composite.tif', './Data/smalltest/local_images/PSScene4Band/20230601_145949_composite.tif', './Data/smalltest/local_images/PSScene4Band/20230622_150103_composite.tif', './Data/smalltest/local_images/PSScene4Band/20230623_150056_composite.tif', './Data/smalltest/local_images/PSScene4Band/20230728_151647_composite.tif', './Data/smalltest/local_images/PSScene4Band/20230806_142254_composite.tif', './Data/smalltest/local_images/PSScene4Band/20230901_150444_composite.tif', './Data/smalltest/local_images/PSScene4Band/20230922_142847_composite.tif', './Data/smalltest/local_images/PSScene4Band/20231024_150651_composite.tif', './Data/smalltest/local_images/PSScene4Band/20231115_143159_composite.tif', './Data/smalltest/local_images/PSScene4Band/20231119_153025_composite.tif', './Data/smalltest/local_images/PSScene4Band/20231121_151220_composite.tif', './Data/smalltest/local_images/PSScene4Band/20231124_143352_composite.tif', './Data/smalltest/local_images/PSScene4Band/20231212_143237_composite.tif', './Data/smalltest/local_images/PSScene4Band/20231214_142836_composite.tif', './Data/smalltest/local_images/PSScene4Band/20231221_151224_composite.tif', './Data/smalltest/local_images/PSScene4Band/20231222_151106_composite.tif'], 'acc_georef': [[3.0, 0.0, 705942.0, 0.0, -3.0, 5009361.0], [3.0, 0.0, 705942.0, 0.0, -3.0, 5009361.0], [3.0, 0.0, 705942.0, 0.0, -3.0, 5009361.0], [3.0, 0.0, 705942.0, 0.0, -3.0, 5009361.0], [3.0, 0.0, 705942.0, 0.0, -3.0, 5009361.0], [3.0, 0.0, 705942.0, 0.0, -3.0, 5009361.0], [3.0, 0.0, 705942.0, 0.0, -3.0, 5009361.0], [3.0, 0.0, 705942.0, 0.0, -3.0, 5009361.0], [3.0, 0.0, 705942.0, 0.0, -3.0, 5009361.0], [3.0, 0.0, 705942.0, 0.0, -3.0, 5009361.0], [3.0, 0.0, 705942.0, 0.0, -3.0, 5009361.0], [3.0, 0.0, 705942.0, 0.0, -3.0, 5009361.0], [3.0, 0.0, 705942.0, 0.0, -3.0, 5009361.0], [3.0, 0.0, 705942.0, 0.0, -3.0, 5009361.0], [3.0, 0.0, 705942.0, 0.0, -3.0, 5009361.0], [3.0, 0.0, 705942.0, 0.0, -3.0, 5009361.0], [3.0, 0.0, 705942.0, 0.0, -3.0, 5009361.0], [3.0, 0.0, 705942.0, 0.0, -3.0, 5009361.0], [3.0, 0.0, 705942.0, 0.0, -3.0, 5009361.0], [3.0, 0.0, 705942.0, 0.0, -3.0, 5009361.0], [3.0, 0.0, 705942.0, 0.0, -3.0, 5009361.0], [3.0, 0.0, 705942.0, 0.0, -3.0, 5009361.0], [3.0, 0.0, 705942.0, 0.0, -3.0, 5009361.0], [3.0, 0.0, 705942.0, 0.0, -3.0, 5009361.0], [3.0, 0.0, 705942.0, 0.0, -3.0, 5009361.0], [3.0, 0.0, 705942.0, 0.0, -3.0, 5009361.0], [3.0, 0.0, 705942.0, 0.0, -3.0, 5009361.0], [3.0, 0.0, 705942.0, 0.0, -3.0, 5009361.0], [3.0, 0.0, 705942.0, 0.0, -3.0, 5009361.0], [3.0, 0.0, 705942.0, 0.0, -3.0, 5009361.0], [3.0, 0.0, 705942.0, 0.0, -3.0, 5009361.0], [3.0, 0.0, 705942.0, 0.0, -3.0, 5009361.0], [3.0, 0.0, 705942.0, 0.0, -3.0, 5009361.0], [3.0, 0.0, 705942.0, 0.0, -3.0, 5009361.0], [3.0, 0.0, 705942.0, 0.0, -3.0, 5009361.0], [3.0, 0.0, 705942.0, 0.0, -3.0, 5009361.0], [3.0, 0.0, 705942.0, 0.0, -3.0, 5009361.0], [3.0, 0.0, 705942.0, 0.0, -3.0, 5009361.0], [3.0, 0.0, 705942.0, 0.0, -3.0, 5009361.0], [3.0, 0.0, 705942.0, 0.0, -3.0, 5009361.0], [3.0, 0.0, 705942.0, 0.0, -3.0, 5009361.0]], 'epsg': ['32619', '32619', '32619', '32619', '32619', '32619', '32619', '32619', '32619', '32619', '32619', '32619', '32619', '32619', '32619', '32619', '32619', '32619', '32619', '32619', '32619', '32619', '32619', '32619', '32619', '32619', '32619', '32619', '32619', '32619', '32619', '32619', '32619', '32619', '32619', '32619', '32619', '32619', '32619', '32619', '32619'], 'dates': ['2023-01-22', '2023-01-25', '2023-01-30', '2023-02-01', '2023-02-02', '2023-02-03', '2023-02-16', '2023-02-25', '2023-02-27', '2023-03-05', '2023-03-12', '2023-03-20', '2023-03-21', '2023-03-22', '2023-04-08', '2023-04-10', '2023-04-14', '2023-04-21', '2023-05-07', '2023-05-08', '2023-05-13', '2023-05-15', '2023-05-27', '2023-05-28', '2023-05-30', '2023-06-01', '2023-06-22', '2023-06-23', '2023-07-28', '2023-08-06', '2023-09-01', '2023-09-22', '2023-10-24', '2023-11-15', '2023-11-19', '2023-11-21', '2023-11-24', '2023-12-12', '2023-12-14', '2023-12-21', '2023-12-22']}}\n"
     ]
    }
   ],
   "source": [
    "print(metadata)"
   ]
  },
  {
   "cell_type": "markdown",
   "id": "869efa15",
   "metadata": {},
   "source": [
    "# Veg detection"
   ]
  },
  {
   "cell_type": "markdown",
   "id": "b5d6f5f1",
   "metadata": {},
   "source": [
    "### settings"
   ]
  },
  {
   "cell_type": "code",
   "execution_count": 19,
   "id": "ae765feb",
   "metadata": {
    "execution": {
     "iopub.execute_input": "2025-06-09T15:33:35.327699Z",
     "iopub.status.busy": "2025-06-09T15:33:35.327407Z",
     "iopub.status.idle": "2025-06-09T15:33:35.332969Z",
     "shell.execute_reply": "2025-06-09T15:33:35.332367Z",
     "shell.execute_reply.started": "2025-06-09T15:33:35.327678Z"
    }
   },
   "outputs": [
    {
     "data": {
      "text/html": [
       "\n",
       "            <style>\n",
       "                .geemap-dark {\n",
       "                    --jp-widgets-color: white;\n",
       "                    --jp-widgets-label-color: white;\n",
       "                    --jp-ui-font-color1: white;\n",
       "                    --jp-layout-color2: #454545;\n",
       "                    background-color: #383838;\n",
       "                }\n",
       "\n",
       "                .geemap-dark .jupyter-button {\n",
       "                    --jp-layout-color3: #383838;\n",
       "                }\n",
       "\n",
       "                .geemap-colab {\n",
       "                    background-color: var(--colab-primary-surface-color, white);\n",
       "                }\n",
       "\n",
       "                .geemap-colab .jupyter-button {\n",
       "                    --jp-layout-color3: var(--colab-primary-surface-color, white);\n",
       "                }\n",
       "            </style>\n",
       "            "
      ],
      "text/plain": [
       "<IPython.core.display.HTML object>"
      ]
     },
     "metadata": {},
     "output_type": "display_data"
    }
   ],
   "source": [
    "BasePath = 'Data/' + sitename + '/lines'\n",
    "\n",
    "if not os.path.isdir(BasePath):\n",
    "    os.makedirs(BasePath)\n",
    "\n",
    "projection_epsg, _ = Toolbox.FindUTM(polygon[0][0][1],polygon[0][0][0])"
   ]
  },
  {
   "cell_type": "code",
   "execution_count": 20,
   "id": "92128ff8",
   "metadata": {
    "execution": {
     "iopub.execute_input": "2025-06-09T15:33:35.333915Z",
     "iopub.status.busy": "2025-06-09T15:33:35.333622Z",
     "iopub.status.idle": "2025-06-09T15:33:35.339420Z",
     "shell.execute_reply": "2025-06-09T15:33:35.338856Z",
     "shell.execute_reply.started": "2025-06-09T15:33:35.333877Z"
    }
   },
   "outputs": [
    {
     "data": {
      "text/html": [
       "\n",
       "            <style>\n",
       "                .geemap-dark {\n",
       "                    --jp-widgets-color: white;\n",
       "                    --jp-widgets-label-color: white;\n",
       "                    --jp-ui-font-color1: white;\n",
       "                    --jp-layout-color2: #454545;\n",
       "                    background-color: #383838;\n",
       "                }\n",
       "\n",
       "                .geemap-dark .jupyter-button {\n",
       "                    --jp-layout-color3: #383838;\n",
       "                }\n",
       "\n",
       "                .geemap-colab {\n",
       "                    background-color: var(--colab-primary-surface-color, white);\n",
       "                }\n",
       "\n",
       "                .geemap-colab .jupyter-button {\n",
       "                    --jp-layout-color3: var(--colab-primary-surface-color, white);\n",
       "                }\n",
       "            </style>\n",
       "            "
      ],
      "text/plain": [
       "<IPython.core.display.HTML object>"
      ]
     },
     "metadata": {},
     "output_type": "display_data"
    }
   ],
   "source": [
    "settings = {\n",
    "    # general parameters:\n",
    "    'cloud_thresh': cloud_thresh,        # threshold on maximum cloud cover\n",
    "    'output_epsg': projection_epsg,     # epsg code of spatial reference system desired for the output   \n",
    "    'wetdry': wetdry,              # extract wet-dry boundary as well as veg\n",
    "    # quality control:\n",
    "    'check_detection': False,    # if True, shows each shoreline detection to the user for validation\n",
    "    'adjust_detection': False,  # if True, allows user to adjust the postion of each shoreline by changing the threhold\n",
    "    'save_figure': True,        # if True, saves a figure showing the mapped shoreline for each image\n",
    "    # [ONLY FOR ADVANCED USERS] shoreline detection parameters:\n",
    "    'min_beach_area': 200,     # minimum area (in metres^2) for an object to be labelled as a beach\n",
    "    'buffer_size': 150,         # radius (in metres) for buffer around sandy pixels considered in the shoreline detection\n",
    "    'min_length_sl': 500,       # minimum length (in metres) of shoreline perimeter to be valid\n",
    "    'cloud_mask_issue': False,  # switch this parameter to True if sand pixels are masked (in black) on many images  \n",
    "    # add the inputs defined previously\n",
    "    'inputs': inputs,\n",
    "    'projection_epsg': projection_epsg,\n",
    "    'year_list': years,\n",
    "}"
   ]
  },
  {
   "cell_type": "code",
   "execution_count": 21,
   "id": "93caa45e-cda2-4120-a3b4-3aeb81b3b6b6",
   "metadata": {
    "execution": {
     "iopub.execute_input": "2025-06-09T15:33:35.340388Z",
     "iopub.status.busy": "2025-06-09T15:33:35.340099Z",
     "iopub.status.idle": "2025-06-09T15:33:35.345988Z",
     "shell.execute_reply": "2025-06-09T15:33:35.345407Z",
     "shell.execute_reply.started": "2025-06-09T15:33:35.340367Z"
    }
   },
   "outputs": [
    {
     "data": {
      "text/html": [
       "\n",
       "            <style>\n",
       "                .geemap-dark {\n",
       "                    --jp-widgets-color: white;\n",
       "                    --jp-widgets-label-color: white;\n",
       "                    --jp-ui-font-color1: white;\n",
       "                    --jp-layout-color2: #454545;\n",
       "                    background-color: #383838;\n",
       "                }\n",
       "\n",
       "                .geemap-dark .jupyter-button {\n",
       "                    --jp-layout-color3: #383838;\n",
       "                }\n",
       "\n",
       "                .geemap-colab {\n",
       "                    background-color: var(--colab-primary-surface-color, white);\n",
       "                }\n",
       "\n",
       "                .geemap-colab .jupyter-button {\n",
       "                    --jp-layout-color3: var(--colab-primary-surface-color, white);\n",
       "                }\n",
       "            </style>\n",
       "            "
      ],
      "text/plain": [
       "<IPython.core.display.HTML object>"
      ]
     },
     "metadata": {},
     "output_type": "display_data"
    },
    {
     "name": "stdout",
     "output_type": "stream",
     "text": [
      "['PSScene4Band']\n",
      "PSScene4Band\n"
     ]
    }
   ],
   "source": [
    "print(settings['inputs']['sat_list'])\n",
    "print(settings['inputs']['sat_list'][0])"
   ]
  },
  {
   "cell_type": "code",
   "execution_count": 22,
   "id": "46da880a-0555-4606-ab52-838cb24596ca",
   "metadata": {
    "execution": {
     "iopub.execute_input": "2025-06-09T15:33:35.347110Z",
     "iopub.status.busy": "2025-06-09T15:33:35.346719Z",
     "iopub.status.idle": "2025-06-09T15:33:35.352046Z",
     "shell.execute_reply": "2025-06-09T15:33:35.351506Z",
     "shell.execute_reply.started": "2025-06-09T15:33:35.347076Z"
    }
   },
   "outputs": [
    {
     "data": {
      "text/html": [
       "\n",
       "            <style>\n",
       "                .geemap-dark {\n",
       "                    --jp-widgets-color: white;\n",
       "                    --jp-widgets-label-color: white;\n",
       "                    --jp-ui-font-color1: white;\n",
       "                    --jp-layout-color2: #454545;\n",
       "                    background-color: #383838;\n",
       "                }\n",
       "\n",
       "                .geemap-dark .jupyter-button {\n",
       "                    --jp-layout-color3: #383838;\n",
       "                }\n",
       "\n",
       "                .geemap-colab {\n",
       "                    background-color: var(--colab-primary-surface-color, white);\n",
       "                }\n",
       "\n",
       "                .geemap-colab .jupyter-button {\n",
       "                    --jp-layout-color3: var(--colab-primary-surface-color, white);\n",
       "                }\n",
       "            </style>\n",
       "            "
      ],
      "text/plain": [
       "<IPython.core.display.HTML object>"
      ]
     },
     "metadata": {},
     "output_type": "display_data"
    },
    {
     "name": "stdout",
     "output_type": "stream",
     "text": [
      "metadata[PSScene4Band]['acc_georef']: [[3.0, 0.0, 705942.0, 0.0, -3.0, 5009361.0], [3.0, 0.0, 705942.0, 0.0, -3.0, 5009361.0], [3.0, 0.0, 705942.0, 0.0, -3.0, 5009361.0], [3.0, 0.0, 705942.0, 0.0, -3.0, 5009361.0], [3.0, 0.0, 705942.0, 0.0, -3.0, 5009361.0], [3.0, 0.0, 705942.0, 0.0, -3.0, 5009361.0], [3.0, 0.0, 705942.0, 0.0, -3.0, 5009361.0], [3.0, 0.0, 705942.0, 0.0, -3.0, 5009361.0], [3.0, 0.0, 705942.0, 0.0, -3.0, 5009361.0], [3.0, 0.0, 705942.0, 0.0, -3.0, 5009361.0], [3.0, 0.0, 705942.0, 0.0, -3.0, 5009361.0], [3.0, 0.0, 705942.0, 0.0, -3.0, 5009361.0], [3.0, 0.0, 705942.0, 0.0, -3.0, 5009361.0], [3.0, 0.0, 705942.0, 0.0, -3.0, 5009361.0], [3.0, 0.0, 705942.0, 0.0, -3.0, 5009361.0], [3.0, 0.0, 705942.0, 0.0, -3.0, 5009361.0], [3.0, 0.0, 705942.0, 0.0, -3.0, 5009361.0], [3.0, 0.0, 705942.0, 0.0, -3.0, 5009361.0], [3.0, 0.0, 705942.0, 0.0, -3.0, 5009361.0], [3.0, 0.0, 705942.0, 0.0, -3.0, 5009361.0], [3.0, 0.0, 705942.0, 0.0, -3.0, 5009361.0], [3.0, 0.0, 705942.0, 0.0, -3.0, 5009361.0], [3.0, 0.0, 705942.0, 0.0, -3.0, 5009361.0], [3.0, 0.0, 705942.0, 0.0, -3.0, 5009361.0], [3.0, 0.0, 705942.0, 0.0, -3.0, 5009361.0], [3.0, 0.0, 705942.0, 0.0, -3.0, 5009361.0], [3.0, 0.0, 705942.0, 0.0, -3.0, 5009361.0], [3.0, 0.0, 705942.0, 0.0, -3.0, 5009361.0], [3.0, 0.0, 705942.0, 0.0, -3.0, 5009361.0], [3.0, 0.0, 705942.0, 0.0, -3.0, 5009361.0], [3.0, 0.0, 705942.0, 0.0, -3.0, 5009361.0], [3.0, 0.0, 705942.0, 0.0, -3.0, 5009361.0], [3.0, 0.0, 705942.0, 0.0, -3.0, 5009361.0], [3.0, 0.0, 705942.0, 0.0, -3.0, 5009361.0], [3.0, 0.0, 705942.0, 0.0, -3.0, 5009361.0], [3.0, 0.0, 705942.0, 0.0, -3.0, 5009361.0], [3.0, 0.0, 705942.0, 0.0, -3.0, 5009361.0], [3.0, 0.0, 705942.0, 0.0, -3.0, 5009361.0], [3.0, 0.0, 705942.0, 0.0, -3.0, 5009361.0], [3.0, 0.0, 705942.0, 0.0, -3.0, 5009361.0], [3.0, 0.0, 705942.0, 0.0, -3.0, 5009361.0]]\n"
     ]
    }
   ],
   "source": [
    "print(f\"metadata[{settings['inputs']['sat_list'][0]}]['acc_georef']: {metadata[settings['inputs']['sat_list'][0]]['acc_georef']}\")"
   ]
  },
  {
   "cell_type": "markdown",
   "id": "c27252aa",
   "metadata": {},
   "source": [
    "# Vegetation Line Extraction"
   ]
  },
  {
   "cell_type": "markdown",
   "id": "ab4aca4b",
   "metadata": {},
   "source": [
    "##### first time detection: "
   ]
  },
  {
   "cell_type": "code",
   "execution_count": 23,
   "id": "fcfad612",
   "metadata": {
    "execution": {
     "iopub.execute_input": "2025-06-09T15:33:35.352868Z",
     "iopub.status.busy": "2025-06-09T15:33:35.352672Z",
     "iopub.status.idle": "2025-06-09T15:33:35.369455Z",
     "shell.execute_reply": "2025-06-09T15:33:35.368790Z",
     "shell.execute_reply.started": "2025-06-09T15:33:35.352849Z"
    }
   },
   "outputs": [
    {
     "data": {
      "text/html": [
       "\n",
       "            <style>\n",
       "                .geemap-dark {\n",
       "                    --jp-widgets-color: white;\n",
       "                    --jp-widgets-label-color: white;\n",
       "                    --jp-ui-font-color1: white;\n",
       "                    --jp-layout-color2: #454545;\n",
       "                    background-color: #383838;\n",
       "                }\n",
       "\n",
       "                .geemap-dark .jupyter-button {\n",
       "                    --jp-layout-color3: #383838;\n",
       "                }\n",
       "\n",
       "                .geemap-colab {\n",
       "                    background-color: var(--colab-primary-surface-color, white);\n",
       "                }\n",
       "\n",
       "                .geemap-colab .jupyter-button {\n",
       "                    --jp-layout-color3: var(--colab-primary-surface-color, white);\n",
       "                }\n",
       "            </style>\n",
       "            "
      ],
      "text/plain": [
       "<IPython.core.display.HTML object>"
      ]
     },
     "metadata": {},
     "output_type": "display_data"
    }
   ],
   "source": [
    "referenceLine, ref_epsg = Toolbox.ProcessRefline(referenceLinePath, settings)\n",
    "settings['reference_shoreline'] = referenceLine\n",
    "settings['ref_epsg'] = ref_epsg\n",
    "# Distance to buffer reference line by (this is in metres)\n",
    "settings['max_dist_ref'] = max_dist_ref\n",
    "\n",
    "settings['reference_coreg_im'] = None # leave as None if no coregistration is to be performed"
   ]
  },
  {
   "cell_type": "code",
   "execution_count": null,
   "id": "255b6814-c4f1-46ce-a48f-2442b7507721",
   "metadata": {},
   "outputs": [],
   "source": [
    "print(settings)"
   ]
  },
  {
   "cell_type": "code",
   "execution_count": null,
   "id": "3021f37d",
   "metadata": {
    "execution": {
     "iopub.execute_input": "2025-06-09T15:33:51.334483Z",
     "iopub.status.busy": "2025-06-09T15:33:51.334048Z"
    }
   },
   "outputs": [
    {
     "data": {
      "text/html": [
       "\n",
       "            <style>\n",
       "                .geemap-dark {\n",
       "                    --jp-widgets-color: white;\n",
       "                    --jp-widgets-label-color: white;\n",
       "                    --jp-ui-font-color1: white;\n",
       "                    --jp-layout-color2: #454545;\n",
       "                    background-color: #383838;\n",
       "                }\n",
       "\n",
       "                .geemap-dark .jupyter-button {\n",
       "                    --jp-layout-color3: #383838;\n",
       "                }\n",
       "\n",
       "                .geemap-colab {\n",
       "                    background-color: var(--colab-primary-surface-color, white);\n",
       "                }\n",
       "\n",
       "                .geemap-colab .jupyter-button {\n",
       "                    --jp-layout-color3: var(--colab-primary-surface-color, white);\n",
       "                }\n",
       "            </style>\n",
       "            "
      ],
      "text/plain": [
       "<IPython.core.display.HTML object>"
      ]
     },
     "metadata": {},
     "output_type": "display_data"
    },
    {
     "name": "stdout",
     "output_type": "stream",
     "text": [
      "Mapping veglines:\n",
      "PSScene4Band:   2.439 % "
     ]
    }
   ],
   "source": [
    "output, output_latlon, output_proj = VegetationLine.extract_veglines(metadata, settings, polygon, dates)"
   ]
  },
  {
   "cell_type": "markdown",
   "id": "546eb51b",
   "metadata": {},
   "source": [
    "##### second time load in:"
   ]
  },
  {
   "cell_type": "code",
   "execution_count": null,
   "id": "593b79dd",
   "metadata": {},
   "outputs": [],
   "source": [
    "output, output_latlon, output_proj = Toolbox.ReadOutput(inputs)\n",
    "\n",
    "# Remove Duplicate Lines\n",
    "# For images taken on the same date by the same satellite, keep only the longest line\n",
    "output = Toolbox.RemoveDuplicates(output) "
   ]
  },
  {
   "cell_type": "markdown",
   "id": "4da28e4f",
   "metadata": {},
   "source": [
    "##### save outcome to local shapefile"
   ]
  },
  {
   "cell_type": "code",
   "execution_count": null,
   "id": "110fc866",
   "metadata": {},
   "outputs": [],
   "source": [
    "# Save output veglines \n",
    "Toolbox.SaveConvShapefiles(output, BasePath, sitename, settings['output_epsg'])\n",
    "# Save output shorelines if they were generated\n",
    "if settings['wetdry'] == True:\n",
    "    Toolbox.SaveConvShapefiles_Water(output, BasePath, sitename, settings['output_epsg'])"
   ]
  },
  {
   "cell_type": "markdown",
   "id": "974b1c26",
   "metadata": {},
   "source": [
    "# Transects detection"
   ]
  },
  {
   "cell_type": "markdown",
   "id": "29494951",
   "metadata": {},
   "source": [
    "#### basics"
   ]
  },
  {
   "cell_type": "markdown",
   "id": "31431976",
   "metadata": {},
   "source": [
    "##### settings"
   ]
  },
  {
   "cell_type": "code",
   "execution_count": null,
   "id": "3ddfdcdd",
   "metadata": {},
   "outputs": [],
   "source": [
    "# settings\n",
    "SmoothingWindowSize = 21 \n",
    "NoSmooths = 100\n",
    "TransectSpacing = 10\n",
    "DistanceInland = 100\n",
    "DistanceOffshore = 100\n",
    "\n",
    "# Provide average beach slope (tanBeta) for site, for calculating corrected beach widths\n",
    "# Set to 'None' if you want to use CoastSat.slope to calculate per-transect slopes for correcting with\n",
    "beachslope = None"
   ]
  },
  {
   "cell_type": "markdown",
   "id": "76da3af6",
   "metadata": {},
   "source": [
    "##### cross-shorelines transects"
   ]
  },
  {
   "cell_type": "code",
   "execution_count": null,
   "id": "b72a094b",
   "metadata": {},
   "outputs": [],
   "source": [
    "VegBasePath = 'Data/' + sitename + '/lines'\n",
    "VeglineShp = glob.glob(BasePath+'/*veglines.shp')\n",
    "VeglineGDF = gpd.read_file(VeglineShp[0])\n",
    "VeglineGDF = VeglineGDF.sort_values(by='dates') # sort GDF by dates to ensure transect intersects occur in chronological order\n",
    "VeglineGDF = VeglineGDF.reset_index(drop=True) # reset GDF index after date sorting\n",
    "if settings['wetdry'] == True:\n",
    "    WaterlineShp = glob.glob(BasePath+'/*waterlines.shp')\n",
    "    WaterlineGDF = gpd.read_file(WaterlineShp[0])\n",
    "    WaterlineGDF = WaterlineGDF.sort_values(by='dates') # as above with VeglineGDF date sorting\n",
    "    WaterlineGDF = WaterlineGDF.reset_index(drop=True)\n",
    "# Produces Transects for the reference line\n",
    "TransectSpec =  os.path.join(BasePath, sitename+'_Transects.shp')\n",
    "\n",
    "# If transects already exist, load them in\n",
    "if os.path.isfile(TransectSpec[:-3]+'pkl') is False:\n",
    "    TransectGDF = Transects.ProduceTransects(settings, SmoothingWindowSize, NoSmooths, TransectSpacing, DistanceInland, DistanceOffshore, VegBasePath, referenceLineShp)\n",
    "else:\n",
    "    print('Transects already exist and were loaded')\n",
    "    with open(TransectSpec[:-3]+'pkl', 'rb') as Tfile: \n",
    "        TransectGDF = pickle.load(Tfile)\n",
    "    \n",
    "# make new transect intersections folder\n",
    "if os.path.isdir(os.path.join(filepath, sitename, 'intersections')) is False:\n",
    "    os.mkdir(os.path.join(filepath, sitename, 'intersections'))"
   ]
  },
  {
   "cell_type": "markdown",
   "id": "d255989a",
   "metadata": {},
   "source": [
    "##### veg edges intersection along each transect"
   ]
  },
  {
   "cell_type": "code",
   "execution_count": null,
   "id": "5f78481b",
   "metadata": {},
   "outputs": [],
   "source": [
    "if os.path.isfile(os.path.join(filepath, sitename, 'intersections', sitename + '_transect_intersects.pkl')):\n",
    "    print('Transect Intersect GDF exists and was loaded')\n",
    "    with open(os.path.join\n",
    "              (filepath , sitename, 'intersections', sitename + '_transect_intersects.pkl'), 'rb') as f:\n",
    "        TransectInterGDF = pickle.load(f)\n",
    "else:\n",
    "    # Get intersections\n",
    "    TransectInterGDF = Transects.GetIntersections(BasePath, TransectGDF, VeglineGDF)\n",
    "    # Save newly intersected transects as shapefile\n",
    "    TransectInterGDF = Transects.SaveIntersections(TransectInterGDF, VeglineGDF, BasePath, sitename)\n",
    "    # Repopulate dict with intersection distances along transects normalised to transect midpoints\n",
    "    TransectInterGDF = Transects.CalculateChanges(TransectInterGDF)\n",
    "    \n",
    "    with open(os.path.join(filepath, sitename, 'intersections', sitename + '_transect_intersects.pkl'), 'wb') as f:\n",
    "        pickle.dump(TransectInterGDF, f)"
   ]
  },
  {
   "cell_type": "markdown",
   "id": "96eed93b",
   "metadata": {},
   "source": [
    "##### waterlines intersection along each transect"
   ]
  },
  {
   "cell_type": "code",
   "execution_count": null,
   "id": "f6f03557",
   "metadata": {},
   "outputs": [],
   "source": [
    "if os.path.isfile(os.path.join(filepath, sitename, 'intersections', sitename + '_transect_water_intersects.pkl')):\n",
    "    print('Transect Intersect + Water GDF exists and was loaded')\n",
    "    with open(os.path.join\n",
    "              (filepath , sitename, 'intersections', sitename + '_transect_water_intersects.pkl'), 'rb') as f:\n",
    "        TransectInterGDFWater = pickle.load(f)\n",
    "else:        \n",
    "    if settings['wetdry'] == True:\n",
    "        TransectInterGDFWater = Transects.GetWaterIntersections(BasePath, TransectGDF, TransectInterGDF, WaterlineGDF, settings, output)  \n",
    "    \n",
    "    with open(os.path.join(filepath, sitename, 'intersections', sitename + '_transect_water_intersects.pkl'), 'wb') as f:\n",
    "        pickle.dump(TransectInterGDFWater, f)"
   ]
  },
  {
   "cell_type": "markdown",
   "id": "309202ed",
   "metadata": {},
   "source": [
    "#### waves and tide included"
   ]
  },
  {
   "cell_type": "markdown",
   "id": "4492610f",
   "metadata": {},
   "source": [
    "##### waves intersections"
   ]
  },
  {
   "cell_type": "code",
   "execution_count": null,
   "id": "e2353aa2",
   "metadata": {},
   "outputs": [],
   "source": [
    "import traceback\n",
    "\n",
    "if os.path.isfile(os.path.join(filepath, sitename, 'intersections', sitename + '_transect_wave_intersects.pkl')):\n",
    "    print('Transect Intersect + Wave GDF exists and was loaded')\n",
    "    with open(os.path.join(filepath, sitename, 'intersections', sitename + '_transect_wave_intersects.pkl'), 'rb') as f:\n",
    "        TransectInterGDFWave = pickle.load(f)\n",
    "else:\n",
    "    try:\n",
    "        TransectInterGDFWave = Transects.WavesIntersect(settings, TransectInterGDF, BasePath, output, lonmin, lonmax, latmin, latmax)\n",
    "\n",
    "        with open(os.path.join(filepath, sitename, 'intersections', sitename + '_transect_wave_intersects.pkl'), 'wb') as f:\n",
    "            pickle.dump(TransectInterGDFWave, f)\n",
    "\n",
    "        print(f'Wave intersect successfully generated and saved for site: {sitename}')\n",
    "\n",
    "    except Exception as e:\n",
    "        print(f'Failed to process wave data for site: {sitename}')\n",
    "        print('Error message:', str(e))\n",
    "        traceback.print_exc()\n",
    "        TransectInterGDFWave = None"
   ]
  },
  {
   "cell_type": "markdown",
   "id": "c54c073f",
   "metadata": {},
   "source": [
    "##### Additional wave-based WL metrics\n",
    "This is for comparing shoreline change with vegetation change, and for quantifying the beach width between the two for each image. If you would like to include runup in your waterline corrections, add `TransectInterGDFWave` to `GetWaterIntersections()`:\n",
    "\n",
    "```TransectInterGDFWater = Transects.GetWaterIntersections(BasePath, TransectGDF, TransectInterGDF, WaterlineGDF, settings, output, TransectInterGDFWave, beachslope)```\n",
    "\n",
    "If you want to include runup AND calculate slopes using CoastSat.slope (recommended), exclude the `beachslope` variable:\n",
    "\n",
    "`TransectInterGDFWater = Transects.GetWaterIntersections(BasePath, TransectGDF, TransectInterGDF, WaterlineGDF, settings, output, TransectInterGDFWave)`"
   ]
  },
  {
   "cell_type": "code",
   "execution_count": null,
   "id": "a4242040",
   "metadata": {},
   "outputs": [],
   "source": [
    "import pandas as pd\n",
    "from datetime import datetime\n",
    "\n",
    "# === 1. Load your original tide CSV ===\n",
    "tide_df = pd.read_csv(r'C:\\MPA\\tide_data\\tide_db\\coast_tides_1.csv')\n",
    "\n",
    "# === 2. Convert the 'dates' column to remove timezone ===\n",
    "# It will convert to naive datetime (no timezone)\n",
    "tide_df['dates'] = pd.to_datetime(tide_df['dates']).dt.tz_localize(None)\n",
    "tide_df = tide_df.rename(columns={'dates': 'date'})\n",
    "\n",
    "# === 3. Save to correct CoastGuard path ===\n",
    "date_start = '2015-01-01'\n",
    "date_end = '2025-01-01'\n",
    "\n",
    "# Build the output path\n",
    "save_path = fr'C:\\MPA\\COASTGUARD\\Data\\tides\\{sitename}_tides_{date_start}_{date_end}.csv'\n",
    "\n",
    "# Save without index\n",
    "tide_df.to_csv(save_path, index=False)\n",
    "\n",
    "print(f\"Tide file saved to {save_path}\")"
   ]
  },
  {
   "cell_type": "code",
   "execution_count": null,
   "id": "0e0637da",
   "metadata": {},
   "outputs": [],
   "source": [
    "beachslope = None\n",
    "\n",
    "TransectInterGDFWater = Transects.GetWaterIntersections(BasePath, TransectGDF, TransectInterGDF, WaterlineGDF, settings, output)"
   ]
  },
  {
   "cell_type": "code",
   "execution_count": null,
   "id": "a2d2f245",
   "metadata": {},
   "outputs": [],
   "source": [
    "# Check if waterline corrections have been applied\n",
    "if 'wlcorrdist' not in TransectInterGDFWater.columns:\n",
    "    # Apply tidal + wave runup correction\n",
    "    TransectInterGDFWater = Transects.WLCorrections(\n",
    "        settings, \n",
    "        output, \n",
    "        TransectInterGDFWater, \n",
    "        TransectInterGDFWave,  # <- Add the wave-based intersections here\n",
    "        # Do NOT pass beachslope — leave it to auto-calculate!\n",
    "    )     \n",
    "\n",
    "# Calculate the beach width between Vegetation Line and corrected Water Line\n",
    "TransectInterGDFWater = Transects.CalcBeachWidth(\n",
    "    settings, \n",
    "    TransectGDF, \n",
    "    TransectInterGDFWater\n",
    ")\n",
    "\n",
    "# Save corrected Water Line intersections shapefile\n",
    "TransectInterGDFWater = Transects.SaveWaterIntersections(\n",
    "    TransectInterGDFWater, \n",
    "    WaterlineGDF,  \n",
    "    BasePath, \n",
    "    sitename\n",
    ")"
   ]
  },
  {
   "cell_type": "code",
   "execution_count": null,
   "id": "6e67d7f2",
   "metadata": {},
   "outputs": [],
   "source": [
    "# Save intersections as a pickle file\n",
    "with open(os.path.join(filepath, sitename, 'intersections', sitename + '_transect_water_intersects.pkl'), 'wb') as f:\n",
    "    pickle.dump(TransectInterGDFWater, f)"
   ]
  },
  {
   "cell_type": "code",
   "execution_count": null,
   "id": "75501cfa",
   "metadata": {},
   "outputs": [],
   "source": [
    "import scipy\n",
    "print(scipy.__version__)"
   ]
  },
  {
   "cell_type": "code",
   "execution_count": null,
   "id": "114552ab",
   "metadata": {},
   "outputs": [],
   "source": []
  },
  {
   "cell_type": "markdown",
   "id": "9bc0a8ca",
   "metadata": {},
   "source": [
    "##### Transect-Topo Intersections\n",
    "intersections with topographic data along each transect. This is for comparing veg edge positions with dune slopes"
   ]
  },
  {
   "cell_type": "code",
   "execution_count": null,
   "id": "d39d3993",
   "metadata": {},
   "outputs": [],
   "source": [
    "# EDIT ME: Path to slope raster for extracting slope values\n",
    "TIF = '/path/to/Slope_Raster.tif'\n",
    "\n",
    "if os.path.isfile(os.path.join(filepath, sitename, 'intersections', sitename + '_transect_topo_intersects.pkl')):\n",
    "    print('Transect Intersect + Topo GDF exists and was loaded')\n",
    "    with open(os.path.join\n",
    "              (filepath , sitename, 'intersections', sitename + '_transect_topo_intersects.pkl'), 'rb') as f:\n",
    "        TransectInterGDFTopo = pickle.load(f)\n",
    "else:\n",
    "    # Update Transects with Transition Zone widths and slope if available\n",
    "    TransectInterGDFTopo = Transects.TZIntersect(settings, TransectInterGDF, VeglineGDF, BasePath)\n",
    "    TransectInterGDFTopo = Transects.SlopeIntersect(settings, TransectInterGDFTopo, VeglineGDF, BasePath, TIF)\n",
    "    \n",
    "    with open(os.path.join(filepath, sitename, 'intersections', sitename + '_transect_topo_intersects.pkl'), 'wb') as f:\n",
    "        pickle.dump(TransectInterGDFTopo, f)"
   ]
  },
  {
   "cell_type": "markdown",
   "id": "3b16fbb9",
   "metadata": {},
   "source": [
    "#### Plotting\n",
    "Edit the desired Transect IDs to plot timeseries of veg change and beach width change across "
   ]
  },
  {
   "cell_type": "code",
   "execution_count": null,
   "id": "e3c524a3",
   "metadata": {},
   "outputs": [],
   "source": [
    "# Timeseries Plotting\n",
    "\n",
    "# EDIT ME: Select transect ID to plot\n",
    "# You can plot subplots within a list of plot IDs, e.g. [[sub1, sub2], plot2]\n",
    "# You can also comment Line 1 out and uncomment Line 2 to create plots for ALL Transect IDs\n",
    "# NOTE: If you want to plot ALL transects, it's recommended you switch ShowPlot=False\n",
    "\n",
    "TransectIDs = [[25,30,35],50,75] # Line 1\n",
    "# TransectIDs = list(TransectInterGDF['TransectID']) # Line 2\n",
    "\n",
    "for TransectID in TransectIDs:\n",
    "    # Plot timeseries of cross-shore veg position\n",
    "    Plotting.VegTimeseries(sitename, TransectInterGDF, TransectID, Hemisphere='N', ShowPlot=True)\n",
    "    # If plotting veg and water lines together\n",
    "    if settings['wetdry']:\n",
    "        Plotting.VegWaterTimeseries(sitename, TransectInterGDFWater, TransectID, Hemisphere='N', ShowPlot=True)\n"
   ]
  },
  {
   "cell_type": "code",
   "execution_count": null,
   "id": "7d9c5118",
   "metadata": {},
   "outputs": [],
   "source": [
    "# Beach Width Plotting\n",
    "\n",
    "# Select transect ID to plot\n",
    "TransectIDs = [[25,30,35],50,75]\n",
    "for TransectID in TransectIDs:\n",
    "    # Plot timeseries of cross-shore width between water edge and veg edge \n",
    "    Plotting.WidthTimeseries(sitename, TransectInterGDFWater, TransectID, Hemisphere='N')\n"
   ]
  },
  {
   "cell_type": "code",
   "execution_count": null,
   "id": "44cd6f49",
   "metadata": {},
   "outputs": [],
   "source": [
    "# EDIT ME: Path to slope raster for extracting slope values\n",
    "# TIF = r\"C:\\MPA\\COASTGUARD\\TestData\\C1\\slopes\\musquash_slope.tif\"  # example path\n",
    "\n",
    "if os.path.isfile(os.path.join(filepath, sitename, 'intersections', sitename + '_transect_topo_intersects.pkl')):\n",
    "    print('Transect Intersect + Topo GDF exists and was loaded')\n",
    "    with open(os.path.join\n",
    "              (filepath , sitename, 'intersections', sitename + '_transect_topo_intersects.pkl'), 'rb') as f:\n",
    "        TransectInterGDFTopo = pickle.load(f)\n",
    "else:\n",
    "    # Update Transects with Transition Zone widths and slope if available\n",
    "    TransectInterGDFTopo = Transects.TZIntersect(settings, TransectInterGDF, VeglineGDF, BasePath)\n",
    "    # TransectInterGDFTopo = Transects.SlopeIntersect(settings, TransectInterGDFTopo, VeglineGDF, BasePath, TIF)\n",
    "    \n",
    "    with open(os.path.join(filepath, sitename, 'intersections', sitename + '_transect_topo_intersects.pkl'), 'wb') as f:\n",
    "        pickle.dump(TransectInterGDFTopo, f)"
   ]
  },
  {
   "cell_type": "code",
   "execution_count": null,
   "id": "4c94dae9",
   "metadata": {},
   "outputs": [],
   "source": [
    "# Timeseries Plotting\n",
    "\n",
    "# EDIT ME: Select transect ID to plot\n",
    "# You can plot subplots within a list of plot IDs, e.g. [[sub1, sub2], plot2]\n",
    "# You can also comment Line 1 out and uncomment Line 2 to create plots for ALL Transect IDs\n",
    "# NOTE: If you want to plot ALL transects, it's recommended you switch ShowPlot=False\n",
    "\n",
    "TransectIDs = [[25,30,35],50,75] # Line 1\n",
    "# TransectIDs = list(TransectInterGDF['TransectID']) # Line 2\n",
    "\n",
    "for TransectID in TransectIDs:\n",
    "    # Plot timeseries of cross-shore veg position\n",
    "    Plotting.VegTimeseries(sitename, TransectInterGDF, TransectID, Hemisphere='N', ShowPlot=True)\n",
    "    # If plotting veg and water lines together\n",
    "    if settings['wetdry']:\n",
    "        Plotting.VegWaterTimeseries(sitename, TransectInterGDFWater, TransectID, Hemisphere='N', ShowPlot=True)"
   ]
  }
 ],
 "metadata": {
  "kernelspec": {
   "display_name": "conda_coastguard",
   "language": "python",
   "name": "coastguard"
  },
  "language_info": {
   "codemirror_mode": {
    "name": "ipython",
    "version": 3
   },
   "file_extension": ".py",
   "mimetype": "text/x-python",
   "name": "python",
   "nbconvert_exporter": "python",
   "pygments_lexer": "ipython3",
   "version": "3.10.13"
  }
 },
 "nbformat": 4,
 "nbformat_minor": 5
}
