{
 "cells": [
  {
   "cell_type": "markdown",
   "id": "e18670f2",
   "metadata": {},
   "source": [
    "# set up environment"
   ]
  },
  {
   "cell_type": "markdown",
   "id": "2a73d5fa",
   "metadata": {},
   "source": [
    "### initialize"
   ]
  },
  {
   "cell_type": "code",
   "execution_count": 1,
   "id": "d654275c",
   "metadata": {
    "execution": {
     "iopub.execute_input": "2025-06-04T18:21:06.051955Z",
     "iopub.status.busy": "2025-06-04T18:21:06.051565Z",
     "iopub.status.idle": "2025-06-04T18:21:11.053768Z",
     "shell.execute_reply": "2025-06-04T18:21:11.053100Z",
     "shell.execute_reply.started": "2025-06-04T18:21:06.051928Z"
    }
   },
   "outputs": [
    {
     "data": {
      "text/plain": [
       "True"
      ]
     },
     "execution_count": 1,
     "metadata": {},
     "output_type": "execute_result"
    }
   ],
   "source": [
    "import os\n",
    "import glob\n",
    "import pickle\n",
    "import warnings\n",
    "warnings.filterwarnings(\"ignore\")\n",
    "import matplotlib\n",
    "%matplotlib widget\n",
    "import matplotlib.pyplot as plt\n",
    "plt.ion()\n",
    "from datetime import datetime\n",
    "from Toolshed import Download, Toolbox, VegetationLine, Plotting, PlottingSeaborn, Transects\n",
    "import ee\n",
    "import geopandas as gpd\n",
    "import geemap\n",
    "from shapely.geometry import MultiPolygon\n",
    "\n",
    "ee.Initialize()\n",
    "ee.Authenticate() # should only need to be run the first time after installation"
   ]
  },
  {
   "cell_type": "markdown",
   "id": "f228ad09",
   "metadata": {},
   "source": [
    "### parameter settings"
   ]
  },
  {
   "cell_type": "code",
   "execution_count": 2,
   "id": "52f11935",
   "metadata": {
    "execution": {
     "iopub.execute_input": "2025-06-04T18:21:11.055307Z",
     "iopub.status.busy": "2025-06-04T18:21:11.054828Z",
     "iopub.status.idle": "2025-06-04T18:21:11.060904Z",
     "shell.execute_reply": "2025-06-04T18:21:11.060306Z",
     "shell.execute_reply.started": "2025-06-04T18:21:11.055281Z"
    }
   },
   "outputs": [
    {
     "data": {
      "text/html": [
       "\n",
       "            <style>\n",
       "                .geemap-dark {\n",
       "                    --jp-widgets-color: white;\n",
       "                    --jp-widgets-label-color: white;\n",
       "                    --jp-ui-font-color1: white;\n",
       "                    --jp-layout-color2: #454545;\n",
       "                    background-color: #383838;\n",
       "                }\n",
       "\n",
       "                .geemap-dark .jupyter-button {\n",
       "                    --jp-layout-color3: #383838;\n",
       "                }\n",
       "\n",
       "                .geemap-colab {\n",
       "                    background-color: var(--colab-primary-surface-color, white);\n",
       "                }\n",
       "\n",
       "                .geemap-colab .jupyter-button {\n",
       "                    --jp-layout-color3: var(--colab-primary-surface-color, white);\n",
       "                }\n",
       "            </style>\n",
       "            "
      ],
      "text/plain": [
       "<IPython.core.display.HTML object>"
      ]
     },
     "metadata": {},
     "output_type": "display_data"
    }
   ],
   "source": [
    "# The points represent the corners of a bounding box that go around your site\n",
    "sitename = 'smalltest'\n",
    "\n",
    "# Date range\n",
    "dates = ['2014-01-01', '2025-01-01']\n",
    "\n",
    "# Satellite missions\n",
    "# Input a list of containing any/all of 'L5', 'L7', 'L8', 'L9', 'S2', 'PSScene4Band'\n",
    "# L5: 1984-2013; L7: 1999-2017 (SLC error from 2003); L8: 2013-present; S2: 2014-present; L9: 2021-present\n",
    "sat_list = ['S2']\n",
    "\n",
    "# Cloud threshold for screening out cloudy imagery (0.5 or 50% recommended)\n",
    "cloud_thresh = 0.3\n",
    "\n",
    "# Extract shoreline (wet-dry boundary) as well as veg edge\n",
    "wetdry = True\n",
    "\n",
    "# Directory where the data will be stored\n",
    "filepath = Toolbox.CreateFileStructure(sitename, sat_list)"
   ]
  },
  {
   "cell_type": "code",
   "execution_count": 3,
   "id": "4418ca6d",
   "metadata": {
    "execution": {
     "iopub.execute_input": "2025-06-04T18:21:11.061937Z",
     "iopub.status.busy": "2025-06-04T18:21:11.061626Z",
     "iopub.status.idle": "2025-06-04T18:21:11.068279Z",
     "shell.execute_reply": "2025-06-04T18:21:11.067669Z",
     "shell.execute_reply.started": "2025-06-04T18:21:11.061904Z"
    }
   },
   "outputs": [
    {
     "data": {
      "text/html": [
       "\n",
       "            <style>\n",
       "                .geemap-dark {\n",
       "                    --jp-widgets-color: white;\n",
       "                    --jp-widgets-label-color: white;\n",
       "                    --jp-ui-font-color1: white;\n",
       "                    --jp-layout-color2: #454545;\n",
       "                    background-color: #383838;\n",
       "                }\n",
       "\n",
       "                .geemap-dark .jupyter-button {\n",
       "                    --jp-layout-color3: #383838;\n",
       "                }\n",
       "\n",
       "                .geemap-colab {\n",
       "                    background-color: var(--colab-primary-surface-color, white);\n",
       "                }\n",
       "\n",
       "                .geemap-colab .jupyter-button {\n",
       "                    --jp-layout-color3: var(--colab-primary-surface-color, white);\n",
       "                }\n",
       "            </style>\n",
       "            "
      ],
      "text/plain": [
       "<IPython.core.display.HTML object>"
      ]
     },
     "metadata": {},
     "output_type": "display_data"
    },
    {
     "data": {
      "text/plain": [
       "'/home/sagemaker-user/COASTGUARD/Data'"
      ]
     },
     "execution_count": 3,
     "metadata": {},
     "output_type": "execute_result"
    }
   ],
   "source": [
    "filepath"
   ]
  },
  {
   "cell_type": "code",
   "execution_count": 4,
   "id": "5d2029a7",
   "metadata": {
    "execution": {
     "iopub.execute_input": "2025-06-04T18:21:11.069752Z",
     "iopub.status.busy": "2025-06-04T18:21:11.069492Z",
     "iopub.status.idle": "2025-06-04T18:21:11.075176Z",
     "shell.execute_reply": "2025-06-04T18:21:11.074616Z",
     "shell.execute_reply.started": "2025-06-04T18:21:11.069731Z"
    }
   },
   "outputs": [
    {
     "data": {
      "text/html": [
       "\n",
       "            <style>\n",
       "                .geemap-dark {\n",
       "                    --jp-widgets-color: white;\n",
       "                    --jp-widgets-label-color: white;\n",
       "                    --jp-ui-font-color1: white;\n",
       "                    --jp-layout-color2: #454545;\n",
       "                    background-color: #383838;\n",
       "                }\n",
       "\n",
       "                .geemap-dark .jupyter-button {\n",
       "                    --jp-layout-color3: #383838;\n",
       "                }\n",
       "\n",
       "                .geemap-colab {\n",
       "                    background-color: var(--colab-primary-surface-color, white);\n",
       "                }\n",
       "\n",
       "                .geemap-colab .jupyter-button {\n",
       "                    --jp-layout-color3: var(--colab-primary-surface-color, white);\n",
       "                }\n",
       "            </style>\n",
       "            "
      ],
      "text/plain": [
       "<IPython.core.display.HTML object>"
      ]
     },
     "metadata": {},
     "output_type": "display_data"
    },
    {
     "name": "stdout",
     "output_type": "stream",
     "text": [
      "widget\n"
     ]
    }
   ],
   "source": [
    "import matplotlib\n",
    "print(matplotlib.get_backend())"
   ]
  },
  {
   "cell_type": "markdown",
   "id": "0a9a0453",
   "metadata": {},
   "source": [
    "# load locations information and Reference Lines"
   ]
  },
  {
   "cell_type": "markdown",
   "id": "5fc44ae8",
   "metadata": {},
   "source": [
    "### load reference shoreline AOI on reference shoreline (in library)"
   ]
  },
  {
   "cell_type": "code",
   "execution_count": 5,
   "id": "a8f2001b-7fc4-4184-bddd-5d3be8e6c492",
   "metadata": {
    "execution": {
     "iopub.execute_input": "2025-06-04T18:21:11.076115Z",
     "iopub.status.busy": "2025-06-04T18:21:11.075830Z",
     "iopub.status.idle": "2025-06-04T18:21:11.080741Z",
     "shell.execute_reply": "2025-06-04T18:21:11.080176Z",
     "shell.execute_reply.started": "2025-06-04T18:21:11.076093Z"
    }
   },
   "outputs": [
    {
     "data": {
      "text/html": [
       "\n",
       "            <style>\n",
       "                .geemap-dark {\n",
       "                    --jp-widgets-color: white;\n",
       "                    --jp-widgets-label-color: white;\n",
       "                    --jp-ui-font-color1: white;\n",
       "                    --jp-layout-color2: #454545;\n",
       "                    background-color: #383838;\n",
       "                }\n",
       "\n",
       "                .geemap-dark .jupyter-button {\n",
       "                    --jp-layout-color3: #383838;\n",
       "                }\n",
       "\n",
       "                .geemap-colab {\n",
       "                    background-color: var(--colab-primary-surface-color, white);\n",
       "                }\n",
       "\n",
       "                .geemap-colab .jupyter-button {\n",
       "                    --jp-layout-color3: var(--colab-primary-surface-color, white);\n",
       "                }\n",
       "            </style>\n",
       "            "
      ],
      "text/plain": [
       "<IPython.core.display.HTML object>"
      ]
     },
     "metadata": {},
     "output_type": "display_data"
    }
   ],
   "source": [
    "# Reference shoreline/veg line shapefile name (should be stored in a folder called referenceLines in Data)\n",
    "# Line should be ONE CONTINUOUS linestring along the shore, stored as a shapefile in WGS84 coord system\n",
    "referenceLineShp = sitename + '_ref.shp'\n",
    "# Maximum amount in metres by which to buffer the reference line for capturing veg edges within\n",
    "max_dist_ref = 150"
   ]
  },
  {
   "cell_type": "code",
   "execution_count": 6,
   "id": "e4ab888d",
   "metadata": {
    "execution": {
     "iopub.execute_input": "2025-06-04T18:21:11.081719Z",
     "iopub.status.busy": "2025-06-04T18:21:11.081413Z",
     "iopub.status.idle": "2025-06-04T18:21:11.258856Z",
     "shell.execute_reply": "2025-06-04T18:21:11.258161Z",
     "shell.execute_reply.started": "2025-06-04T18:21:11.081689Z"
    }
   },
   "outputs": [
    {
     "data": {
      "text/html": [
       "\n",
       "            <style>\n",
       "                .geemap-dark {\n",
       "                    --jp-widgets-color: white;\n",
       "                    --jp-widgets-label-color: white;\n",
       "                    --jp-ui-font-color1: white;\n",
       "                    --jp-layout-color2: #454545;\n",
       "                    background-color: #383838;\n",
       "                }\n",
       "\n",
       "                .geemap-dark .jupyter-button {\n",
       "                    --jp-layout-color3: #383838;\n",
       "                }\n",
       "\n",
       "                .geemap-colab {\n",
       "                    background-color: var(--colab-primary-surface-color, white);\n",
       "                }\n",
       "\n",
       "                .geemap-colab .jupyter-button {\n",
       "                    --jp-layout-color3: var(--colab-primary-surface-color, white);\n",
       "                }\n",
       "            </style>\n",
       "            "
      ],
      "text/plain": [
       "<IPython.core.display.HTML object>"
      ]
     },
     "metadata": {},
     "output_type": "display_data"
    }
   ],
   "source": [
    "# Return AOI from reference line bounding box and save AOI folium map HTML in sitename directory\n",
    "referenceLinePath = os.path.join(filepath, 'referenceLines', referenceLineShp)\n",
    "referenceLineDF = gpd.read_file(referenceLinePath)\n",
    "polygon, point, lonmin, lonmax, latmin, latmax = Toolbox.AOIfromLine(referenceLinePath, max_dist_ref, sitename)\n",
    "\n",
    "# It's recommended to convert the polygon to the smallest rectangle (sides parallel to coordinate axes)       \n",
    "polygon = Toolbox.smallest_rectangle(polygon)"
   ]
  },
  {
   "cell_type": "code",
   "execution_count": 7,
   "id": "54ca8672",
   "metadata": {
    "execution": {
     "iopub.execute_input": "2025-06-04T18:21:11.260580Z",
     "iopub.status.busy": "2025-06-04T18:21:11.259671Z",
     "iopub.status.idle": "2025-06-04T18:21:11.266034Z",
     "shell.execute_reply": "2025-06-04T18:21:11.265447Z",
     "shell.execute_reply.started": "2025-06-04T18:21:11.260553Z"
    }
   },
   "outputs": [
    {
     "data": {
      "text/html": [
       "\n",
       "            <style>\n",
       "                .geemap-dark {\n",
       "                    --jp-widgets-color: white;\n",
       "                    --jp-widgets-label-color: white;\n",
       "                    --jp-ui-font-color1: white;\n",
       "                    --jp-layout-color2: #454545;\n",
       "                    background-color: #383838;\n",
       "                }\n",
       "\n",
       "                .geemap-dark .jupyter-button {\n",
       "                    --jp-layout-color3: #383838;\n",
       "                }\n",
       "\n",
       "                .geemap-colab {\n",
       "                    background-color: var(--colab-primary-surface-color, white);\n",
       "                }\n",
       "\n",
       "                .geemap-colab .jupyter-button {\n",
       "                    --jp-layout-color3: var(--colab-primary-surface-color, white);\n",
       "                }\n",
       "            </style>\n",
       "            "
      ],
      "text/plain": [
       "<IPython.core.display.HTML object>"
      ]
     },
     "metadata": {},
     "output_type": "display_data"
    },
    {
     "data": {
      "text/plain": [
       "'/home/sagemaker-user/COASTGUARD/Data/referenceLines/smalltest_ref.shp'"
      ]
     },
     "execution_count": 7,
     "metadata": {},
     "output_type": "execute_result"
    }
   ],
   "source": [
    "referenceLinePath"
   ]
  },
  {
   "cell_type": "code",
   "execution_count": 8,
   "id": "968f85d9",
   "metadata": {
    "execution": {
     "iopub.execute_input": "2025-06-04T18:21:11.267240Z",
     "iopub.status.busy": "2025-06-04T18:21:11.266838Z",
     "iopub.status.idle": "2025-06-04T18:21:11.273323Z",
     "shell.execute_reply": "2025-06-04T18:21:11.272711Z",
     "shell.execute_reply.started": "2025-06-04T18:21:11.267205Z"
    }
   },
   "outputs": [
    {
     "data": {
      "text/html": [
       "\n",
       "            <style>\n",
       "                .geemap-dark {\n",
       "                    --jp-widgets-color: white;\n",
       "                    --jp-widgets-label-color: white;\n",
       "                    --jp-ui-font-color1: white;\n",
       "                    --jp-layout-color2: #454545;\n",
       "                    background-color: #383838;\n",
       "                }\n",
       "\n",
       "                .geemap-dark .jupyter-button {\n",
       "                    --jp-layout-color3: #383838;\n",
       "                }\n",
       "\n",
       "                .geemap-colab {\n",
       "                    background-color: var(--colab-primary-surface-color, white);\n",
       "                }\n",
       "\n",
       "                .geemap-colab .jupyter-button {\n",
       "                    --jp-layout-color3: var(--colab-primary-surface-color, white);\n",
       "                }\n",
       "            </style>\n",
       "            "
      ],
      "text/plain": [
       "<IPython.core.display.HTML object>"
      ]
     },
     "metadata": {},
     "output_type": "display_data"
    },
    {
     "name": "stdout",
     "output_type": "stream",
     "text": [
      "[-66.23066578  45.14371425]\n"
     ]
    }
   ],
   "source": [
    "# get polygon centroid, coordinates to get tides from\n",
    "import numpy as np\n",
    "centroid = np.mean(polygon[0], axis=0)\n",
    "print(centroid)\n",
    "# if longitude is negative add 180 (longitudes are from 0 to 360 in fes)\n",
    "if centroid[0] < 0: centroid[0] += 360"
   ]
  },
  {
   "cell_type": "markdown",
   "id": "d598dffc",
   "metadata": {},
   "source": [
    "### date range"
   ]
  },
  {
   "cell_type": "code",
   "execution_count": 9,
   "id": "c9211557",
   "metadata": {
    "execution": {
     "iopub.execute_input": "2025-06-04T18:21:11.274253Z",
     "iopub.status.busy": "2025-06-04T18:21:11.273968Z",
     "iopub.status.idle": "2025-06-04T18:21:11.280072Z",
     "shell.execute_reply": "2025-06-04T18:21:11.279495Z",
     "shell.execute_reply.started": "2025-06-04T18:21:11.274231Z"
    }
   },
   "outputs": [
    {
     "data": {
      "text/html": [
       "\n",
       "            <style>\n",
       "                .geemap-dark {\n",
       "                    --jp-widgets-color: white;\n",
       "                    --jp-widgets-label-color: white;\n",
       "                    --jp-ui-font-color1: white;\n",
       "                    --jp-layout-color2: #454545;\n",
       "                    background-color: #383838;\n",
       "                }\n",
       "\n",
       "                .geemap-dark .jupyter-button {\n",
       "                    --jp-layout-color3: #383838;\n",
       "                }\n",
       "\n",
       "                .geemap-colab {\n",
       "                    background-color: var(--colab-primary-surface-color, white);\n",
       "                }\n",
       "\n",
       "                .geemap-colab .jupyter-button {\n",
       "                    --jp-layout-color3: var(--colab-primary-surface-color, white);\n",
       "                }\n",
       "            </style>\n",
       "            "
      ],
      "text/plain": [
       "<IPython.core.display.HTML object>"
      ]
     },
     "metadata": {},
     "output_type": "display_data"
    }
   ],
   "source": [
    "if len(dates)>2:\n",
    "    daterange='no'\n",
    "else:\n",
    "    daterange='yes'\n",
    "years = list(Toolbox.daterange(datetime.strptime(dates[0],'%Y-%m-%d'), datetime.strptime(dates[-1],'%Y-%m-%d')))"
   ]
  },
  {
   "cell_type": "markdown",
   "id": "c1e1f103",
   "metadata": {},
   "source": [
    "### Compile Input Settings for Gathering Imagery"
   ]
  },
  {
   "cell_type": "code",
   "execution_count": 10,
   "id": "788f129a",
   "metadata": {
    "execution": {
     "iopub.execute_input": "2025-06-04T18:21:11.282023Z",
     "iopub.status.busy": "2025-06-04T18:21:11.281728Z",
     "iopub.status.idle": "2025-06-04T18:21:11.286702Z",
     "shell.execute_reply": "2025-06-04T18:21:11.286162Z",
     "shell.execute_reply.started": "2025-06-04T18:21:11.282002Z"
    }
   },
   "outputs": [
    {
     "data": {
      "text/html": [
       "\n",
       "            <style>\n",
       "                .geemap-dark {\n",
       "                    --jp-widgets-color: white;\n",
       "                    --jp-widgets-label-color: white;\n",
       "                    --jp-ui-font-color1: white;\n",
       "                    --jp-layout-color2: #454545;\n",
       "                    background-color: #383838;\n",
       "                }\n",
       "\n",
       "                .geemap-dark .jupyter-button {\n",
       "                    --jp-layout-color3: #383838;\n",
       "                }\n",
       "\n",
       "                .geemap-colab {\n",
       "                    background-color: var(--colab-primary-surface-color, white);\n",
       "                }\n",
       "\n",
       "                .geemap-colab .jupyter-button {\n",
       "                    --jp-layout-color3: var(--colab-primary-surface-color, white);\n",
       "                }\n",
       "            </style>\n",
       "            "
      ],
      "text/plain": [
       "<IPython.core.display.HTML object>"
      ]
     },
     "metadata": {},
     "output_type": "display_data"
    }
   ],
   "source": [
    "inputs = {\n",
    "    'polygon': polygon,\n",
    "    'dates': dates,\n",
    "    'daterange': daterange,\n",
    "    'sat_list': sat_list,\n",
    "    'sitename': sitename,\n",
    "    'filepath': filepath\n",
    "}"
   ]
  },
  {
   "cell_type": "code",
   "execution_count": 11,
   "id": "778e68d2",
   "metadata": {
    "execution": {
     "iopub.execute_input": "2025-06-04T18:21:11.287863Z",
     "iopub.status.busy": "2025-06-04T18:21:11.287473Z",
     "iopub.status.idle": "2025-06-04T18:21:11.294074Z",
     "shell.execute_reply": "2025-06-04T18:21:11.293458Z",
     "shell.execute_reply.started": "2025-06-04T18:21:11.287828Z"
    }
   },
   "outputs": [
    {
     "data": {
      "text/html": [
       "\n",
       "            <style>\n",
       "                .geemap-dark {\n",
       "                    --jp-widgets-color: white;\n",
       "                    --jp-widgets-label-color: white;\n",
       "                    --jp-ui-font-color1: white;\n",
       "                    --jp-layout-color2: #454545;\n",
       "                    background-color: #383838;\n",
       "                }\n",
       "\n",
       "                .geemap-dark .jupyter-button {\n",
       "                    --jp-layout-color3: #383838;\n",
       "                }\n",
       "\n",
       "                .geemap-colab {\n",
       "                    background-color: var(--colab-primary-surface-color, white);\n",
       "                }\n",
       "\n",
       "                .geemap-colab .jupyter-button {\n",
       "                    --jp-layout-color3: var(--colab-primary-surface-color, white);\n",
       "                }\n",
       "            </style>\n",
       "            "
      ],
      "text/plain": [
       "<IPython.core.display.HTML object>"
      ]
     },
     "metadata": {},
     "output_type": "display_data"
    },
    {
     "data": {
      "text/plain": [
       "{'polygon': [[[-66.23802289695303, 45.1415656881299],\n",
       "   [-66.21963010709617, 45.1415656881299],\n",
       "   [-66.21963010709617, 45.14693708311553],\n",
       "   [-66.23802289695303, 45.14693708311553],\n",
       "   [-66.23802289695303, 45.1415656881299]]],\n",
       " 'dates': ['2014-01-01', '2025-01-01'],\n",
       " 'daterange': 'yes',\n",
       " 'sat_list': ['S2'],\n",
       " 'sitename': 'smalltest',\n",
       " 'filepath': '/home/sagemaker-user/COASTGUARD/Data'}"
      ]
     },
     "execution_count": 11,
     "metadata": {},
     "output_type": "execute_result"
    }
   ],
   "source": [
    "inputs"
   ]
  },
  {
   "cell_type": "markdown",
   "id": "7f179f43",
   "metadata": {},
   "source": [
    "### Image Retrieval and download"
   ]
  },
  {
   "cell_type": "code",
   "execution_count": 12,
   "id": "9ebf3435",
   "metadata": {
    "execution": {
     "iopub.execute_input": "2025-06-04T18:21:11.295216Z",
     "iopub.status.busy": "2025-06-04T18:21:11.294921Z",
     "iopub.status.idle": "2025-06-04T18:21:15.636094Z",
     "shell.execute_reply": "2025-06-04T18:21:15.635382Z",
     "shell.execute_reply.started": "2025-06-04T18:21:11.295183Z"
    }
   },
   "outputs": [
    {
     "data": {
      "text/html": [
       "\n",
       "            <style>\n",
       "                .geemap-dark {\n",
       "                    --jp-widgets-color: white;\n",
       "                    --jp-widgets-label-color: white;\n",
       "                    --jp-ui-font-color1: white;\n",
       "                    --jp-layout-color2: #454545;\n",
       "                    background-color: #383838;\n",
       "                }\n",
       "\n",
       "                .geemap-dark .jupyter-button {\n",
       "                    --jp-layout-color3: #383838;\n",
       "                }\n",
       "\n",
       "                .geemap-colab {\n",
       "                    background-color: var(--colab-primary-surface-color, white);\n",
       "                }\n",
       "\n",
       "                .geemap-colab .jupyter-button {\n",
       "                    --jp-layout-color3: var(--colab-primary-surface-color, white);\n",
       "                }\n",
       "            </style>\n",
       "            "
      ],
      "text/plain": [
       "<IPython.core.display.HTML object>"
      ]
     },
     "metadata": {},
     "output_type": "display_data"
    },
    {
     "name": "stdout",
     "output_type": "stream",
     "text": [
      "Images available between 2014-01-01 and 2025-01-01:\n",
      "- In Landsat Tier 1 & Sentinel-2 Level-1C:\n"
     ]
    },
    {
     "name": "stderr",
     "output_type": "stream",
     "text": [
      "/home/sagemaker-user/.conda/envs/coastguard/lib/python3.10/site-packages/ee/deprecation.py:207: DeprecationWarning: \n",
      "\n",
      "Attention required for COPERNICUS/S2! You are using a deprecated asset.\n",
      "To make sure your code keeps working, please update it.\n",
      "Learn more: https://developers.google.com/earth-engine/datasets/catalog/COPERNICUS_S2\n",
      "\n",
      "  warnings.warn(warning, category=DeprecationWarning)\n"
     ]
    },
    {
     "name": "stdout",
     "output_type": "stream",
     "text": [
      "  S2: 411 images\n",
      "  Total: 411 images\n"
     ]
    }
   ],
   "source": [
    "inputs = Download.check_images_available(inputs)"
   ]
  },
  {
   "cell_type": "code",
   "execution_count": 13,
   "id": "aed5b6f8",
   "metadata": {
    "execution": {
     "iopub.execute_input": "2025-06-04T18:21:18.623317Z",
     "iopub.status.busy": "2025-06-04T18:21:18.622927Z",
     "iopub.status.idle": "2025-06-04T18:21:20.566670Z",
     "shell.execute_reply": "2025-06-04T18:21:20.565980Z",
     "shell.execute_reply.started": "2025-06-04T18:21:18.623292Z"
    }
   },
   "outputs": [
    {
     "data": {
      "text/html": [
       "\n",
       "            <style>\n",
       "                .geemap-dark {\n",
       "                    --jp-widgets-color: white;\n",
       "                    --jp-widgets-label-color: white;\n",
       "                    --jp-ui-font-color1: white;\n",
       "                    --jp-layout-color2: #454545;\n",
       "                    background-color: #383838;\n",
       "                }\n",
       "\n",
       "                .geemap-dark .jupyter-button {\n",
       "                    --jp-layout-color3: #383838;\n",
       "                }\n",
       "\n",
       "                .geemap-colab {\n",
       "                    background-color: var(--colab-primary-surface-color, white);\n",
       "                }\n",
       "\n",
       "                .geemap-colab .jupyter-button {\n",
       "                    --jp-layout-color3: var(--colab-primary-surface-color, white);\n",
       "                }\n",
       "            </style>\n",
       "            "
      ],
      "text/plain": [
       "<IPython.core.display.HTML object>"
      ]
     },
     "metadata": {},
     "output_type": "display_data"
    },
    {
     "name": "stdout",
     "output_type": "stream",
     "text": [
      "retrieving image metadata...\n",
      "Metadata already exists and was loaded\n"
     ]
    }
   ],
   "source": [
    "Sat = Download.RetrieveImages(inputs)\n",
    "metadata = Download.CollectMetadata(inputs, Sat)"
   ]
  },
  {
   "cell_type": "markdown",
   "id": "869efa15",
   "metadata": {},
   "source": [
    "# Veg detection"
   ]
  },
  {
   "cell_type": "markdown",
   "id": "b5d6f5f1",
   "metadata": {},
   "source": [
    "### settings"
   ]
  },
  {
   "cell_type": "code",
   "execution_count": 14,
   "id": "ae765feb",
   "metadata": {
    "execution": {
     "iopub.execute_input": "2025-06-04T18:21:28.556789Z",
     "iopub.status.busy": "2025-06-04T18:21:28.556369Z",
     "iopub.status.idle": "2025-06-04T18:21:28.562468Z",
     "shell.execute_reply": "2025-06-04T18:21:28.561813Z",
     "shell.execute_reply.started": "2025-06-04T18:21:28.556764Z"
    }
   },
   "outputs": [
    {
     "data": {
      "text/html": [
       "\n",
       "            <style>\n",
       "                .geemap-dark {\n",
       "                    --jp-widgets-color: white;\n",
       "                    --jp-widgets-label-color: white;\n",
       "                    --jp-ui-font-color1: white;\n",
       "                    --jp-layout-color2: #454545;\n",
       "                    background-color: #383838;\n",
       "                }\n",
       "\n",
       "                .geemap-dark .jupyter-button {\n",
       "                    --jp-layout-color3: #383838;\n",
       "                }\n",
       "\n",
       "                .geemap-colab {\n",
       "                    background-color: var(--colab-primary-surface-color, white);\n",
       "                }\n",
       "\n",
       "                .geemap-colab .jupyter-button {\n",
       "                    --jp-layout-color3: var(--colab-primary-surface-color, white);\n",
       "                }\n",
       "            </style>\n",
       "            "
      ],
      "text/plain": [
       "<IPython.core.display.HTML object>"
      ]
     },
     "metadata": {},
     "output_type": "display_data"
    }
   ],
   "source": [
    "BasePath = 'Data/' + sitename + '/lines'\n",
    "\n",
    "if not os.path.isdir(BasePath):\n",
    "    os.makedirs(BasePath)\n",
    "\n",
    "projection_epsg, _ = Toolbox.FindUTM(polygon[0][0][1],polygon[0][0][0])"
   ]
  },
  {
   "cell_type": "code",
   "execution_count": 15,
   "id": "92128ff8",
   "metadata": {
    "execution": {
     "iopub.execute_input": "2025-06-04T18:21:34.617412Z",
     "iopub.status.busy": "2025-06-04T18:21:34.617040Z",
     "iopub.status.idle": "2025-06-04T18:21:34.623335Z",
     "shell.execute_reply": "2025-06-04T18:21:34.622635Z",
     "shell.execute_reply.started": "2025-06-04T18:21:34.617384Z"
    }
   },
   "outputs": [
    {
     "data": {
      "text/html": [
       "\n",
       "            <style>\n",
       "                .geemap-dark {\n",
       "                    --jp-widgets-color: white;\n",
       "                    --jp-widgets-label-color: white;\n",
       "                    --jp-ui-font-color1: white;\n",
       "                    --jp-layout-color2: #454545;\n",
       "                    background-color: #383838;\n",
       "                }\n",
       "\n",
       "                .geemap-dark .jupyter-button {\n",
       "                    --jp-layout-color3: #383838;\n",
       "                }\n",
       "\n",
       "                .geemap-colab {\n",
       "                    background-color: var(--colab-primary-surface-color, white);\n",
       "                }\n",
       "\n",
       "                .geemap-colab .jupyter-button {\n",
       "                    --jp-layout-color3: var(--colab-primary-surface-color, white);\n",
       "                }\n",
       "            </style>\n",
       "            "
      ],
      "text/plain": [
       "<IPython.core.display.HTML object>"
      ]
     },
     "metadata": {},
     "output_type": "display_data"
    }
   ],
   "source": [
    "settings = {\n",
    "    # general parameters:\n",
    "    'cloud_thresh': cloud_thresh,        # threshold on maximum cloud cover\n",
    "    'output_epsg': projection_epsg,     # epsg code of spatial reference system desired for the output   \n",
    "    'wetdry': wetdry,              # extract wet-dry boundary as well as veg\n",
    "    # quality control:\n",
    "    'check_detection': True,    # if True, shows each shoreline detection to the user for validation\n",
    "    'adjust_detection': True,  # if True, allows user to adjust the postion of each shoreline by changing the threhold\n",
    "    'save_figure': True,        # if True, saves a figure showing the mapped shoreline for each image\n",
    "    # [ONLY FOR ADVANCED USERS] shoreline detection parameters:\n",
    "    'min_beach_area': 200,     # minimum area (in metres^2) for an object to be labelled as a beach\n",
    "    'buffer_size': 150,         # radius (in metres) for buffer around sandy pixels considered in the shoreline detection\n",
    "    'min_length_sl': 500,       # minimum length (in metres) of shoreline perimeter to be valid\n",
    "    'cloud_mask_issue': False,  # switch this parameter to True if sand pixels are masked (in black) on many images  \n",
    "    # add the inputs defined previously\n",
    "    'inputs': inputs,\n",
    "    'projection_epsg': projection_epsg,\n",
    "    'year_list': years,\n",
    "}"
   ]
  },
  {
   "cell_type": "markdown",
   "id": "c27252aa",
   "metadata": {},
   "source": [
    "# Vegetation Line Extraction"
   ]
  },
  {
   "cell_type": "markdown",
   "id": "ab4aca4b",
   "metadata": {},
   "source": [
    "##### first time detection: "
   ]
  },
  {
   "cell_type": "code",
   "execution_count": 17,
   "id": "fcfad612",
   "metadata": {
    "execution": {
     "iopub.execute_input": "2025-06-04T18:22:18.012881Z",
     "iopub.status.busy": "2025-06-04T18:22:18.012451Z",
     "iopub.status.idle": "2025-06-04T18:22:18.030399Z",
     "shell.execute_reply": "2025-06-04T18:22:18.029671Z",
     "shell.execute_reply.started": "2025-06-04T18:22:18.012855Z"
    }
   },
   "outputs": [
    {
     "data": {
      "text/html": [
       "\n",
       "            <style>\n",
       "                .geemap-dark {\n",
       "                    --jp-widgets-color: white;\n",
       "                    --jp-widgets-label-color: white;\n",
       "                    --jp-ui-font-color1: white;\n",
       "                    --jp-layout-color2: #454545;\n",
       "                    background-color: #383838;\n",
       "                }\n",
       "\n",
       "                .geemap-dark .jupyter-button {\n",
       "                    --jp-layout-color3: #383838;\n",
       "                }\n",
       "\n",
       "                .geemap-colab {\n",
       "                    background-color: var(--colab-primary-surface-color, white);\n",
       "                }\n",
       "\n",
       "                .geemap-colab .jupyter-button {\n",
       "                    --jp-layout-color3: var(--colab-primary-surface-color, white);\n",
       "                }\n",
       "            </style>\n",
       "            "
      ],
      "text/plain": [
       "<IPython.core.display.HTML object>"
      ]
     },
     "metadata": {},
     "output_type": "display_data"
    }
   ],
   "source": [
    "referenceLine, ref_epsg = Toolbox.ProcessRefline(referenceLinePath, settings)\n",
    "settings['reference_shoreline'] = referenceLine\n",
    "settings['ref_epsg'] = ref_epsg\n",
    "# Distance to buffer reference line by (this is in metres)\n",
    "settings['max_dist_ref'] = max_dist_ref\n",
    "\n",
    "settings['reference_coreg_im'] = None # leave as None if no coregistration is to be performed"
   ]
  },
  {
   "cell_type": "code",
   "execution_count": 18,
   "id": "3021f37d",
   "metadata": {
    "execution": {
     "iopub.execute_input": "2025-06-04T18:22:21.997283Z",
     "iopub.status.busy": "2025-06-04T18:22:21.996896Z",
     "iopub.status.idle": "2025-06-04T18:22:30.797835Z",
     "shell.execute_reply": "2025-06-04T18:22:30.796783Z",
     "shell.execute_reply.started": "2025-06-04T18:22:21.997255Z"
    }
   },
   "outputs": [
    {
     "data": {
      "text/html": [
       "\n",
       "            <style>\n",
       "                .geemap-dark {\n",
       "                    --jp-widgets-color: white;\n",
       "                    --jp-widgets-label-color: white;\n",
       "                    --jp-ui-font-color1: white;\n",
       "                    --jp-layout-color2: #454545;\n",
       "                    background-color: #383838;\n",
       "                }\n",
       "\n",
       "                .geemap-dark .jupyter-button {\n",
       "                    --jp-layout-color3: #383838;\n",
       "                }\n",
       "\n",
       "                .geemap-colab {\n",
       "                    background-color: var(--colab-primary-surface-color, white);\n",
       "                }\n",
       "\n",
       "                .geemap-colab .jupyter-button {\n",
       "                    --jp-layout-color3: var(--colab-primary-surface-color, white);\n",
       "                }\n",
       "            </style>\n",
       "            "
      ],
      "text/plain": [
       "<IPython.core.display.HTML object>"
      ]
     },
     "metadata": {},
     "output_type": "display_data"
    },
    {
     "name": "stdout",
     "output_type": "stream",
     "text": [
      "Mapping veglines:\n",
      "Using initial georef: [717129, 10, 0, 5002985, 0, -10]\n",
      "S2:   0.345 %  \n",
      "saving COPERNICUS/S2_SR_HARMONIZED/20181213T152629_20181213T152947_T19TGL\n",
      " \n",
      "saving classified COPERNICUS/S2_SR_HARMONIZED/20181213T152629_20181213T152947_T19TGL\n",
      " \n",
      "saving transition zone of COPERNICUS/S2_SR_HARMONIZED/20181213T152629_20181213T152947_T19TGL\n"
     ]
    },
    {
     "ename": "AttributeError",
     "evalue": "'FigureManager' object has no attribute 'window'",
     "output_type": "error",
     "traceback": [
      "\u001b[0;31m---------------------------------------------------------------------------\u001b[0m",
      "\u001b[0;31mAttributeError\u001b[0m                            Traceback (most recent call last)",
      "Cell \u001b[0;32mIn[18], line 1\u001b[0m\n\u001b[0;32m----> 1\u001b[0m output, output_latlon, output_proj \u001b[38;5;241m=\u001b[39m \u001b[43mVegetationLine\u001b[49m\u001b[38;5;241;43m.\u001b[39;49m\u001b[43mextract_veglines\u001b[49m\u001b[43m(\u001b[49m\u001b[43mmetadata\u001b[49m\u001b[43m,\u001b[49m\u001b[43m \u001b[49m\u001b[43msettings\u001b[49m\u001b[43m,\u001b[49m\u001b[43m \u001b[49m\u001b[43mpolygon\u001b[49m\u001b[43m,\u001b[49m\u001b[43m \u001b[49m\u001b[43mdates\u001b[49m\u001b[43m)\u001b[49m\n",
      "File \u001b[0;32m~/COASTGUARD/Toolshed/VegetationLine.py:245\u001b[0m, in \u001b[0;36mextract_veglines\u001b[0;34m(metadata, settings, polygon, dates, savetifs)\u001b[0m\n\u001b[1;32m    243\u001b[0m date \u001b[38;5;241m=\u001b[39m metadata[satname][\u001b[38;5;124m'\u001b[39m\u001b[38;5;124mdates\u001b[39m\u001b[38;5;124m'\u001b[39m][fn]\n\u001b[1;32m    244\u001b[0m \u001b[38;5;28;01mif\u001b[39;00m settings[\u001b[38;5;124m'\u001b[39m\u001b[38;5;124mwetdry\u001b[39m\u001b[38;5;124m'\u001b[39m] \u001b[38;5;241m==\u001b[39m \u001b[38;5;28;01mTrue\u001b[39;00m:\n\u001b[0;32m--> 245\u001b[0m     skip_image, vegline, vegline_latlon, vegline_proj, t_ndvi \u001b[38;5;241m=\u001b[39m \u001b[43madjust_detection\u001b[49m\u001b[43m(\u001b[49m\u001b[43mim_ms\u001b[49m\u001b[43m,\u001b[49m\u001b[43m \u001b[49m\u001b[43mcloud_mask\u001b[49m\u001b[43m,\u001b[49m\u001b[43m \u001b[49m\u001b[43mim_labels\u001b[49m\u001b[43m,\u001b[49m\u001b[43m \u001b[49m\u001b[43mim_ref_buffer\u001b[49m\u001b[43m,\u001b[49m\u001b[43m \u001b[49m\u001b[43mvegline\u001b[49m\u001b[43m,\u001b[49m\u001b[43m \u001b[49m\u001b[43mvegline_latlon\u001b[49m\u001b[43m,\u001b[49m\u001b[43m \u001b[49m\u001b[43mvegline_proj\u001b[49m\u001b[43m,\u001b[49m\n\u001b[1;32m    246\u001b[0m \u001b[43m                                                                                 \u001b[49m\u001b[43mimage_epsg\u001b[49m\u001b[43m,\u001b[49m\u001b[43m \u001b[49m\u001b[43mgeoref\u001b[49m\u001b[43m,\u001b[49m\u001b[43m \u001b[49m\u001b[43msettings\u001b[49m\u001b[43m,\u001b[49m\u001b[43m \u001b[49m\u001b[43mdate\u001b[49m\u001b[43m,\u001b[49m\u001b[43m \u001b[49m\u001b[43msatname\u001b[49m\u001b[43m,\u001b[49m\u001b[43m \u001b[49m\u001b[43mcontours_ndvi\u001b[49m\u001b[43m,\u001b[49m\u001b[43m \u001b[49m\u001b[43mt_ndvi\u001b[49m\u001b[43m,\u001b[49m\n\u001b[1;32m    247\u001b[0m \u001b[43m                                                                                  \u001b[49m\u001b[43msh_classif\u001b[49m\u001b[43m,\u001b[49m\u001b[43m \u001b[49m\u001b[43msh_labels\u001b[49m\u001b[43m,\u001b[49m\u001b[43m \u001b[49m\u001b[43mcontours_ndwi\u001b[49m\u001b[43m,\u001b[49m\u001b[43m \u001b[49m\u001b[43mt_ndwi\u001b[49m\u001b[43m)\u001b[49m\n\u001b[1;32m    248\u001b[0m \u001b[38;5;28;01melse\u001b[39;00m:\n\u001b[1;32m    249\u001b[0m     skip_image, vegline, vegline_latlon, vegline_proj, t_ndvi \u001b[38;5;241m=\u001b[39m adjust_detection(im_ms, cloud_mask, im_labels, im_ref_buffer, vegline, vegline_latlon, vegline_proj,\n\u001b[1;32m    250\u001b[0m                                                                                  image_epsg, georef,settings, date, satname, contours_ndvi, t_ndvi)\n",
      "File \u001b[0;32m~/COASTGUARD/Toolshed/VegetationLine.py:1997\u001b[0m, in \u001b[0;36madjust_detection\u001b[0;34m(im_ms, cloud_mask, im_labels, im_ref_buffer, vegline, vegline_latlon, vegline_proj, image_epsg, georef, settings, date, satname, contours_ndvi, t_ndvi, sh_classif, sh_labels, contours_ndwi, t_ndwi)\u001b[0m\n\u001b[1;32m   1995\u001b[0m fig\u001b[38;5;241m.\u001b[39mset_size_inches([\u001b[38;5;241m18\u001b[39m, \u001b[38;5;241m9\u001b[39m])\n\u001b[1;32m   1996\u001b[0m mng \u001b[38;5;241m=\u001b[39m plt\u001b[38;5;241m.\u001b[39mget_current_fig_manager()\n\u001b[0;32m-> 1997\u001b[0m \u001b[43mmng\u001b[49m\u001b[38;5;241;43m.\u001b[39;49m\u001b[43mwindow\u001b[49m\u001b[38;5;241m.\u001b[39mshowMaximized()\n\u001b[1;32m   1998\u001b[0m \u001b[38;5;66;03m# according to the image shape, decide whether it is better to have the images\u001b[39;00m\n\u001b[1;32m   1999\u001b[0m \u001b[38;5;66;03m# in vertical subplots or horizontal subplots\u001b[39;00m\n\u001b[1;32m   2000\u001b[0m \u001b[38;5;28;01mif\u001b[39;00m im_RGB\u001b[38;5;241m.\u001b[39mshape[\u001b[38;5;241m1\u001b[39m] \u001b[38;5;241m>\u001b[39m \u001b[38;5;241m2.5\u001b[39m\u001b[38;5;241m*\u001b[39mim_RGB\u001b[38;5;241m.\u001b[39mshape[\u001b[38;5;241m0\u001b[39m]:\n\u001b[1;32m   2001\u001b[0m     \u001b[38;5;66;03m# vertical subplots (plot in rows)\u001b[39;00m\n",
      "\u001b[0;31mAttributeError\u001b[0m: 'FigureManager' object has no attribute 'window'"
     ]
    },
    {
     "data": {
      "application/vnd.jupyter.widget-view+json": {
       "model_id": "443a9ff121c94b83b10259f69dc6018c",
       "version_major": 2,
       "version_minor": 0
      },
      "image/png": "[encoded data removed]",
      "text/html": [
       "\n",
       "            <div style=\"display: inline-block;\">\n",
       "                <div class=\"jupyter-widgets widget-label\" style=\"text-align: center;\">\n",
       "                    Figure\n",
       "                </div>\n",
       "                <img src='data:image/png;base64,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' width=1800.0/>\n",
       "            </div>\n",
       "        "
      ],
      "text/plain": [
       "Canvas(toolbar=Toolbar(toolitems=[('Home', 'Reset original view', 'home', 'home'), ('Back', 'Back to previous …"
      ]
     },
     "metadata": {},
     "output_type": "display_data"
    }
   ],
   "source": [
    "output, output_latlon, output_proj = VegetationLine.extract_veglines(metadata, settings, polygon, dates)"
   ]
  },
  {
   "cell_type": "markdown",
   "id": "546eb51b",
   "metadata": {},
   "source": [
    "##### second time load in:"
   ]
  },
  {
   "cell_type": "code",
   "execution_count": null,
   "id": "593b79dd",
   "metadata": {},
   "outputs": [],
   "source": [
    "output, output_latlon, output_proj = Toolbox.ReadOutput(inputs)\n",
    "\n",
    "# Remove Duplicate Lines\n",
    "# For images taken on the same date by the same satellite, keep only the longest line\n",
    "output = Toolbox.RemoveDuplicates(output) "
   ]
  },
  {
   "cell_type": "markdown",
   "id": "4da28e4f",
   "metadata": {},
   "source": [
    "##### save outcome to local shapefile"
   ]
  },
  {
   "cell_type": "code",
   "execution_count": null,
   "id": "110fc866",
   "metadata": {},
   "outputs": [],
   "source": [
    "# Save output veglines \n",
    "Toolbox.SaveConvShapefiles(output, BasePath, sitename, settings['output_epsg'])\n",
    "# Save output shorelines if they were generated\n",
    "if settings['wetdry'] == True:\n",
    "    Toolbox.SaveConvShapefiles_Water(output, BasePath, sitename, settings['output_epsg'])"
   ]
  },
  {
   "cell_type": "markdown",
   "id": "974b1c26",
   "metadata": {},
   "source": [
    "# Transects detection"
   ]
  },
  {
   "cell_type": "markdown",
   "id": "29494951",
   "metadata": {},
   "source": [
    "#### basics"
   ]
  },
  {
   "cell_type": "markdown",
   "id": "31431976",
   "metadata": {},
   "source": [
    "##### settings"
   ]
  },
  {
   "cell_type": "code",
   "execution_count": null,
   "id": "3ddfdcdd",
   "metadata": {},
   "outputs": [],
   "source": [
    "# settings\n",
    "SmoothingWindowSize = 21 \n",
    "NoSmooths = 100\n",
    "TransectSpacing = 10\n",
    "DistanceInland = 100\n",
    "DistanceOffshore = 100\n",
    "\n",
    "# Provide average beach slope (tanBeta) for site, for calculating corrected beach widths\n",
    "# Set to 'None' if you want to use CoastSat.slope to calculate per-transect slopes for correcting with\n",
    "beachslope = None"
   ]
  },
  {
   "cell_type": "markdown",
   "id": "76da3af6",
   "metadata": {},
   "source": [
    "##### cross-shorelines transects"
   ]
  },
  {
   "cell_type": "code",
   "execution_count": null,
   "id": "b72a094b",
   "metadata": {},
   "outputs": [],
   "source": [
    "VegBasePath = 'Data/' + sitename + '/lines'\n",
    "VeglineShp = glob.glob(BasePath+'/*veglines.shp')\n",
    "VeglineGDF = gpd.read_file(VeglineShp[0])\n",
    "VeglineGDF = VeglineGDF.sort_values(by='dates') # sort GDF by dates to ensure transect intersects occur in chronological order\n",
    "VeglineGDF = VeglineGDF.reset_index(drop=True) # reset GDF index after date sorting\n",
    "if settings['wetdry'] == True:\n",
    "    WaterlineShp = glob.glob(BasePath+'/*waterlines.shp')\n",
    "    WaterlineGDF = gpd.read_file(WaterlineShp[0])\n",
    "    WaterlineGDF = WaterlineGDF.sort_values(by='dates') # as above with VeglineGDF date sorting\n",
    "    WaterlineGDF = WaterlineGDF.reset_index(drop=True)\n",
    "# Produces Transects for the reference line\n",
    "TransectSpec =  os.path.join(BasePath, sitename+'_Transects.shp')\n",
    "\n",
    "# If transects already exist, load them in\n",
    "if os.path.isfile(TransectSpec[:-3]+'pkl') is False:\n",
    "    TransectGDF = Transects.ProduceTransects(settings, SmoothingWindowSize, NoSmooths, TransectSpacing, DistanceInland, DistanceOffshore, VegBasePath, referenceLineShp)\n",
    "else:\n",
    "    print('Transects already exist and were loaded')\n",
    "    with open(TransectSpec[:-3]+'pkl', 'rb') as Tfile: \n",
    "        TransectGDF = pickle.load(Tfile)\n",
    "    \n",
    "# make new transect intersections folder\n",
    "if os.path.isdir(os.path.join(filepath, sitename, 'intersections')) is False:\n",
    "    os.mkdir(os.path.join(filepath, sitename, 'intersections'))"
   ]
  },
  {
   "cell_type": "markdown",
   "id": "d255989a",
   "metadata": {},
   "source": [
    "##### veg edges intersection along each transect"
   ]
  },
  {
   "cell_type": "code",
   "execution_count": null,
   "id": "5f78481b",
   "metadata": {},
   "outputs": [],
   "source": [
    "if os.path.isfile(os.path.join(filepath, sitename, 'intersections', sitename + '_transect_intersects.pkl')):\n",
    "    print('Transect Intersect GDF exists and was loaded')\n",
    "    with open(os.path.join\n",
    "              (filepath , sitename, 'intersections', sitename + '_transect_intersects.pkl'), 'rb') as f:\n",
    "        TransectInterGDF = pickle.load(f)\n",
    "else:\n",
    "    # Get intersections\n",
    "    TransectInterGDF = Transects.GetIntersections(BasePath, TransectGDF, VeglineGDF)\n",
    "    # Save newly intersected transects as shapefile\n",
    "    TransectInterGDF = Transects.SaveIntersections(TransectInterGDF, VeglineGDF, BasePath, sitename)\n",
    "    # Repopulate dict with intersection distances along transects normalised to transect midpoints\n",
    "    TransectInterGDF = Transects.CalculateChanges(TransectInterGDF)\n",
    "    \n",
    "    with open(os.path.join(filepath, sitename, 'intersections', sitename + '_transect_intersects.pkl'), 'wb') as f:\n",
    "        pickle.dump(TransectInterGDF, f)"
   ]
  },
  {
   "cell_type": "markdown",
   "id": "96eed93b",
   "metadata": {},
   "source": [
    "##### waterlines intersection along each transect"
   ]
  },
  {
   "cell_type": "code",
   "execution_count": null,
   "id": "f6f03557",
   "metadata": {},
   "outputs": [],
   "source": [
    "if os.path.isfile(os.path.join(filepath, sitename, 'intersections', sitename + '_transect_water_intersects.pkl')):\n",
    "    print('Transect Intersect + Water GDF exists and was loaded')\n",
    "    with open(os.path.join\n",
    "              (filepath , sitename, 'intersections', sitename + '_transect_water_intersects.pkl'), 'rb') as f:\n",
    "        TransectInterGDFWater = pickle.load(f)\n",
    "else:        \n",
    "    if settings['wetdry'] == True:\n",
    "        TransectInterGDFWater = Transects.GetWaterIntersections(BasePath, TransectGDF, TransectInterGDF, WaterlineGDF, settings, output)  \n",
    "    \n",
    "    with open(os.path.join(filepath, sitename, 'intersections', sitename + '_transect_water_intersects.pkl'), 'wb') as f:\n",
    "        pickle.dump(TransectInterGDFWater, f)"
   ]
  },
  {
   "cell_type": "markdown",
   "id": "309202ed",
   "metadata": {},
   "source": [
    "#### waves and tide included"
   ]
  },
  {
   "cell_type": "markdown",
   "id": "4492610f",
   "metadata": {},
   "source": [
    "##### waves intersections"
   ]
  },
  {
   "cell_type": "code",
   "execution_count": null,
   "id": "e2353aa2",
   "metadata": {},
   "outputs": [],
   "source": [
    "import traceback\n",
    "\n",
    "if os.path.isfile(os.path.join(filepath, sitename, 'intersections', sitename + '_transect_wave_intersects.pkl')):\n",
    "    print('Transect Intersect + Wave GDF exists and was loaded')\n",
    "    with open(os.path.join(filepath, sitename, 'intersections', sitename + '_transect_wave_intersects.pkl'), 'rb') as f:\n",
    "        TransectInterGDFWave = pickle.load(f)\n",
    "else:\n",
    "    try:\n",
    "        TransectInterGDFWave = Transects.WavesIntersect(settings, TransectInterGDF, BasePath, output, lonmin, lonmax, latmin, latmax)\n",
    "\n",
    "        with open(os.path.join(filepath, sitename, 'intersections', sitename + '_transect_wave_intersects.pkl'), 'wb') as f:\n",
    "            pickle.dump(TransectInterGDFWave, f)\n",
    "\n",
    "        print(f'Wave intersect successfully generated and saved for site: {sitename}')\n",
    "\n",
    "    except Exception as e:\n",
    "        print(f'Failed to process wave data for site: {sitename}')\n",
    "        print('Error message:', str(e))\n",
    "        traceback.print_exc()\n",
    "        TransectInterGDFWave = None"
   ]
  },
  {
   "cell_type": "markdown",
   "id": "c54c073f",
   "metadata": {},
   "source": [
    "##### Additional wave-based WL metrics\n",
    "This is for comparing shoreline change with vegetation change, and for quantifying the beach width between the two for each image. If you would like to include runup in your waterline corrections, add `TransectInterGDFWave` to `GetWaterIntersections()`:\n",
    "\n",
    "```TransectInterGDFWater = Transects.GetWaterIntersections(BasePath, TransectGDF, TransectInterGDF, WaterlineGDF, settings, output, TransectInterGDFWave, beachslope)```\n",
    "\n",
    "If you want to include runup AND calculate slopes using CoastSat.slope (recommended), exclude the `beachslope` variable:\n",
    "\n",
    "`TransectInterGDFWater = Transects.GetWaterIntersections(BasePath, TransectGDF, TransectInterGDF, WaterlineGDF, settings, output, TransectInterGDFWave)`"
   ]
  },
  {
   "cell_type": "code",
   "execution_count": null,
   "id": "a4242040",
   "metadata": {},
   "outputs": [],
   "source": [
    "import pandas as pd\n",
    "from datetime import datetime\n",
    "\n",
    "# === 1. Load your original tide CSV ===\n",
    "tide_df = pd.read_csv(r'C:\\MPA\\tide_data\\tide_db\\coast_tides_1.csv')\n",
    "\n",
    "# === 2. Convert the 'dates' column to remove timezone ===\n",
    "# It will convert to naive datetime (no timezone)\n",
    "tide_df['dates'] = pd.to_datetime(tide_df['dates']).dt.tz_localize(None)\n",
    "tide_df = tide_df.rename(columns={'dates': 'date'})\n",
    "\n",
    "# === 3. Save to correct CoastGuard path ===\n",
    "date_start = '2015-01-01'\n",
    "date_end = '2025-01-01'\n",
    "\n",
    "# Build the output path\n",
    "save_path = fr'C:\\MPA\\COASTGUARD\\Data\\tides\\{sitename}_tides_{date_start}_{date_end}.csv'\n",
    "\n",
    "# Save without index\n",
    "tide_df.to_csv(save_path, index=False)\n",
    "\n",
    "print(f\"Tide file saved to {save_path}\")"
   ]
  },
  {
   "cell_type": "code",
   "execution_count": null,
   "id": "0e0637da",
   "metadata": {},
   "outputs": [],
   "source": [
    "beachslope = None\n",
    "\n",
    "TransectInterGDFWater = Transects.GetWaterIntersections(BasePath, TransectGDF, TransectInterGDF, WaterlineGDF, settings, output)"
   ]
  },
  {
   "cell_type": "code",
   "execution_count": null,
   "id": "a2d2f245",
   "metadata": {},
   "outputs": [],
   "source": [
    "# Check if waterline corrections have been applied\n",
    "if 'wlcorrdist' not in TransectInterGDFWater.columns:\n",
    "    # Apply tidal + wave runup correction\n",
    "    TransectInterGDFWater = Transects.WLCorrections(\n",
    "        settings, \n",
    "        output, \n",
    "        TransectInterGDFWater, \n",
    "        TransectInterGDFWave,  # <- Add the wave-based intersections here\n",
    "        # Do NOT pass beachslope — leave it to auto-calculate!\n",
    "    )     \n",
    "\n",
    "# Calculate the beach width between Vegetation Line and corrected Water Line\n",
    "TransectInterGDFWater = Transects.CalcBeachWidth(\n",
    "    settings, \n",
    "    TransectGDF, \n",
    "    TransectInterGDFWater\n",
    ")\n",
    "\n",
    "# Save corrected Water Line intersections shapefile\n",
    "TransectInterGDFWater = Transects.SaveWaterIntersections(\n",
    "    TransectInterGDFWater, \n",
    "    WaterlineGDF,  \n",
    "    BasePath, \n",
    "    sitename\n",
    ")"
   ]
  },
  {
   "cell_type": "code",
   "execution_count": null,
   "id": "6e67d7f2",
   "metadata": {},
   "outputs": [],
   "source": [
    "# Save intersections as a pickle file\n",
    "with open(os.path.join(filepath, sitename, 'intersections', sitename + '_transect_water_intersects.pkl'), 'wb') as f:\n",
    "    pickle.dump(TransectInterGDFWater, f)"
   ]
  },
  {
   "cell_type": "code",
   "execution_count": null,
   "id": "75501cfa",
   "metadata": {},
   "outputs": [],
   "source": [
    "import scipy\n",
    "print(scipy.__version__)"
   ]
  },
  {
   "cell_type": "code",
   "execution_count": null,
   "id": "114552ab",
   "metadata": {},
   "outputs": [],
   "source": []
  },
  {
   "cell_type": "markdown",
   "id": "9bc0a8ca",
   "metadata": {},
   "source": [
    "##### Transect-Topo Intersections\n",
    "intersections with topographic data along each transect. This is for comparing veg edge positions with dune slopes"
   ]
  },
  {
   "cell_type": "code",
   "execution_count": null,
   "id": "d39d3993",
   "metadata": {},
   "outputs": [],
   "source": [
    "# EDIT ME: Path to slope raster for extracting slope values\n",
    "TIF = '/path/to/Slope_Raster.tif'\n",
    "\n",
    "if os.path.isfile(os.path.join(filepath, sitename, 'intersections', sitename + '_transect_topo_intersects.pkl')):\n",
    "    print('Transect Intersect + Topo GDF exists and was loaded')\n",
    "    with open(os.path.join\n",
    "              (filepath , sitename, 'intersections', sitename + '_transect_topo_intersects.pkl'), 'rb') as f:\n",
    "        TransectInterGDFTopo = pickle.load(f)\n",
    "else:\n",
    "    # Update Transects with Transition Zone widths and slope if available\n",
    "    TransectInterGDFTopo = Transects.TZIntersect(settings, TransectInterGDF, VeglineGDF, BasePath)\n",
    "    TransectInterGDFTopo = Transects.SlopeIntersect(settings, TransectInterGDFTopo, VeglineGDF, BasePath, TIF)\n",
    "    \n",
    "    with open(os.path.join(filepath, sitename, 'intersections', sitename + '_transect_topo_intersects.pkl'), 'wb') as f:\n",
    "        pickle.dump(TransectInterGDFTopo, f)"
   ]
  },
  {
   "cell_type": "markdown",
   "id": "3b16fbb9",
   "metadata": {},
   "source": [
    "#### Plotting\n",
    "Edit the desired Transect IDs to plot timeseries of veg change and beach width change across "
   ]
  },
  {
   "cell_type": "code",
   "execution_count": null,
   "id": "e3c524a3",
   "metadata": {},
   "outputs": [],
   "source": [
    "# Timeseries Plotting\n",
    "\n",
    "# EDIT ME: Select transect ID to plot\n",
    "# You can plot subplots within a list of plot IDs, e.g. [[sub1, sub2], plot2]\n",
    "# You can also comment Line 1 out and uncomment Line 2 to create plots for ALL Transect IDs\n",
    "# NOTE: If you want to plot ALL transects, it's recommended you switch ShowPlot=False\n",
    "\n",
    "TransectIDs = [[25,30,35],50,75] # Line 1\n",
    "# TransectIDs = list(TransectInterGDF['TransectID']) # Line 2\n",
    "\n",
    "for TransectID in TransectIDs:\n",
    "    # Plot timeseries of cross-shore veg position\n",
    "    Plotting.VegTimeseries(sitename, TransectInterGDF, TransectID, Hemisphere='N', ShowPlot=True)\n",
    "    # If plotting veg and water lines together\n",
    "    if settings['wetdry']:\n",
    "        Plotting.VegWaterTimeseries(sitename, TransectInterGDFWater, TransectID, Hemisphere='N', ShowPlot=True)\n"
   ]
  },
  {
   "cell_type": "code",
   "execution_count": null,
   "id": "7d9c5118",
   "metadata": {},
   "outputs": [],
   "source": [
    "# Beach Width Plotting\n",
    "\n",
    "# Select transect ID to plot\n",
    "TransectIDs = [[25,30,35],50,75]\n",
    "for TransectID in TransectIDs:\n",
    "    # Plot timeseries of cross-shore width between water edge and veg edge \n",
    "    Plotting.WidthTimeseries(sitename, TransectInterGDFWater, TransectID, Hemisphere='N')\n"
   ]
  },
  {
   "cell_type": "code",
   "execution_count": null,
   "id": "44cd6f49",
   "metadata": {},
   "outputs": [],
   "source": [
    "# EDIT ME: Path to slope raster for extracting slope values\n",
    "# TIF = r\"C:\\MPA\\COASTGUARD\\TestData\\C1\\slopes\\musquash_slope.tif\"  # example path\n",
    "\n",
    "if os.path.isfile(os.path.join(filepath, sitename, 'intersections', sitename + '_transect_topo_intersects.pkl')):\n",
    "    print('Transect Intersect + Topo GDF exists and was loaded')\n",
    "    with open(os.path.join\n",
    "              (filepath , sitename, 'intersections', sitename + '_transect_topo_intersects.pkl'), 'rb') as f:\n",
    "        TransectInterGDFTopo = pickle.load(f)\n",
    "else:\n",
    "    # Update Transects with Transition Zone widths and slope if available\n",
    "    TransectInterGDFTopo = Transects.TZIntersect(settings, TransectInterGDF, VeglineGDF, BasePath)\n",
    "    # TransectInterGDFTopo = Transects.SlopeIntersect(settings, TransectInterGDFTopo, VeglineGDF, BasePath, TIF)\n",
    "    \n",
    "    with open(os.path.join(filepath, sitename, 'intersections', sitename + '_transect_topo_intersects.pkl'), 'wb') as f:\n",
    "        pickle.dump(TransectInterGDFTopo, f)"
   ]
  },
  {
   "cell_type": "code",
   "execution_count": null,
   "id": "4c94dae9",
   "metadata": {},
   "outputs": [],
   "source": [
    "# Timeseries Plotting\n",
    "\n",
    "# EDIT ME: Select transect ID to plot\n",
    "# You can plot subplots within a list of plot IDs, e.g. [[sub1, sub2], plot2]\n",
    "# You can also comment Line 1 out and uncomment Line 2 to create plots for ALL Transect IDs\n",
    "# NOTE: If you want to plot ALL transects, it's recommended you switch ShowPlot=False\n",
    "\n",
    "TransectIDs = [[25,30,35],50,75] # Line 1\n",
    "# TransectIDs = list(TransectInterGDF['TransectID']) # Line 2\n",
    "\n",
    "for TransectID in TransectIDs:\n",
    "    # Plot timeseries of cross-shore veg position\n",
    "    Plotting.VegTimeseries(sitename, TransectInterGDF, TransectID, Hemisphere='N', ShowPlot=True)\n",
    "    # If plotting veg and water lines together\n",
    "    if settings['wetdry']:\n",
    "        Plotting.VegWaterTimeseries(sitename, TransectInterGDFWater, TransectID, Hemisphere='N', ShowPlot=True)"
   ]
  }
 ],
 "metadata": {
  "kernelspec": {
   "display_name": "conda_coastguard",
   "language": "python",
   "name": "coastguard"
  },
  "language_info": {
   "codemirror_mode": {
    "name": "ipython",
    "version": 3
   },
   "file_extension": ".py",
   "mimetype": "text/x-python",
   "name": "python",
   "nbconvert_exporter": "python",
   "pygments_lexer": "ipython3",
   "version": "3.10.18"
  }
 },
 "nbformat": 4,
 "nbformat_minor": 5
}
