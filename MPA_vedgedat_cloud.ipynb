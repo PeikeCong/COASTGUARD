{
 "cells": [
  {
   "cell_type": "markdown",
   "id": "e18670f2",
   "metadata": {},
   "source": [
    "# set up environment"
   ]
  },
  {
   "cell_type": "markdown",
   "id": "2a73d5fa",
   "metadata": {},
   "source": [
    "### initialize"
   ]
  },
  {
   "cell_type": "code",
   "execution_count": 22,
   "id": "d654275c",
   "metadata": {
    "execution": {
     "iopub.execute_input": "2025-06-13T17:42:21.451743Z",
     "iopub.status.busy": "2025-06-13T17:42:21.451357Z",
     "iopub.status.idle": "2025-06-13T17:42:21.910549Z",
     "shell.execute_reply": "2025-06-13T17:42:21.909862Z",
     "shell.execute_reply.started": "2025-06-13T17:42:21.451715Z"
    }
   },
   "outputs": [
    {
     "data": {
      "text/html": [
       "\n",
       "            <style>\n",
       "                .geemap-dark {\n",
       "                    --jp-widgets-color: white;\n",
       "                    --jp-widgets-label-color: white;\n",
       "                    --jp-ui-font-color1: white;\n",
       "                    --jp-layout-color2: #454545;\n",
       "                    background-color: #383838;\n",
       "                }\n",
       "\n",
       "                .geemap-dark .jupyter-button {\n",
       "                    --jp-layout-color3: #383838;\n",
       "                }\n",
       "\n",
       "                .geemap-colab {\n",
       "                    background-color: var(--colab-primary-surface-color, white);\n",
       "                }\n",
       "\n",
       "                .geemap-colab .jupyter-button {\n",
       "                    --jp-layout-color3: var(--colab-primary-surface-color, white);\n",
       "                }\n",
       "            </style>\n",
       "            "
      ],
      "text/plain": [
       "<IPython.core.display.HTML object>"
      ]
     },
     "metadata": {},
     "output_type": "display_data"
    },
    {
     "data": {
      "text/plain": [
       "True"
      ]
     },
     "execution_count": 22,
     "metadata": {},
     "output_type": "execute_result"
    }
   ],
   "source": [
    "import os\n",
    "import shutil\n",
    "import glob\n",
    "import pickle\n",
    "import warnings\n",
    "warnings.filterwarnings(\"ignore\")\n",
    "import matplotlib\n",
    "%matplotlib inline\n",
    "import matplotlib.pyplot as plt\n",
    "plt.ion()\n",
    "from datetime import datetime\n",
    "from Toolshed import Download, Toolbox, VegetationLine, Plotting, PlottingSeaborn, Transects\n",
    "import ee\n",
    "import geopandas as gpd\n",
    "import geemap\n",
    "from shapely.geometry import MultiPolygon\n",
    "matplotlib.rcParams['font.family'] = 'DejaVu Sans'\n",
    "\n",
    "ee.Initialize()\n",
    "ee.Authenticate() # should only need to be run the first time after installation"
   ]
  },
  {
   "cell_type": "markdown",
   "id": "f228ad09",
   "metadata": {},
   "source": [
    "### parameter settings"
   ]
  },
  {
   "cell_type": "code",
   "execution_count": 23,
   "id": "52f11935",
   "metadata": {
    "execution": {
     "iopub.execute_input": "2025-06-13T17:42:21.912463Z",
     "iopub.status.busy": "2025-06-13T17:42:21.911817Z",
     "iopub.status.idle": "2025-06-13T17:42:21.917492Z",
     "shell.execute_reply": "2025-06-13T17:42:21.916920Z",
     "shell.execute_reply.started": "2025-06-13T17:42:21.912426Z"
    }
   },
   "outputs": [
    {
     "data": {
      "text/html": [
       "\n",
       "            <style>\n",
       "                .geemap-dark {\n",
       "                    --jp-widgets-color: white;\n",
       "                    --jp-widgets-label-color: white;\n",
       "                    --jp-ui-font-color1: white;\n",
       "                    --jp-layout-color2: #454545;\n",
       "                    background-color: #383838;\n",
       "                }\n",
       "\n",
       "                .geemap-dark .jupyter-button {\n",
       "                    --jp-layout-color3: #383838;\n",
       "                }\n",
       "\n",
       "                .geemap-colab {\n",
       "                    background-color: var(--colab-primary-surface-color, white);\n",
       "                }\n",
       "\n",
       "                .geemap-colab .jupyter-button {\n",
       "                    --jp-layout-color3: var(--colab-primary-surface-color, white);\n",
       "                }\n",
       "            </style>\n",
       "            "
      ],
      "text/plain": [
       "<IPython.core.display.HTML object>"
      ]
     },
     "metadata": {},
     "output_type": "display_data"
    }
   ],
   "source": [
    "# The points represent the corners of a bounding box that go around your site\n",
    "sitename = 'test_left'\n",
    "\n",
    "# Date range\n",
    "dates = ['2014-01-01', '2025-01-01']\n",
    "\n",
    "# Satellite missions\n",
    "# Input a list of containing any/all of 'L5', 'L7', 'L8', 'L9', 'S2', 'PSScene4Band'\n",
    "# L5: 1984-2013; L7: 1999-2017 (SLC error from 2003); L8: 2013-present; S2: 2014-present; L9: 2021-present\n",
    "sat_list = ['PSScene4Band']\n",
    "\n",
    "# Cloud threshold for screening out cloudy imagery (0.5 or 50% recommended)\n",
    "cloud_thresh = 0.3\n",
    "\n",
    "# Extract shoreline (wet-dry boundary) as well as veg edge\n",
    "wetdry = True\n",
    "\n",
    "# Directory where the data will be stored\n",
    "filepath = Toolbox.CreateFileStructure(sitename, sat_list)"
   ]
  },
  {
   "cell_type": "markdown",
   "id": "0a9a0453",
   "metadata": {},
   "source": [
    "# load locations information and Reference Lines"
   ]
  },
  {
   "cell_type": "markdown",
   "id": "5fc44ae8",
   "metadata": {},
   "source": [
    "### load reference shoreline AOI on reference shoreline (in library)"
   ]
  },
  {
   "cell_type": "code",
   "execution_count": 24,
   "id": "a8f2001b-7fc4-4184-bddd-5d3be8e6c492",
   "metadata": {
    "execution": {
     "iopub.execute_input": "2025-06-13T17:42:21.918641Z",
     "iopub.status.busy": "2025-06-13T17:42:21.918285Z",
     "iopub.status.idle": "2025-06-13T17:42:21.923923Z",
     "shell.execute_reply": "2025-06-13T17:42:21.923352Z",
     "shell.execute_reply.started": "2025-06-13T17:42:21.918608Z"
    }
   },
   "outputs": [
    {
     "data": {
      "text/html": [
       "\n",
       "            <style>\n",
       "                .geemap-dark {\n",
       "                    --jp-widgets-color: white;\n",
       "                    --jp-widgets-label-color: white;\n",
       "                    --jp-ui-font-color1: white;\n",
       "                    --jp-layout-color2: #454545;\n",
       "                    background-color: #383838;\n",
       "                }\n",
       "\n",
       "                .geemap-dark .jupyter-button {\n",
       "                    --jp-layout-color3: #383838;\n",
       "                }\n",
       "\n",
       "                .geemap-colab {\n",
       "                    background-color: var(--colab-primary-surface-color, white);\n",
       "                }\n",
       "\n",
       "                .geemap-colab .jupyter-button {\n",
       "                    --jp-layout-color3: var(--colab-primary-surface-color, white);\n",
       "                }\n",
       "            </style>\n",
       "            "
      ],
      "text/plain": [
       "<IPython.core.display.HTML object>"
      ]
     },
     "metadata": {},
     "output_type": "display_data"
    }
   ],
   "source": [
    "# Reference shoreline/veg line shapefile name (should be stored in a folder called referenceLines in Data)\n",
    "# Line should be ONE CONTINUOUS linestring along the shore, stored as a shapefile in WGS84 coord system\n",
    "referenceLineShp = sitename + '_ref.shp'\n",
    "# Maximum amount in metres by which to buffer the reference line for capturing veg edges within\n",
    "max_dist_ref = 150"
   ]
  },
  {
   "cell_type": "code",
   "execution_count": 25,
   "id": "e4ab888d",
   "metadata": {
    "execution": {
     "iopub.execute_input": "2025-06-13T17:42:21.925794Z",
     "iopub.status.busy": "2025-06-13T17:42:21.925531Z",
     "iopub.status.idle": "2025-06-13T17:42:22.055021Z",
     "shell.execute_reply": "2025-06-13T17:42:22.054408Z",
     "shell.execute_reply.started": "2025-06-13T17:42:21.925773Z"
    }
   },
   "outputs": [
    {
     "data": {
      "text/html": [
       "\n",
       "            <style>\n",
       "                .geemap-dark {\n",
       "                    --jp-widgets-color: white;\n",
       "                    --jp-widgets-label-color: white;\n",
       "                    --jp-ui-font-color1: white;\n",
       "                    --jp-layout-color2: #454545;\n",
       "                    background-color: #383838;\n",
       "                }\n",
       "\n",
       "                .geemap-dark .jupyter-button {\n",
       "                    --jp-layout-color3: #383838;\n",
       "                }\n",
       "\n",
       "                .geemap-colab {\n",
       "                    background-color: var(--colab-primary-surface-color, white);\n",
       "                }\n",
       "\n",
       "                .geemap-colab .jupyter-button {\n",
       "                    --jp-layout-color3: var(--colab-primary-surface-color, white);\n",
       "                }\n",
       "            </style>\n",
       "            "
      ],
      "text/plain": [
       "<IPython.core.display.HTML object>"
      ]
     },
     "metadata": {},
     "output_type": "display_data"
    }
   ],
   "source": [
    "# Return AOI from reference line bounding box and save AOI folium map HTML in sitename directory\n",
    "referenceLinePath = os.path.join(filepath, 'referenceLines', referenceLineShp)\n",
    "referenceLineDF = gpd.read_file(referenceLinePath)\n",
    "polygon, point, lonmin, lonmax, latmin, latmax = Toolbox.AOIfromLine(referenceLinePath, max_dist_ref, sitename)\n",
    "\n",
    "# It's recommended to convert the polygon to the smallest rectangle (sides parallel to coordinate axes)       \n",
    "polygon = Toolbox.smallest_rectangle(polygon)"
   ]
  },
  {
   "cell_type": "code",
   "execution_count": 26,
   "id": "54ca8672",
   "metadata": {
    "execution": {
     "iopub.execute_input": "2025-06-13T17:42:22.056004Z",
     "iopub.status.busy": "2025-06-13T17:42:22.055699Z",
     "iopub.status.idle": "2025-06-13T17:42:22.061759Z",
     "shell.execute_reply": "2025-06-13T17:42:22.061192Z",
     "shell.execute_reply.started": "2025-06-13T17:42:22.055983Z"
    }
   },
   "outputs": [
    {
     "data": {
      "text/html": [
       "\n",
       "            <style>\n",
       "                .geemap-dark {\n",
       "                    --jp-widgets-color: white;\n",
       "                    --jp-widgets-label-color: white;\n",
       "                    --jp-ui-font-color1: white;\n",
       "                    --jp-layout-color2: #454545;\n",
       "                    background-color: #383838;\n",
       "                }\n",
       "\n",
       "                .geemap-dark .jupyter-button {\n",
       "                    --jp-layout-color3: #383838;\n",
       "                }\n",
       "\n",
       "                .geemap-colab {\n",
       "                    background-color: var(--colab-primary-surface-color, white);\n",
       "                }\n",
       "\n",
       "                .geemap-colab .jupyter-button {\n",
       "                    --jp-layout-color3: var(--colab-primary-surface-color, white);\n",
       "                }\n",
       "            </style>\n",
       "            "
      ],
      "text/plain": [
       "<IPython.core.display.HTML object>"
      ]
     },
     "metadata": {},
     "output_type": "display_data"
    },
    {
     "data": {
      "text/plain": [
       "'/home/sagemaker-user/COASTGUARD/Data/referenceLines/test_left_ref.shp'"
      ]
     },
     "execution_count": 26,
     "metadata": {},
     "output_type": "execute_result"
    }
   ],
   "source": [
    "referenceLinePath"
   ]
  },
  {
   "cell_type": "code",
   "execution_count": 27,
   "id": "968f85d9",
   "metadata": {
    "execution": {
     "iopub.execute_input": "2025-06-13T17:42:22.062608Z",
     "iopub.status.busy": "2025-06-13T17:42:22.062407Z",
     "iopub.status.idle": "2025-06-13T17:42:22.068734Z",
     "shell.execute_reply": "2025-06-13T17:42:22.068171Z",
     "shell.execute_reply.started": "2025-06-13T17:42:22.062588Z"
    }
   },
   "outputs": [
    {
     "data": {
      "text/html": [
       "\n",
       "            <style>\n",
       "                .geemap-dark {\n",
       "                    --jp-widgets-color: white;\n",
       "                    --jp-widgets-label-color: white;\n",
       "                    --jp-ui-font-color1: white;\n",
       "                    --jp-layout-color2: #454545;\n",
       "                    background-color: #383838;\n",
       "                }\n",
       "\n",
       "                .geemap-dark .jupyter-button {\n",
       "                    --jp-layout-color3: #383838;\n",
       "                }\n",
       "\n",
       "                .geemap-colab {\n",
       "                    background-color: var(--colab-primary-surface-color, white);\n",
       "                }\n",
       "\n",
       "                .geemap-colab .jupyter-button {\n",
       "                    --jp-layout-color3: var(--colab-primary-surface-color, white);\n",
       "                }\n",
       "            </style>\n",
       "            "
      ],
      "text/plain": [
       "<IPython.core.display.HTML object>"
      ]
     },
     "metadata": {},
     "output_type": "display_data"
    },
    {
     "name": "stdout",
     "output_type": "stream",
     "text": [
      "[-66.26181652  45.15204934]\n"
     ]
    }
   ],
   "source": [
    "# get polygon centroid, coordinates to get tides from\n",
    "import numpy as np\n",
    "centroid = np.mean(polygon[0], axis=0)\n",
    "print(centroid)\n",
    "# if longitude is negative add 180 (longitudes are from 0 to 360 in fes)\n",
    "if centroid[0] < 0: centroid[0] += 360"
   ]
  },
  {
   "cell_type": "markdown",
   "id": "d598dffc",
   "metadata": {},
   "source": [
    "### date range"
   ]
  },
  {
   "cell_type": "code",
   "execution_count": 28,
   "id": "c9211557",
   "metadata": {
    "execution": {
     "iopub.execute_input": "2025-06-13T17:42:22.069881Z",
     "iopub.status.busy": "2025-06-13T17:42:22.069516Z",
     "iopub.status.idle": "2025-06-13T17:42:22.075138Z",
     "shell.execute_reply": "2025-06-13T17:42:22.074607Z",
     "shell.execute_reply.started": "2025-06-13T17:42:22.069847Z"
    }
   },
   "outputs": [
    {
     "data": {
      "text/html": [
       "\n",
       "            <style>\n",
       "                .geemap-dark {\n",
       "                    --jp-widgets-color: white;\n",
       "                    --jp-widgets-label-color: white;\n",
       "                    --jp-ui-font-color1: white;\n",
       "                    --jp-layout-color2: #454545;\n",
       "                    background-color: #383838;\n",
       "                }\n",
       "\n",
       "                .geemap-dark .jupyter-button {\n",
       "                    --jp-layout-color3: #383838;\n",
       "                }\n",
       "\n",
       "                .geemap-colab {\n",
       "                    background-color: var(--colab-primary-surface-color, white);\n",
       "                }\n",
       "\n",
       "                .geemap-colab .jupyter-button {\n",
       "                    --jp-layout-color3: var(--colab-primary-surface-color, white);\n",
       "                }\n",
       "            </style>\n",
       "            "
      ],
      "text/plain": [
       "<IPython.core.display.HTML object>"
      ]
     },
     "metadata": {},
     "output_type": "display_data"
    }
   ],
   "source": [
    "if len(dates)>2:\n",
    "    daterange='no'\n",
    "else:\n",
    "    daterange='yes'\n",
    "years = list(Toolbox.daterange(datetime.strptime(dates[0],'%Y-%m-%d'), datetime.strptime(dates[-1],'%Y-%m-%d')))"
   ]
  },
  {
   "cell_type": "markdown",
   "id": "c1e1f103",
   "metadata": {},
   "source": [
    "### Compile Input Settings for Gathering Imagery"
   ]
  },
  {
   "cell_type": "code",
   "execution_count": 29,
   "id": "788f129a",
   "metadata": {
    "execution": {
     "iopub.execute_input": "2025-06-13T17:42:22.075967Z",
     "iopub.status.busy": "2025-06-13T17:42:22.075725Z",
     "iopub.status.idle": "2025-06-13T17:42:22.080616Z",
     "shell.execute_reply": "2025-06-13T17:42:22.080086Z",
     "shell.execute_reply.started": "2025-06-13T17:42:22.075947Z"
    }
   },
   "outputs": [
    {
     "data": {
      "text/html": [
       "\n",
       "            <style>\n",
       "                .geemap-dark {\n",
       "                    --jp-widgets-color: white;\n",
       "                    --jp-widgets-label-color: white;\n",
       "                    --jp-ui-font-color1: white;\n",
       "                    --jp-layout-color2: #454545;\n",
       "                    background-color: #383838;\n",
       "                }\n",
       "\n",
       "                .geemap-dark .jupyter-button {\n",
       "                    --jp-layout-color3: #383838;\n",
       "                }\n",
       "\n",
       "                .geemap-colab {\n",
       "                    background-color: var(--colab-primary-surface-color, white);\n",
       "                }\n",
       "\n",
       "                .geemap-colab .jupyter-button {\n",
       "                    --jp-layout-color3: var(--colab-primary-surface-color, white);\n",
       "                }\n",
       "            </style>\n",
       "            "
      ],
      "text/plain": [
       "<IPython.core.display.HTML object>"
      ]
     },
     "metadata": {},
     "output_type": "display_data"
    }
   ],
   "source": [
    "inputs = {\n",
    "    'polygon': polygon,\n",
    "    'dates': dates,\n",
    "    'daterange': daterange,\n",
    "    'sat_list': sat_list,\n",
    "    'sitename': sitename,\n",
    "    'filepath': filepath\n",
    "}"
   ]
  },
  {
   "cell_type": "code",
   "execution_count": 30,
   "id": "778e68d2",
   "metadata": {
    "execution": {
     "iopub.execute_input": "2025-06-13T17:42:22.081562Z",
     "iopub.status.busy": "2025-06-13T17:42:22.081268Z",
     "iopub.status.idle": "2025-06-13T17:42:22.088304Z",
     "shell.execute_reply": "2025-06-13T17:42:22.087742Z",
     "shell.execute_reply.started": "2025-06-13T17:42:22.081542Z"
    }
   },
   "outputs": [
    {
     "data": {
      "text/html": [
       "\n",
       "            <style>\n",
       "                .geemap-dark {\n",
       "                    --jp-widgets-color: white;\n",
       "                    --jp-widgets-label-color: white;\n",
       "                    --jp-ui-font-color1: white;\n",
       "                    --jp-layout-color2: #454545;\n",
       "                    background-color: #383838;\n",
       "                }\n",
       "\n",
       "                .geemap-dark .jupyter-button {\n",
       "                    --jp-layout-color3: #383838;\n",
       "                }\n",
       "\n",
       "                .geemap-colab {\n",
       "                    background-color: var(--colab-primary-surface-color, white);\n",
       "                }\n",
       "\n",
       "                .geemap-colab .jupyter-button {\n",
       "                    --jp-layout-color3: var(--colab-primary-surface-color, white);\n",
       "                }\n",
       "            </style>\n",
       "            "
      ],
      "text/plain": [
       "<IPython.core.display.HTML object>"
      ]
     },
     "metadata": {},
     "output_type": "display_data"
    },
    {
     "data": {
      "text/plain": [
       "{'polygon': [[[-66.26724628450344, 45.146565966478875],\n",
       "   [-66.25367186729116, 45.146565966478875],\n",
       "   [-66.25367186729116, 45.16027440854301],\n",
       "   [-66.26724628450344, 45.16027440854301],\n",
       "   [-66.26724628450344, 45.146565966478875]]],\n",
       " 'dates': ['2014-01-01', '2025-01-01'],\n",
       " 'daterange': 'yes',\n",
       " 'sat_list': ['PSScene4Band'],\n",
       " 'sitename': 'test_left',\n",
       " 'filepath': '/home/sagemaker-user/COASTGUARD/Data'}"
      ]
     },
     "execution_count": 30,
     "metadata": {},
     "output_type": "execute_result"
    }
   ],
   "source": [
    "inputs"
   ]
  },
  {
   "cell_type": "code",
   "execution_count": 31,
   "id": "cae17692-9cf9-4b9f-a17b-2e2886cb4991",
   "metadata": {
    "execution": {
     "iopub.execute_input": "2025-06-13T17:42:22.090554Z",
     "iopub.status.busy": "2025-06-13T17:42:22.090304Z",
     "iopub.status.idle": "2025-06-13T17:42:22.098425Z",
     "shell.execute_reply": "2025-06-13T17:42:22.097766Z",
     "shell.execute_reply.started": "2025-06-13T17:42:22.090534Z"
    }
   },
   "outputs": [
    {
     "data": {
      "text/html": [
       "\n",
       "            <style>\n",
       "                .geemap-dark {\n",
       "                    --jp-widgets-color: white;\n",
       "                    --jp-widgets-label-color: white;\n",
       "                    --jp-ui-font-color1: white;\n",
       "                    --jp-layout-color2: #454545;\n",
       "                    background-color: #383838;\n",
       "                }\n",
       "\n",
       "                .geemap-dark .jupyter-button {\n",
       "                    --jp-layout-color3: #383838;\n",
       "                }\n",
       "\n",
       "                .geemap-colab {\n",
       "                    background-color: var(--colab-primary-surface-color, white);\n",
       "                }\n",
       "\n",
       "                .geemap-colab .jupyter-button {\n",
       "                    --jp-layout-color3: var(--colab-primary-surface-color, white);\n",
       "                }\n",
       "            </style>\n",
       "            "
      ],
      "text/plain": [
       "<IPython.core.display.HTML object>"
      ]
     },
     "metadata": {},
     "output_type": "display_data"
    },
    {
     "name": "stdout",
     "output_type": "stream",
     "text": [
      "All images and cloud masks have been moved successfully!\n"
     ]
    }
   ],
   "source": [
    "# Define source folders\n",
    "source_folder_images = os.path.join(filepath, 'PlanetScope')           # Images are here\n",
    "source_folder_cloudmasks = os.path.join(filepath, 'PlanetScope', 'cloudmasks')  # Cloud masks are here\n",
    "\n",
    "# Define target folders\n",
    "target_image_folder = os.path.join(filepath, sitename, 'local_images', 'PSScene4Band')\n",
    "target_cloudmask_folder = os.path.join(target_image_folder, 'cloudmasks')\n",
    "\n",
    "# Create target folders if they don't exist\n",
    "os.makedirs(target_image_folder, exist_ok=True)\n",
    "os.makedirs(target_cloudmask_folder, exist_ok=True)\n",
    "\n",
    "# Move images\n",
    "for file in os.listdir(source_folder_images):\n",
    "    full_file_path = os.path.join(source_folder_images, file)\n",
    "\n",
    "    if file.endswith('_composite.tif'):\n",
    "        shutil.move(full_file_path, os.path.join(target_image_folder, file))\n",
    "        print(f\"Moved image: {file}\")\n",
    "\n",
    "# Move cloud masks\n",
    "for file in os.listdir(source_folder_cloudmasks):\n",
    "    full_file_path = os.path.join(source_folder_cloudmasks, file)\n",
    "\n",
    "    if file.endswith('_composite_udm2.tif'):\n",
    "        shutil.move(full_file_path, os.path.join(target_cloudmask_folder, file))\n",
    "        print(f\"Moved cloud mask: {file}\")\n",
    "\n",
    "print(\"All images and cloud masks have been moved successfully!\")"
   ]
  },
  {
   "cell_type": "markdown",
   "id": "7f179f43",
   "metadata": {},
   "source": [
    "### Image Retrieval and download"
   ]
  },
  {
   "cell_type": "code",
   "execution_count": 32,
   "id": "9ebf3435",
   "metadata": {
    "execution": {
     "iopub.execute_input": "2025-06-13T17:42:22.099418Z",
     "iopub.status.busy": "2025-06-13T17:42:22.099158Z",
     "iopub.status.idle": "2025-06-13T17:42:22.107028Z",
     "shell.execute_reply": "2025-06-13T17:42:22.106469Z",
     "shell.execute_reply.started": "2025-06-13T17:42:22.099382Z"
    }
   },
   "outputs": [
    {
     "data": {
      "text/html": [
       "\n",
       "            <style>\n",
       "                .geemap-dark {\n",
       "                    --jp-widgets-color: white;\n",
       "                    --jp-widgets-label-color: white;\n",
       "                    --jp-ui-font-color1: white;\n",
       "                    --jp-layout-color2: #454545;\n",
       "                    background-color: #383838;\n",
       "                }\n",
       "\n",
       "                .geemap-dark .jupyter-button {\n",
       "                    --jp-layout-color3: #383838;\n",
       "                }\n",
       "\n",
       "                .geemap-colab {\n",
       "                    background-color: var(--colab-primary-surface-color, white);\n",
       "                }\n",
       "\n",
       "                .geemap-colab .jupyter-button {\n",
       "                    --jp-layout-color3: var(--colab-primary-surface-color, white);\n",
       "                }\n",
       "            </style>\n",
       "            "
      ],
      "text/plain": [
       "<IPython.core.display.HTML object>"
      ]
     },
     "metadata": {},
     "output_type": "display_data"
    },
    {
     "name": "stdout",
     "output_type": "stream",
     "text": [
      "retrieving image metadata...\n"
     ]
    }
   ],
   "source": [
    "# inputs = Download.check_images_available(inputs)\n",
    "Sat = Download.RetrieveImages(inputs, SLC=False)"
   ]
  },
  {
   "cell_type": "code",
   "execution_count": 33,
   "id": "382853e9-7754-49da-9f11-403a919f2370",
   "metadata": {
    "execution": {
     "iopub.execute_input": "2025-06-13T17:42:22.107929Z",
     "iopub.status.busy": "2025-06-13T17:42:22.107661Z",
     "iopub.status.idle": "2025-06-13T17:42:22.112266Z",
     "shell.execute_reply": "2025-06-13T17:42:22.111743Z",
     "shell.execute_reply.started": "2025-06-13T17:42:22.107909Z"
    }
   },
   "outputs": [
    {
     "data": {
      "text/html": [
       "\n",
       "            <style>\n",
       "                .geemap-dark {\n",
       "                    --jp-widgets-color: white;\n",
       "                    --jp-widgets-label-color: white;\n",
       "                    --jp-ui-font-color1: white;\n",
       "                    --jp-layout-color2: #454545;\n",
       "                    background-color: #383838;\n",
       "                }\n",
       "\n",
       "                .geemap-dark .jupyter-button {\n",
       "                    --jp-layout-color3: #383838;\n",
       "                }\n",
       "\n",
       "                .geemap-colab {\n",
       "                    background-color: var(--colab-primary-surface-color, white);\n",
       "                }\n",
       "\n",
       "                .geemap-colab .jupyter-button {\n",
       "                    --jp-layout-color3: var(--colab-primary-surface-color, white);\n",
       "                }\n",
       "            </style>\n",
       "            "
      ],
      "text/plain": [
       "<IPython.core.display.HTML object>"
      ]
     },
     "metadata": {},
     "output_type": "display_data"
    }
   ],
   "source": [
    "# Remove the first two empty lists manually\n",
    "Sat = [s for s in Sat if len(s) > 0]"
   ]
  },
  {
   "cell_type": "code",
   "execution_count": 34,
   "id": "b38cdd10-7217-4dc6-b0f4-b12b2b8a137f",
   "metadata": {
    "execution": {
     "iopub.execute_input": "2025-06-13T17:42:22.113846Z",
     "iopub.status.busy": "2025-06-13T17:42:22.113604Z",
     "iopub.status.idle": "2025-06-13T17:42:22.118809Z",
     "shell.execute_reply": "2025-06-13T17:42:22.118268Z",
     "shell.execute_reply.started": "2025-06-13T17:42:22.113826Z"
    }
   },
   "outputs": [
    {
     "data": {
      "text/html": [
       "\n",
       "            <style>\n",
       "                .geemap-dark {\n",
       "                    --jp-widgets-color: white;\n",
       "                    --jp-widgets-label-color: white;\n",
       "                    --jp-ui-font-color1: white;\n",
       "                    --jp-layout-color2: #454545;\n",
       "                    background-color: #383838;\n",
       "                }\n",
       "\n",
       "                .geemap-dark .jupyter-button {\n",
       "                    --jp-layout-color3: #383838;\n",
       "                }\n",
       "\n",
       "                .geemap-colab {\n",
       "                    background-color: var(--colab-primary-surface-color, white);\n",
       "                }\n",
       "\n",
       "                .geemap-colab .jupyter-button {\n",
       "                    --jp-layout-color3: var(--colab-primary-surface-color, white);\n",
       "                }\n",
       "            </style>\n",
       "            "
      ],
      "text/plain": [
       "<IPython.core.display.HTML object>"
      ]
     },
     "metadata": {},
     "output_type": "display_data"
    }
   ],
   "source": [
    "metadata = {}\n",
    "\n",
    "for i in range(len(inputs['sat_list'])):\n",
    "    metadata[inputs['sat_list'][i]] = {\n",
    "        'filenames': [], \n",
    "        'acc_georef': [], \n",
    "        'epsg': [], \n",
    "        'dates': []\n",
    "    }"
   ]
  },
  {
   "cell_type": "code",
   "execution_count": 35,
   "id": "aed5b6f8",
   "metadata": {
    "execution": {
     "iopub.execute_input": "2025-06-13T17:42:22.119743Z",
     "iopub.status.busy": "2025-06-13T17:42:22.119452Z",
     "iopub.status.idle": "2025-06-13T17:42:22.185072Z",
     "shell.execute_reply": "2025-06-13T17:42:22.184452Z",
     "shell.execute_reply.started": "2025-06-13T17:42:22.119724Z"
    }
   },
   "outputs": [
    {
     "data": {
      "text/html": [
       "\n",
       "            <style>\n",
       "                .geemap-dark {\n",
       "                    --jp-widgets-color: white;\n",
       "                    --jp-widgets-label-color: white;\n",
       "                    --jp-ui-font-color1: white;\n",
       "                    --jp-layout-color2: #454545;\n",
       "                    background-color: #383838;\n",
       "                }\n",
       "\n",
       "                .geemap-dark .jupyter-button {\n",
       "                    --jp-layout-color3: #383838;\n",
       "                }\n",
       "\n",
       "                .geemap-colab {\n",
       "                    background-color: var(--colab-primary-surface-color, white);\n",
       "                }\n",
       "\n",
       "                .geemap-colab .jupyter-button {\n",
       "                    --jp-layout-color3: var(--colab-primary-surface-color, white);\n",
       "                }\n",
       "            </style>\n",
       "            "
      ],
      "text/plain": [
       "<IPython.core.display.HTML object>"
      ]
     },
     "metadata": {},
     "output_type": "display_data"
    },
    {
     "name": "stdout",
     "output_type": "stream",
     "text": [
      "PSScene4Band: 100.00%"
     ]
    }
   ],
   "source": [
    "metadata = Download.CollectMetadata(inputs, Sat)"
   ]
  },
  {
   "cell_type": "code",
   "execution_count": 36,
   "id": "0dd56d8a-bdc8-48d8-9fa3-a01dd2b115f3",
   "metadata": {
    "execution": {
     "iopub.execute_input": "2025-06-13T17:42:22.185967Z",
     "iopub.status.busy": "2025-06-13T17:42:22.185693Z",
     "iopub.status.idle": "2025-06-13T17:42:22.190724Z",
     "shell.execute_reply": "2025-06-13T17:42:22.190093Z",
     "shell.execute_reply.started": "2025-06-13T17:42:22.185947Z"
    }
   },
   "outputs": [
    {
     "data": {
      "text/html": [
       "\n",
       "            <style>\n",
       "                .geemap-dark {\n",
       "                    --jp-widgets-color: white;\n",
       "                    --jp-widgets-label-color: white;\n",
       "                    --jp-ui-font-color1: white;\n",
       "                    --jp-layout-color2: #454545;\n",
       "                    background-color: #383838;\n",
       "                }\n",
       "\n",
       "                .geemap-dark .jupyter-button {\n",
       "                    --jp-layout-color3: #383838;\n",
       "                }\n",
       "\n",
       "                .geemap-colab {\n",
       "                    background-color: var(--colab-primary-surface-color, white);\n",
       "                }\n",
       "\n",
       "                .geemap-colab .jupyter-button {\n",
       "                    --jp-layout-color3: var(--colab-primary-surface-color, white);\n",
       "                }\n",
       "            </style>\n",
       "            "
      ],
      "text/plain": [
       "<IPython.core.display.HTML object>"
      ]
     },
     "metadata": {},
     "output_type": "display_data"
    },
    {
     "name": "stdout",
     "output_type": "stream",
     "text": [
      "dict_keys(['PSScene4Band'])\n",
      "dict_keys(['filenames', 'acc_georef', 'epsg', 'dates'])\n"
     ]
    }
   ],
   "source": [
    "print(metadata.keys())  # Should print: dict_keys(['PlanetScope'])\n",
    "print(metadata['PSScene4Band'].keys())  # Should print: dict_keys(['filenames', 'acc_georef', 'epsg', 'dates'])"
   ]
  },
  {
   "cell_type": "code",
   "execution_count": 37,
   "id": "ef6dc64f-9e3a-492c-a16f-3a8aa71cf12f",
   "metadata": {
    "execution": {
     "iopub.execute_input": "2025-06-13T17:42:22.192027Z",
     "iopub.status.busy": "2025-06-13T17:42:22.191564Z",
     "iopub.status.idle": "2025-06-13T17:42:22.196631Z",
     "shell.execute_reply": "2025-06-13T17:42:22.196005Z",
     "shell.execute_reply.started": "2025-06-13T17:42:22.192004Z"
    }
   },
   "outputs": [
    {
     "data": {
      "text/html": [
       "\n",
       "            <style>\n",
       "                .geemap-dark {\n",
       "                    --jp-widgets-color: white;\n",
       "                    --jp-widgets-label-color: white;\n",
       "                    --jp-ui-font-color1: white;\n",
       "                    --jp-layout-color2: #454545;\n",
       "                    background-color: #383838;\n",
       "                }\n",
       "\n",
       "                .geemap-dark .jupyter-button {\n",
       "                    --jp-layout-color3: #383838;\n",
       "                }\n",
       "\n",
       "                .geemap-colab {\n",
       "                    background-color: var(--colab-primary-surface-color, white);\n",
       "                }\n",
       "\n",
       "                .geemap-colab .jupyter-button {\n",
       "                    --jp-layout-color3: var(--colab-primary-surface-color, white);\n",
       "                }\n",
       "            </style>\n",
       "            "
      ],
      "text/plain": [
       "<IPython.core.display.HTML object>"
      ]
     },
     "metadata": {},
     "output_type": "display_data"
    },
    {
     "name": "stdout",
     "output_type": "stream",
     "text": [
      "{'PSScene4Band': {'filenames': ['./Data/test_left/local_images/PSScene4Band/20230122_145737_composite.tif', './Data/test_left/local_images/PSScene4Band/20230125_145749_composite.tif', './Data/test_left/local_images/PSScene4Band/20230130_145850_composite.tif', './Data/test_left/local_images/PSScene4Band/20230201_145924_composite.tif', './Data/test_left/local_images/PSScene4Band/20230202_145416_composite.tif', './Data/test_left/local_images/PSScene4Band/20230203_150425_composite.tif', './Data/test_left/local_images/PSScene4Band/20230216_145439_composite.tif', './Data/test_left/local_images/PSScene4Band/20230225_150309_composite.tif', './Data/test_left/local_images/PSScene4Band/20230227_145353_composite.tif', './Data/test_left/local_images/PSScene4Band/20230305_145613_composite.tif', './Data/test_left/local_images/PSScene4Band/20230312_145925_composite.tif', './Data/test_left/local_images/PSScene4Band/20230320_145520_composite.tif', './Data/test_left/local_images/PSScene4Band/20230321_145541_composite.tif', './Data/test_left/local_images/PSScene4Band/20230322_145437_composite.tif', './Data/test_left/local_images/PSScene4Band/20230408_145736_composite.tif', './Data/test_left/local_images/PSScene4Band/20230410_151149_composite.tif', './Data/test_left/local_images/PSScene4Band/20230414_145624_composite.tif', './Data/test_left/local_images/PSScene4Band/20230421_150059_composite.tif', './Data/test_left/local_images/PSScene4Band/20230507_142547_composite.tif', './Data/test_left/local_images/PSScene4Band/20230508_142757_composite.tif', './Data/test_left/local_images/PSScene4Band/20230513_145942_composite.tif', './Data/test_left/local_images/PSScene4Band/20230515_142406_composite.tif', './Data/test_left/local_images/PSScene4Band/20230527_150143_composite.tif', './Data/test_left/local_images/PSScene4Band/20230528_142548_composite.tif', './Data/test_left/local_images/PSScene4Band/20230530_142413_composite.tif', './Data/test_left/local_images/PSScene4Band/20230601_145949_composite.tif', './Data/test_left/local_images/PSScene4Band/20230622_150103_composite.tif', './Data/test_left/local_images/PSScene4Band/20230623_150056_composite.tif', './Data/test_left/local_images/PSScene4Band/20230728_151647_composite.tif', './Data/test_left/local_images/PSScene4Band/20230806_142254_composite.tif', './Data/test_left/local_images/PSScene4Band/20230901_150444_composite.tif', './Data/test_left/local_images/PSScene4Band/20230922_142847_composite.tif', './Data/test_left/local_images/PSScene4Band/20231024_150651_composite.tif', './Data/test_left/local_images/PSScene4Band/20231115_143159_composite.tif', './Data/test_left/local_images/PSScene4Band/20231119_153025_composite.tif', './Data/test_left/local_images/PSScene4Band/20231121_151220_composite.tif', './Data/test_left/local_images/PSScene4Band/20231124_143352_composite.tif', './Data/test_left/local_images/PSScene4Band/20231212_143237_composite.tif', './Data/test_left/local_images/PSScene4Band/20231214_142836_composite.tif', './Data/test_left/local_images/PSScene4Band/20231221_151224_composite.tif', './Data/test_left/local_images/PSScene4Band/20231222_151106_composite.tif'], 'acc_georef': [[3.0, 0.0, 714780.0, 0.0, -3.0, 5004426.0], [3.0, 0.0, 714780.0, 0.0, -3.0, 5004426.0], [3.0, 0.0, 714780.0, 0.0, -3.0, 5004426.0], [3.0, 0.0, 714780.0, 0.0, -3.0, 5004426.0], [3.0, 0.0, 714780.0, 0.0, -3.0, 5004426.0], [3.0, 0.0, 714780.0, 0.0, -3.0, 5004426.0], [3.0, 0.0, 714780.0, 0.0, -3.0, 5004426.0], [3.0, 0.0, 714780.0, 0.0, -3.0, 5004426.0], [3.0, 0.0, 714780.0, 0.0, -3.0, 5004426.0], [3.0, 0.0, 714780.0, 0.0, -3.0, 5004426.0], [3.0, 0.0, 714780.0, 0.0, -3.0, 5004426.0], [3.0, 0.0, 714780.0, 0.0, -3.0, 5004426.0], [3.0, 0.0, 714780.0, 0.0, -3.0, 5004426.0], [3.0, 0.0, 714780.0, 0.0, -3.0, 5004426.0], [3.0, 0.0, 714780.0, 0.0, -3.0, 5004426.0], [3.0, 0.0, 714780.0, 0.0, -3.0, 5004426.0], [3.0, 0.0, 714780.0, 0.0, -3.0, 5004426.0], [3.0, 0.0, 714780.0, 0.0, -3.0, 5004426.0], [3.0, 0.0, 714780.0, 0.0, -3.0, 5004426.0], [3.0, 0.0, 714780.0, 0.0, -3.0, 5004426.0], [3.0, 0.0, 714780.0, 0.0, -3.0, 5004426.0], [3.0, 0.0, 714780.0, 0.0, -3.0, 5004426.0], [3.0, 0.0, 714780.0, 0.0, -3.0, 5004426.0], [3.0, 0.0, 714780.0, 0.0, -3.0, 5004426.0], [3.0, 0.0, 714780.0, 0.0, -3.0, 5004426.0], [3.0, 0.0, 714780.0, 0.0, -3.0, 5004426.0], [3.0, 0.0, 714780.0, 0.0, -3.0, 5004426.0], [3.0, 0.0, 714780.0, 0.0, -3.0, 5004426.0], [3.0, 0.0, 714780.0, 0.0, -3.0, 5004426.0], [3.0, 0.0, 714780.0, 0.0, -3.0, 5004426.0], [3.0, 0.0, 714780.0, 0.0, -3.0, 5004426.0], [3.0, 0.0, 714780.0, 0.0, -3.0, 5004426.0], [3.0, 0.0, 714780.0, 0.0, -3.0, 5004426.0], [3.0, 0.0, 714780.0, 0.0, -3.0, 5004426.0], [3.0, 0.0, 714780.0, 0.0, -3.0, 5004426.0], [3.0, 0.0, 714780.0, 0.0, -3.0, 5004426.0], [3.0, 0.0, 714780.0, 0.0, -3.0, 5004426.0], [3.0, 0.0, 714780.0, 0.0, -3.0, 5004426.0], [3.0, 0.0, 714780.0, 0.0, -3.0, 5004426.0], [3.0, 0.0, 714780.0, 0.0, -3.0, 5004426.0], [3.0, 0.0, 714780.0, 0.0, -3.0, 5004426.0]], 'epsg': ['32619', '32619', '32619', '32619', '32619', '32619', '32619', '32619', '32619', '32619', '32619', '32619', '32619', '32619', '32619', '32619', '32619', '32619', '32619', '32619', '32619', '32619', '32619', '32619', '32619', '32619', '32619', '32619', '32619', '32619', '32619', '32619', '32619', '32619', '32619', '32619', '32619', '32619', '32619', '32619', '32619'], 'dates': ['2023-01-22', '2023-01-25', '2023-01-30', '2023-02-01', '2023-02-02', '2023-02-03', '2023-02-16', '2023-02-25', '2023-02-27', '2023-03-05', '2023-03-12', '2023-03-20', '2023-03-21', '2023-03-22', '2023-04-08', '2023-04-10', '2023-04-14', '2023-04-21', '2023-05-07', '2023-05-08', '2023-05-13', '2023-05-15', '2023-05-27', '2023-05-28', '2023-05-30', '2023-06-01', '2023-06-22', '2023-06-23', '2023-07-28', '2023-08-06', '2023-09-01', '2023-09-22', '2023-10-24', '2023-11-15', '2023-11-19', '2023-11-21', '2023-11-24', '2023-12-12', '2023-12-14', '2023-12-21', '2023-12-22']}}\n"
     ]
    }
   ],
   "source": [
    "print(metadata)"
   ]
  },
  {
   "cell_type": "markdown",
   "id": "869efa15",
   "metadata": {},
   "source": [
    "# Veg detection"
   ]
  },
  {
   "cell_type": "markdown",
   "id": "b5d6f5f1",
   "metadata": {},
   "source": [
    "### settings"
   ]
  },
  {
   "cell_type": "code",
   "execution_count": 38,
   "id": "ae765feb",
   "metadata": {
    "execution": {
     "iopub.execute_input": "2025-06-13T17:42:22.197550Z",
     "iopub.status.busy": "2025-06-13T17:42:22.197298Z",
     "iopub.status.idle": "2025-06-13T17:42:22.204828Z",
     "shell.execute_reply": "2025-06-13T17:42:22.204150Z",
     "shell.execute_reply.started": "2025-06-13T17:42:22.197529Z"
    }
   },
   "outputs": [
    {
     "data": {
      "text/html": [
       "\n",
       "            <style>\n",
       "                .geemap-dark {\n",
       "                    --jp-widgets-color: white;\n",
       "                    --jp-widgets-label-color: white;\n",
       "                    --jp-ui-font-color1: white;\n",
       "                    --jp-layout-color2: #454545;\n",
       "                    background-color: #383838;\n",
       "                }\n",
       "\n",
       "                .geemap-dark .jupyter-button {\n",
       "                    --jp-layout-color3: #383838;\n",
       "                }\n",
       "\n",
       "                .geemap-colab {\n",
       "                    background-color: var(--colab-primary-surface-color, white);\n",
       "                }\n",
       "\n",
       "                .geemap-colab .jupyter-button {\n",
       "                    --jp-layout-color3: var(--colab-primary-surface-color, white);\n",
       "                }\n",
       "            </style>\n",
       "            "
      ],
      "text/plain": [
       "<IPython.core.display.HTML object>"
      ]
     },
     "metadata": {},
     "output_type": "display_data"
    }
   ],
   "source": [
    "BasePath = 'Data/' + sitename + '/lines'\n",
    "\n",
    "if not os.path.isdir(BasePath):\n",
    "    os.makedirs(BasePath)\n",
    "\n",
    "projection_epsg, _ = Toolbox.FindUTM(polygon[0][0][1],polygon[0][0][0])"
   ]
  },
  {
   "cell_type": "code",
   "execution_count": 39,
   "id": "92128ff8",
   "metadata": {
    "execution": {
     "iopub.execute_input": "2025-06-13T17:42:22.206023Z",
     "iopub.status.busy": "2025-06-13T17:42:22.205657Z",
     "iopub.status.idle": "2025-06-13T17:42:22.211729Z",
     "shell.execute_reply": "2025-06-13T17:42:22.211179Z",
     "shell.execute_reply.started": "2025-06-13T17:42:22.205989Z"
    }
   },
   "outputs": [
    {
     "data": {
      "text/html": [
       "\n",
       "            <style>\n",
       "                .geemap-dark {\n",
       "                    --jp-widgets-color: white;\n",
       "                    --jp-widgets-label-color: white;\n",
       "                    --jp-ui-font-color1: white;\n",
       "                    --jp-layout-color2: #454545;\n",
       "                    background-color: #383838;\n",
       "                }\n",
       "\n",
       "                .geemap-dark .jupyter-button {\n",
       "                    --jp-layout-color3: #383838;\n",
       "                }\n",
       "\n",
       "                .geemap-colab {\n",
       "                    background-color: var(--colab-primary-surface-color, white);\n",
       "                }\n",
       "\n",
       "                .geemap-colab .jupyter-button {\n",
       "                    --jp-layout-color3: var(--colab-primary-surface-color, white);\n",
       "                }\n",
       "            </style>\n",
       "            "
      ],
      "text/plain": [
       "<IPython.core.display.HTML object>"
      ]
     },
     "metadata": {},
     "output_type": "display_data"
    }
   ],
   "source": [
    "settings = {\n",
    "    # general parameters:\n",
    "    'cloud_thresh': cloud_thresh,        # threshold on maximum cloud cover\n",
    "    'output_epsg': projection_epsg,     # epsg code of spatial reference system desired for the output   \n",
    "    'wetdry': wetdry,              # extract wet-dry boundary as well as veg\n",
    "    # quality control:\n",
    "    'check_detection': False,    # if True, shows each shoreline detection to the user for validation\n",
    "    'adjust_detection': False,  # if True, allows user to adjust the postion of each shoreline by changing the threhold\n",
    "    'save_figure': True,        # if True, saves a figure showing the mapped shoreline for each image\n",
    "    # [ONLY FOR ADVANCED USERS] shoreline detection parameters:\n",
    "    'min_beach_area': 10,     # minimum area (in metres^2) for an object to be labelled as a beach\n",
    "    'buffer_size': 300,         # radius (in metres) for buffer around sandy pixels considered in the shoreline detection\n",
    "    'min_length_sl': 500,       # minimum length (in metres) of shoreline perimeter to be valid\n",
    "    'cloud_mask_issue': False,  # switch this parameter to True if sand pixels are masked (in black) on many images  \n",
    "    # add the inputs defined previously\n",
    "    'inputs': inputs,\n",
    "    'projection_epsg': projection_epsg,\n",
    "    'year_list': years,\n",
    "}"
   ]
  },
  {
   "cell_type": "markdown",
   "id": "1480d2d8-7fcb-46b5-900b-19e968971ca0",
   "metadata": {},
   "source": [
    "### Tide Correction"
   ]
  },
  {
   "cell_type": "code",
   "execution_count": null,
   "id": "87fb0cc8-4c27-4eab-99af-c1c840c52969",
   "metadata": {},
   "outputs": [],
   "source": [
    "import pyfes"
   ]
  },
  {
   "cell_type": "code",
   "execution_count": null,
   "id": "4cc0c315-233f-4e03-a35c-6781c69a832c",
   "metadata": {},
   "outputs": [],
   "source": [
    "if wetdry is True:\n",
    "    tidepath = \"../tide_data/fes2022.yaml\"\n",
    "    tideoutpath = os.path.join(\n",
    "        settings['inputs']['filepath'], 'tides',\n",
    "        settings['inputs']['sitename'] + '_tides_' +\n",
    "        settings['inputs']['dates'][0] + '_' + settings['inputs']['dates'][1] + '.csv'\n",
    "    )\n",
    "    daterange = dates\n",
    "    tidelatlon = [(latmin + latmax) / 2, (lonmin + lonmax) / 2]\n",
    "\n",
    "    if tidepath.endswith(\"fes2022.yaml\"):\n",
    "        try:\n",
    "            Toolbox.ComputeTides(settings, tidepath, tideoutpath, daterange, tidelatlon)\n",
    "            print(\"tide data load\")\n",
    "        except UnboundLocalError as e:\n",
    "            print(\"FES2022 detected, but function tried to access tide_nc (FES2014 logic).\")"
   ]
  },
  {
   "cell_type": "markdown",
   "id": "c27252aa",
   "metadata": {},
   "source": [
    "# Vegetation Line Extraction"
   ]
  },
  {
   "cell_type": "markdown",
   "id": "ab4aca4b",
   "metadata": {},
   "source": [
    "##### first time detection: "
   ]
  },
  {
   "cell_type": "code",
   "execution_count": 40,
   "id": "fcfad612",
   "metadata": {
    "execution": {
     "iopub.execute_input": "2025-06-13T17:42:22.212666Z",
     "iopub.status.busy": "2025-06-13T17:42:22.212266Z",
     "iopub.status.idle": "2025-06-13T17:42:22.228029Z",
     "shell.execute_reply": "2025-06-13T17:42:22.227502Z",
     "shell.execute_reply.started": "2025-06-13T17:42:22.212646Z"
    }
   },
   "outputs": [
    {
     "data": {
      "text/html": [
       "\n",
       "            <style>\n",
       "                .geemap-dark {\n",
       "                    --jp-widgets-color: white;\n",
       "                    --jp-widgets-label-color: white;\n",
       "                    --jp-ui-font-color1: white;\n",
       "                    --jp-layout-color2: #454545;\n",
       "                    background-color: #383838;\n",
       "                }\n",
       "\n",
       "                .geemap-dark .jupyter-button {\n",
       "                    --jp-layout-color3: #383838;\n",
       "                }\n",
       "\n",
       "                .geemap-colab {\n",
       "                    background-color: var(--colab-primary-surface-color, white);\n",
       "                }\n",
       "\n",
       "                .geemap-colab .jupyter-button {\n",
       "                    --jp-layout-color3: var(--colab-primary-surface-color, white);\n",
       "                }\n",
       "            </style>\n",
       "            "
      ],
      "text/plain": [
       "<IPython.core.display.HTML object>"
      ]
     },
     "metadata": {},
     "output_type": "display_data"
    }
   ],
   "source": [
    "referenceLine, ref_epsg = Toolbox.ProcessRefline(referenceLinePath, settings)\n",
    "settings['reference_shoreline'] = referenceLine\n",
    "settings['ref_epsg'] = ref_epsg\n",
    "# Distance to buffer reference line by (this is in metres)\n",
    "settings['max_dist_ref'] = max_dist_ref\n",
    "\n",
    "settings['reference_coreg_im'] = None # leave as None if no coregistration is to be performed"
   ]
  },
  {
   "cell_type": "code",
   "execution_count": 41,
   "id": "255b6814-c4f1-46ce-a48f-2442b7507721",
   "metadata": {
    "execution": {
     "iopub.execute_input": "2025-06-13T17:42:22.228976Z",
     "iopub.status.busy": "2025-06-13T17:42:22.228652Z",
     "iopub.status.idle": "2025-06-13T17:42:22.236795Z",
     "shell.execute_reply": "2025-06-13T17:42:22.236188Z",
     "shell.execute_reply.started": "2025-06-13T17:42:22.228947Z"
    },
    "scrolled": true
   },
   "outputs": [
    {
     "data": {
      "text/html": [
       "\n",
       "            <style>\n",
       "                .geemap-dark {\n",
       "                    --jp-widgets-color: white;\n",
       "                    --jp-widgets-label-color: white;\n",
       "                    --jp-ui-font-color1: white;\n",
       "                    --jp-layout-color2: #454545;\n",
       "                    background-color: #383838;\n",
       "                }\n",
       "\n",
       "                .geemap-dark .jupyter-button {\n",
       "                    --jp-layout-color3: #383838;\n",
       "                }\n",
       "\n",
       "                .geemap-colab {\n",
       "                    background-color: var(--colab-primary-surface-color, white);\n",
       "                }\n",
       "\n",
       "                .geemap-colab .jupyter-button {\n",
       "                    --jp-layout-color3: var(--colab-primary-surface-color, white);\n",
       "                }\n",
       "            </style>\n",
       "            "
      ],
      "text/plain": [
       "<IPython.core.display.HTML object>"
      ]
     },
     "metadata": {},
     "output_type": "display_data"
    },
    {
     "name": "stdout",
     "output_type": "stream",
     "text": [
      "{'cloud_thresh': 0.3, 'output_epsg': 32619, 'wetdry': True, 'check_detection': False, 'adjust_detection': False, 'save_figure': True, 'min_beach_area': 10, 'buffer_size': 300, 'min_length_sl': 500, 'cloud_mask_issue': False, 'inputs': {'polygon': [[[-66.26724628450344, 45.146565966478875], [-66.25367186729116, 45.146565966478875], [-66.25367186729116, 45.16027440854301], [-66.26724628450344, 45.16027440854301], [-66.26724628450344, 45.146565966478875]]], 'dates': ['2014-01-01', '2025-01-01'], 'daterange': 'yes', 'sat_list': ['PSScene4Band'], 'sitename': 'test_left', 'filepath': '/home/sagemaker-user/COASTGUARD/Data'}, 'projection_epsg': 32619, 'year_list': [2014, 2015, 2016, 2017, 2018, 2019, 2020, 2021, 2022, 2023, 2024, 2025], 'reference_shoreline': array([[ 714981.49788938, 5004240.14810675,       0.        ],\n",
      "       [ 714986.23732415, 5004231.34944595,       0.        ],\n",
      "       [ 714990.82200029, 5004222.46233479,       0.        ],\n",
      "       [ 714995.40667642, 5004213.57522363,       0.        ],\n",
      "       [ 714999.99135255, 5004204.68811247,       0.        ],\n",
      "       [ 715004.57602868, 5004195.80100131,       0.        ],\n",
      "       [ 715009.16070482, 5004186.91389015,       0.        ],\n",
      "       [ 715013.74538095, 5004178.02677899,       0.        ],\n",
      "       [ 715018.33005708, 5004169.13966784,       0.        ],\n",
      "       [ 715022.91473321, 5004160.25255668,       0.        ],\n",
      "       [ 715027.49940935, 5004151.36544552,       0.        ],\n",
      "       [ 715030.97461873, 5004142.01513708,       0.        ],\n",
      "       [ 715032.99050726, 5004132.22815567,       0.        ],\n",
      "       [ 715034.27067504, 5004122.31268933,       0.        ],\n",
      "       [ 715035.09659249, 5004112.34753844,       0.        ],\n",
      "       [ 715035.65732236, 5004102.36327172,       0.        ],\n",
      "       [ 715036.13915248, 5004092.37541961,       0.        ],\n",
      "       [ 715036.48628022, 5004082.38144631,       0.        ],\n",
      "       [ 715036.83340795, 5004072.38747301,       0.        ],\n",
      "       [ 715037.1248049 , 5004062.39179383,       0.        ],\n",
      "       [ 715037.38956948, 5004052.39529946,       0.        ],\n",
      "       [ 715037.65433406, 5004042.39880509,       0.        ],\n",
      "       [ 715037.91909863, 5004032.40231072,       0.        ],\n",
      "       [ 715038.18386321, 5004022.40581634,       0.        ],\n",
      "       [ 715038.44862779, 5004012.40932197,       0.        ],\n",
      "       [ 715038.71339237, 5004002.4128276 ,       0.        ],\n",
      "       [ 715038.97815694, 5003992.41633323,       0.        ],\n",
      "       [ 715039.24292152, 5003982.41983886,       0.        ],\n",
      "       [ 715039.5076861 , 5003972.42334449,       0.        ],\n",
      "       [ 715039.84462254, 5003962.42914139,       0.        ],\n",
      "       [ 715040.21447788, 5003952.43598338,       0.        ],\n",
      "       [ 715040.75569356, 5003942.45080842,       0.        ],\n",
      "       [ 715041.36000809, 5003932.46960658,       0.        ],\n",
      "       [ 715042.30327006, 5003922.5153143 ,       0.        ],\n",
      "       [ 715043.71435552, 5003912.61846051,       0.        ],\n",
      "       [ 715045.98018536, 5003902.88847898,       0.        ],\n",
      "       [ 715050.00730104, 5003893.75125931,       0.        ],\n",
      "       [ 715054.63724122, 5003884.88764527,       0.        ],\n",
      "       [ 715059.2671814 , 5003876.02403122,       0.        ],\n",
      "       [ 715063.89712158, 5003867.16041718,       0.        ],\n",
      "       [ 715068.52706176, 5003858.29680313,       0.        ],\n",
      "       [ 715073.15700194, 5003849.43318909,       0.        ],\n",
      "       [ 715077.78694257, 5003840.56957528,       0.        ],\n",
      "       [ 715082.41688368, 5003831.70596172,       0.        ],\n",
      "       [ 715087.0468248 , 5003822.84234817,       0.        ],\n",
      "       [ 715091.6966872 , 5003813.98956665,       0.        ],\n",
      "       [ 715096.61926004, 5003805.28506915,       0.        ],\n",
      "       [ 715101.54183288, 5003796.58057166,       0.        ],\n",
      "       [ 715106.46440572, 5003787.87607416,       0.        ],\n",
      "       [ 715111.38697857, 5003779.17157667,       0.        ],\n",
      "       [ 715116.30955141, 5003770.46707918,       0.        ],\n",
      "       [ 715121.23212425, 5003761.76258168,       0.        ],\n",
      "       [ 715126.15469709, 5003753.05808419,       0.        ],\n",
      "       [ 715131.07726993, 5003744.35358669,       0.        ],\n",
      "       [ 715135.99984277, 5003735.6490892 ,       0.        ],\n",
      "       [ 715140.92241561, 5003726.94459171,       0.        ],\n",
      "       [ 715145.84498846, 5003718.24009421,       0.        ],\n",
      "       [ 715150.7675613 , 5003709.53559672,       0.        ],\n",
      "       [ 715155.69013414, 5003700.83109923,       0.        ],\n",
      "       [ 715160.61270698, 5003692.12660173,       0.        ],\n",
      "       [ 715166.2401909 , 5003683.8770298 ,       0.        ],\n",
      "       [ 715172.35268686, 5003675.96265092,       0.        ],\n",
      "       [ 715178.46518283, 5003668.04827204,       0.        ],\n",
      "       [ 715185.52420937, 5003661.08118778,       0.        ],\n",
      "       [ 715194.67662049, 5003657.22310568,       0.        ],\n",
      "       [ 715204.49657004, 5003655.37485691,       0.        ],\n",
      "       [ 715214.41709929, 5003654.11664411,       0.        ],\n",
      "       [ 715224.24243195, 5003652.29710964,       0.        ],\n",
      "       [ 715233.43930857, 5003648.53905936,       0.        ],\n",
      "       [ 715240.72058426, 5003641.78124729,       0.        ],\n",
      "       [ 715247.2541901 , 5003634.2107787 ,       0.        ],\n",
      "       [ 715253.78779594, 5003626.64031011,       0.        ],\n",
      "       [ 715260.22614481, 5003618.99358785,       0.        ],\n",
      "       [ 715266.15158445, 5003610.93820672,       0.        ],\n",
      "       [ 715272.07702408, 5003602.8828256 ,       0.        ],\n",
      "       [ 715278.00246372, 5003594.82744447,       0.        ],\n",
      "       [ 715283.5268634 , 5003586.49316189,       0.        ],\n",
      "       [ 715289.01807526, 5003578.1357411 ,       0.        ],\n",
      "       [ 715294.85330401, 5003570.021129  ,       0.        ],\n",
      "       [ 715300.91796432, 5003562.07003502,       0.        ],\n",
      "       [ 715306.98262462, 5003554.11894105,       0.        ],\n",
      "       [ 715313.0531522 , 5003546.17233193,       0.        ],\n",
      "       [ 715319.30134915, 5003538.36838822,       0.        ],\n",
      "       [ 715325.76190806, 5003530.73548716,       0.        ],\n",
      "       [ 715332.22246696, 5003523.1025861 ,       0.        ],\n",
      "       [ 715339.28976897, 5003516.09281367,       0.        ],\n",
      "       [ 715348.15013126, 5003511.54906331,       0.        ],\n",
      "       [ 715357.47762816, 5003507.94381692,       0.        ],\n",
      "       [ 715366.24372123, 5003503.22767561,       0.        ],\n",
      "       [ 715373.20096846, 5003496.09800748,       0.        ],\n",
      "       [ 715379.68555637, 5003488.48550988,       0.        ],\n",
      "       [ 715386.17014428, 5003480.87301228,       0.        ],\n",
      "       [ 715392.57392594, 5003473.19545448,       0.        ],\n",
      "       [ 715398.62717769, 5003465.23567162,       0.        ],\n",
      "       [ 715404.68042945, 5003457.27588876,       0.        ],\n",
      "       [ 715410.7336812 , 5003449.3161059 ,       0.        ],\n",
      "       [ 715416.78693296, 5003441.35632304,       0.        ],\n",
      "       [ 715422.84018472, 5003433.39654018,       0.        ],\n",
      "       [ 715428.89343647, 5003425.43675732,       0.        ],\n",
      "       [ 715434.94668823, 5003417.47697446,       0.        ],\n",
      "       [ 715440.64520387, 5003409.26156271,       0.        ],\n",
      "       [ 715446.28076479, 5003401.00078471,       0.        ],\n",
      "       [ 715451.9163257 , 5003392.7400067 ,       0.        ],\n",
      "       [ 715457.30577358, 5003384.3243539 ,       0.        ],\n",
      "       [ 715461.8629385 , 5003375.42310411,       0.        ],\n",
      "       [ 715466.42010342, 5003366.52185432,       0.        ],\n",
      "       [ 715470.97726834, 5003357.62060452,       0.        ],\n",
      "       [ 715475.53443326, 5003348.71935473,       0.        ],\n",
      "       [ 715480.09159818, 5003339.81810494,       0.        ],\n",
      "       [ 715484.6487631 , 5003330.91685514,       0.        ],\n",
      "       [ 715489.20592803, 5003322.01560535,       0.        ],\n",
      "       [ 715493.76309295, 5003313.11435556,       0.        ],\n",
      "       [ 715498.32025787, 5003304.21310576,       0.        ],\n",
      "       [ 715502.71883048, 5003295.24155318,       0.        ],\n",
      "       [ 715505.6274377 , 5003285.69415324,       0.        ],\n",
      "       [ 715507.30727221, 5003275.84189468,       0.        ],\n",
      "       [ 715508.31738203, 5003265.89408198,       0.        ],\n",
      "       [ 715509.0040182 , 5003255.91821826,       0.        ],\n",
      "       [ 715509.47943424, 5003245.92984601,       0.        ],\n",
      "       [ 715509.8889619 , 5003235.93823518,       0.        ],\n",
      "       [ 715510.29848956, 5003225.94662434,       0.        ],\n",
      "       [ 715510.70801722, 5003215.95501351,       0.        ],\n",
      "       [ 715511.17223898, 5003205.96628791,       0.        ],\n",
      "       [ 715511.91966152, 5003195.99510953,       0.        ],\n",
      "       [ 715513.07145144, 5003186.06388594,       0.        ],\n",
      "       [ 715515.0198777 , 5003176.265032  ,       0.        ],\n",
      "       [ 715518.85623567, 5003167.07927688,       0.        ],\n",
      "       [ 715526.22374301, 5003160.57987877,       0.        ],\n",
      "       [ 715535.67175359, 5003157.45400598,       0.        ],\n",
      "       [ 715545.53192121, 5003155.80521768,       0.        ],\n",
      "       [ 715555.41973379, 5003154.31151011,       0.        ],\n",
      "       [ 715564.98566338, 5003151.46820384,       0.        ],\n",
      "       [ 715573.02938595, 5003145.6801498 ,       0.        ],\n",
      "       [ 715579.68920621, 5003138.22209013,       0.        ],\n",
      "       [ 715586.32140857, 5003130.73784723,       0.        ],\n",
      "       [ 715593.04108108, 5003123.33485183,       0.        ],\n",
      "       [ 715600.01643754, 5003116.16935099,       0.        ],\n",
      "       [ 715606.991794  , 5003109.00385015,       0.        ],\n",
      "       [ 715614.00530012, 5003101.88458295,       0.        ],\n",
      "       [ 715622.36480292, 5003096.39653111,       0.        ],\n",
      "       [ 715630.72430572, 5003090.90847928,       0.        ],\n",
      "       [ 715639.08380852, 5003085.42042744,       0.        ],\n",
      "       [ 715647.44331132, 5003079.93237561,       0.        ],\n",
      "       [ 715655.80281412, 5003074.44432377,       0.        ],\n",
      "       [ 715664.60447168, 5003069.71351189,       0.        ],\n",
      "       [ 715673.49252479, 5003065.13066212,       0.        ],\n",
      "       [ 715682.38057789, 5003060.54781235,       0.        ],\n",
      "       [ 715690.87833859, 5003055.28178225,       0.        ],\n",
      "       [ 715699.18050658, 5003050.053409  ,       0.        ]]), 'ref_epsg': 4326, 'max_dist_ref': 150, 'reference_coreg_im': None}\n"
     ]
    }
   ],
   "source": [
    "print(settings)"
   ]
  },
  {
   "cell_type": "code",
   "execution_count": 42,
   "id": "3021f37d",
   "metadata": {
    "execution": {
     "iopub.execute_input": "2025-06-13T17:42:22.237672Z",
     "iopub.status.busy": "2025-06-13T17:42:22.237469Z",
     "iopub.status.idle": "2025-06-13T17:42:22.476255Z",
     "shell.execute_reply": "2025-06-13T17:42:22.475621Z",
     "shell.execute_reply.started": "2025-06-13T17:42:22.237653Z"
    },
    "scrolled": true
   },
   "outputs": [
    {
     "data": {
      "text/html": [
       "\n",
       "            <style>\n",
       "                .geemap-dark {\n",
       "                    --jp-widgets-color: white;\n",
       "                    --jp-widgets-label-color: white;\n",
       "                    --jp-ui-font-color1: white;\n",
       "                    --jp-layout-color2: #454545;\n",
       "                    background-color: #383838;\n",
       "                }\n",
       "\n",
       "                .geemap-dark .jupyter-button {\n",
       "                    --jp-layout-color3: #383838;\n",
       "                }\n",
       "\n",
       "                .geemap-colab {\n",
       "                    background-color: var(--colab-primary-surface-color, white);\n",
       "                }\n",
       "\n",
       "                .geemap-colab .jupyter-button {\n",
       "                    --jp-layout-color3: var(--colab-primary-surface-color, white);\n",
       "                }\n",
       "            </style>\n",
       "            "
      ],
      "text/plain": [
       "<IPython.core.display.HTML object>"
      ]
     },
     "metadata": {},
     "output_type": "display_data"
    },
    {
     "name": "stdout",
     "output_type": "stream",
     "text": [
      "Already found outputs for PSScene4Band\n"
     ]
    }
   ],
   "source": [
    "output, output_latlon, output_proj = VegetationLine.extract_veglines(metadata, settings, polygon, dates)"
   ]
  },
  {
   "cell_type": "markdown",
   "id": "546eb51b",
   "metadata": {},
   "source": [
    "##### second time load in:"
   ]
  },
  {
   "cell_type": "code",
   "execution_count": 43,
   "id": "593b79dd",
   "metadata": {
    "execution": {
     "iopub.execute_input": "2025-06-13T17:42:22.477841Z",
     "iopub.status.busy": "2025-06-13T17:42:22.477171Z",
     "iopub.status.idle": "2025-06-13T17:42:22.513298Z",
     "shell.execute_reply": "2025-06-13T17:42:22.512692Z",
     "shell.execute_reply.started": "2025-06-13T17:42:22.477815Z"
    }
   },
   "outputs": [
    {
     "data": {
      "text/html": [
       "\n",
       "            <style>\n",
       "                .geemap-dark {\n",
       "                    --jp-widgets-color: white;\n",
       "                    --jp-widgets-label-color: white;\n",
       "                    --jp-ui-font-color1: white;\n",
       "                    --jp-layout-color2: #454545;\n",
       "                    background-color: #383838;\n",
       "                }\n",
       "\n",
       "                .geemap-dark .jupyter-button {\n",
       "                    --jp-layout-color3: #383838;\n",
       "                }\n",
       "\n",
       "                .geemap-colab {\n",
       "                    background-color: var(--colab-primary-surface-color, white);\n",
       "                }\n",
       "\n",
       "                .geemap-colab .jupyter-button {\n",
       "                    --jp-layout-color3: var(--colab-primary-surface-color, white);\n",
       "                }\n",
       "            </style>\n",
       "            "
      ],
      "text/plain": [
       "<IPython.core.display.HTML object>"
      ]
     },
     "metadata": {},
     "output_type": "display_data"
    },
    {
     "name": "stdout",
     "output_type": "stream",
     "text": [
      "0 duplicates\n"
     ]
    }
   ],
   "source": [
    "output, output_latlon, output_proj = Toolbox.ReadOutput(inputs)\n",
    "\n",
    "# Remove Duplicate Lines\n",
    "# For images taken on the same date by the same satellite, keep only the longest line\n",
    "output = Toolbox.RemoveDuplicates(output) "
   ]
  },
  {
   "cell_type": "markdown",
   "id": "4da28e4f",
   "metadata": {},
   "source": [
    "##### save outcome to local shapefile"
   ]
  },
  {
   "cell_type": "code",
   "execution_count": 44,
   "id": "110fc866",
   "metadata": {
    "execution": {
     "iopub.execute_input": "2025-06-13T17:42:32.473506Z",
     "iopub.status.busy": "2025-06-13T17:42:32.473087Z",
     "iopub.status.idle": "2025-06-13T17:42:33.108249Z",
     "shell.execute_reply": "2025-06-13T17:42:33.107620Z",
     "shell.execute_reply.started": "2025-06-13T17:42:32.473478Z"
    }
   },
   "outputs": [
    {
     "data": {
      "text/html": [
       "\n",
       "            <style>\n",
       "                .geemap-dark {\n",
       "                    --jp-widgets-color: white;\n",
       "                    --jp-widgets-label-color: white;\n",
       "                    --jp-ui-font-color1: white;\n",
       "                    --jp-layout-color2: #454545;\n",
       "                    background-color: #383838;\n",
       "                }\n",
       "\n",
       "                .geemap-dark .jupyter-button {\n",
       "                    --jp-layout-color3: #383838;\n",
       "                }\n",
       "\n",
       "                .geemap-colab {\n",
       "                    background-color: var(--colab-primary-surface-color, white);\n",
       "                }\n",
       "\n",
       "                .geemap-colab .jupyter-button {\n",
       "                    --jp-layout-color3: var(--colab-primary-surface-color, white);\n",
       "                }\n",
       "            </style>\n",
       "            "
      ],
      "text/plain": [
       "<IPython.core.display.HTML object>"
      ]
     },
     "metadata": {},
     "output_type": "display_data"
    },
    {
     "name": "stdout",
     "output_type": "stream",
     "text": [
      "saving shapefile to Data/test_left/lines/test_left_2023-01-22_2023-12-22_veglines.shp\n",
      "saving shapefile to Data/test_left/lines/test_left_2023-01-22_2023-12-22_waterlines.shp\n"
     ]
    }
   ],
   "source": [
    "# Save output veglines \n",
    "Toolbox.SaveConvShapefiles(output, BasePath, sitename, settings['output_epsg'])\n",
    "# Save output shorelines if they were generated\n",
    "if settings['wetdry'] == True:\n",
    "    Toolbox.SaveConvShapefiles_Water(output, BasePath, sitename, settings['output_epsg'])"
   ]
  },
  {
   "cell_type": "markdown",
   "id": "974b1c26",
   "metadata": {},
   "source": [
    "# Transects detection"
   ]
  },
  {
   "cell_type": "markdown",
   "id": "29494951",
   "metadata": {},
   "source": [
    "#### basics"
   ]
  },
  {
   "cell_type": "markdown",
   "id": "31431976",
   "metadata": {},
   "source": [
    "##### settings"
   ]
  },
  {
   "cell_type": "code",
   "execution_count": 45,
   "id": "3ddfdcdd",
   "metadata": {
    "execution": {
     "iopub.execute_input": "2025-06-13T17:42:40.223707Z",
     "iopub.status.busy": "2025-06-13T17:42:40.223337Z",
     "iopub.status.idle": "2025-06-13T17:42:40.228733Z",
     "shell.execute_reply": "2025-06-13T17:42:40.228077Z",
     "shell.execute_reply.started": "2025-06-13T17:42:40.223680Z"
    }
   },
   "outputs": [
    {
     "data": {
      "text/html": [
       "\n",
       "            <style>\n",
       "                .geemap-dark {\n",
       "                    --jp-widgets-color: white;\n",
       "                    --jp-widgets-label-color: white;\n",
       "                    --jp-ui-font-color1: white;\n",
       "                    --jp-layout-color2: #454545;\n",
       "                    background-color: #383838;\n",
       "                }\n",
       "\n",
       "                .geemap-dark .jupyter-button {\n",
       "                    --jp-layout-color3: #383838;\n",
       "                }\n",
       "\n",
       "                .geemap-colab {\n",
       "                    background-color: var(--colab-primary-surface-color, white);\n",
       "                }\n",
       "\n",
       "                .geemap-colab .jupyter-button {\n",
       "                    --jp-layout-color3: var(--colab-primary-surface-color, white);\n",
       "                }\n",
       "            </style>\n",
       "            "
      ],
      "text/plain": [
       "<IPython.core.display.HTML object>"
      ]
     },
     "metadata": {},
     "output_type": "display_data"
    }
   ],
   "source": [
    "# settings\n",
    "SmoothingWindowSize = 21 \n",
    "NoSmooths = 100\n",
    "TransectSpacing = 10\n",
    "DistanceInland = 100\n",
    "DistanceOffshore = 100\n",
    "\n",
    "# Provide average beach slope (tanBeta) for site, for calculating corrected beach widths\n",
    "# Set to 'None' if you want to use CoastSat.slope to calculate per-transect slopes for correcting with\n",
    "beachslope = None"
   ]
  },
  {
   "cell_type": "markdown",
   "id": "76da3af6",
   "metadata": {},
   "source": [
    "##### cross-shorelines transects"
   ]
  },
  {
   "cell_type": "code",
   "execution_count": 46,
   "id": "b72a094b",
   "metadata": {
    "execution": {
     "iopub.execute_input": "2025-06-13T17:42:41.591022Z",
     "iopub.status.busy": "2025-06-13T17:42:41.590644Z",
     "iopub.status.idle": "2025-06-13T17:42:42.561570Z",
     "shell.execute_reply": "2025-06-13T17:42:42.560915Z",
     "shell.execute_reply.started": "2025-06-13T17:42:41.590997Z"
    }
   },
   "outputs": [
    {
     "data": {
      "text/html": [
       "\n",
       "            <style>\n",
       "                .geemap-dark {\n",
       "                    --jp-widgets-color: white;\n",
       "                    --jp-widgets-label-color: white;\n",
       "                    --jp-ui-font-color1: white;\n",
       "                    --jp-layout-color2: #454545;\n",
       "                    background-color: #383838;\n",
       "                }\n",
       "\n",
       "                .geemap-dark .jupyter-button {\n",
       "                    --jp-layout-color3: #383838;\n",
       "                }\n",
       "\n",
       "                .geemap-colab {\n",
       "                    background-color: var(--colab-primary-surface-color, white);\n",
       "                }\n",
       "\n",
       "                .geemap-colab .jupyter-button {\n",
       "                    --jp-layout-color3: var(--colab-primary-surface-color, white);\n",
       "                }\n",
       "            </style>\n",
       "            "
      ],
      "text/plain": [
       "<IPython.core.display.HTML object>"
      ]
     },
     "metadata": {},
     "output_type": "display_data"
    },
    {
     "name": "stdout",
     "output_type": "stream",
     "text": [
      "Reference shoreline reoriented\n",
      "\n",
      "Coast: Initialising Coast object\n",
      "Coast.ReadCoastShp: Read Coastline, no of coast segments is 1\n",
      "\tCoastline    1 /    1\n",
      "Coast: Smoothing CoastLines\n",
      "Coast.WriteCoastShp: Writing coast line to a shapefile\n",
      "Coast.GenerateTransectNormals: Generating CoastLine transects perpendicular to the coast\n",
      "Coast.WriteSimpleTransectsShp: Writing coastal transects and attributes to a shapefile\n"
     ]
    }
   ],
   "source": [
    "VegBasePath = 'Data/' + sitename + '/lines'\n",
    "VeglineShp = glob.glob(BasePath+'/*veglines.shp')\n",
    "VeglineGDF = gpd.read_file(VeglineShp[0])\n",
    "VeglineGDF = VeglineGDF.sort_values(by='dates') # sort GDF by dates to ensure transect intersects occur in chronological order\n",
    "VeglineGDF = VeglineGDF.reset_index(drop=True) # reset GDF index after date sorting\n",
    "if settings['wetdry'] == True:\n",
    "    WaterlineShp = glob.glob(BasePath+'/*waterlines.shp')\n",
    "    WaterlineGDF = gpd.read_file(WaterlineShp[0])\n",
    "    WaterlineGDF = WaterlineGDF.sort_values(by='dates') # as above with VeglineGDF date sorting\n",
    "    WaterlineGDF = WaterlineGDF.reset_index(drop=True)\n",
    "# Produces Transects for the reference line\n",
    "TransectSpec =  os.path.join(BasePath, sitename+'_Transects.shp')\n",
    "\n",
    "# If transects already exist, load them in\n",
    "if os.path.isfile(TransectSpec[:-3]+'pkl') is False:\n",
    "    TransectGDF = Transects.ProduceTransects(settings, SmoothingWindowSize, NoSmooths, TransectSpacing, DistanceInland, DistanceOffshore, VegBasePath, referenceLineShp)\n",
    "else:\n",
    "    print('Transects already exist and were loaded')\n",
    "    with open(TransectSpec[:-3]+'pkl', 'rb') as Tfile: \n",
    "        TransectGDF = pickle.load(Tfile)\n",
    "    \n",
    "# make new transect intersections folder\n",
    "if os.path.isdir(os.path.join(filepath, sitename, 'intersections')) is False:\n",
    "    os.mkdir(os.path.join(filepath, sitename, 'intersections'))"
   ]
  },
  {
   "cell_type": "markdown",
   "id": "d255989a",
   "metadata": {},
   "source": [
    "##### veg edges intersection along each transect"
   ]
  },
  {
   "cell_type": "code",
   "execution_count": 47,
   "id": "5f78481b",
   "metadata": {
    "execution": {
     "iopub.execute_input": "2025-06-13T17:42:51.105795Z",
     "iopub.status.busy": "2025-06-13T17:42:51.105407Z",
     "iopub.status.idle": "2025-06-13T17:43:07.912270Z",
     "shell.execute_reply": "2025-06-13T17:43:07.911593Z",
     "shell.execute_reply.started": "2025-06-13T17:42:51.105770Z"
    }
   },
   "outputs": [
    {
     "data": {
      "text/html": [
       "\n",
       "            <style>\n",
       "                .geemap-dark {\n",
       "                    --jp-widgets-color: white;\n",
       "                    --jp-widgets-label-color: white;\n",
       "                    --jp-ui-font-color1: white;\n",
       "                    --jp-layout-color2: #454545;\n",
       "                    background-color: #383838;\n",
       "                }\n",
       "\n",
       "                .geemap-dark .jupyter-button {\n",
       "                    --jp-layout-color3: #383838;\n",
       "                }\n",
       "\n",
       "                .geemap-colab {\n",
       "                    background-color: var(--colab-primary-surface-color, white);\n",
       "                }\n",
       "\n",
       "                .geemap-colab .jupyter-button {\n",
       "                    --jp-layout-color3: var(--colab-primary-surface-color, white);\n",
       "                }\n",
       "            </style>\n",
       "            "
      ],
      "text/plain": [
       "<IPython.core.display.HTML object>"
      ]
     },
     "metadata": {},
     "output_type": "display_data"
    },
    {
     "name": "stdout",
     "output_type": "stream",
     "text": [
      "performing intersections between transects...\n",
      "formatting into GeoDataFrame...\n",
      "TransectDict with intersections created.\n",
      "saving new transect shapefile ...\n",
      "Shapefile with sat intersections saved.\n",
      "TransectDict updated with distances between sat lines.\n"
     ]
    }
   ],
   "source": [
    "if os.path.isfile(os.path.join(filepath, sitename, 'intersections', sitename + '_transect_intersects.pkl')):\n",
    "    print('Transect Intersect GDF exists and was loaded')\n",
    "    with open(os.path.join\n",
    "              (filepath , sitename, 'intersections', sitename + '_transect_intersects.pkl'), 'rb') as f:\n",
    "        TransectInterGDF = pickle.load(f)\n",
    "else:\n",
    "    # Get intersections\n",
    "    TransectInterGDF = Transects.GetIntersections(BasePath, TransectGDF, VeglineGDF)\n",
    "    # Save newly intersected transects as shapefile\n",
    "    TransectInterGDF = Transects.SaveIntersections(TransectInterGDF, VeglineGDF, BasePath, sitename)\n",
    "    # Repopulate dict with intersection distances along transects normalised to transect midpoints\n",
    "    TransectInterGDF = Transects.CalculateChanges(TransectInterGDF)\n",
    "    \n",
    "    with open(os.path.join(filepath, sitename, 'intersections', sitename + '_transect_intersects.pkl'), 'wb') as f:\n",
    "        pickle.dump(TransectInterGDF, f)"
   ]
  },
  {
   "cell_type": "markdown",
   "id": "96eed93b",
   "metadata": {},
   "source": [
    "##### waterlines intersection along each transect"
   ]
  },
  {
   "cell_type": "code",
   "execution_count": 48,
   "id": "f6f03557",
   "metadata": {
    "execution": {
     "iopub.execute_input": "2025-06-13T17:43:12.557979Z",
     "iopub.status.busy": "2025-06-13T17:43:12.557584Z",
     "iopub.status.idle": "2025-06-13T17:43:14.225374Z",
     "shell.execute_reply": "2025-06-13T17:43:14.224738Z",
     "shell.execute_reply.started": "2025-06-13T17:43:12.557941Z"
    }
   },
   "outputs": [
    {
     "data": {
      "text/html": [
       "\n",
       "            <style>\n",
       "                .geemap-dark {\n",
       "                    --jp-widgets-color: white;\n",
       "                    --jp-widgets-label-color: white;\n",
       "                    --jp-ui-font-color1: white;\n",
       "                    --jp-layout-color2: #454545;\n",
       "                    background-color: #383838;\n",
       "                }\n",
       "\n",
       "                .geemap-dark .jupyter-button {\n",
       "                    --jp-layout-color3: #383838;\n",
       "                }\n",
       "\n",
       "                .geemap-colab {\n",
       "                    background-color: var(--colab-primary-surface-color, white);\n",
       "                }\n",
       "\n",
       "                .geemap-colab .jupyter-button {\n",
       "                    --jp-layout-color3: var(--colab-primary-surface-color, white);\n",
       "                }\n",
       "            </style>\n",
       "            "
      ],
      "text/plain": [
       "<IPython.core.display.HTML object>"
      ]
     },
     "metadata": {},
     "output_type": "display_data"
    },
    {
     "name": "stdout",
     "output_type": "stream",
     "text": [
      "performing intersections between transects and waterlines...\n",
      "formatting into GeoDataFrame...\n"
     ]
    }
   ],
   "source": [
    "if os.path.isfile(os.path.join(filepath, sitename, 'intersections', sitename + '_transect_water_intersects.pkl')):\n",
    "    print('Transect Intersect + Water GDF exists and was loaded')\n",
    "    with open(os.path.join\n",
    "              (filepath , sitename, 'intersections', sitename + '_transect_water_intersects.pkl'), 'rb') as f:\n",
    "        TransectInterGDFWater = pickle.load(f)\n",
    "else:        \n",
    "    if settings['wetdry'] == True:\n",
    "        TransectInterGDFWater = Transects.GetWaterIntersections(BasePath, TransectGDF, TransectInterGDF, WaterlineGDF, settings, output)  \n",
    "    \n",
    "    with open(os.path.join(filepath, sitename, 'intersections', sitename + '_transect_water_intersects.pkl'), 'wb') as f:\n",
    "        pickle.dump(TransectInterGDFWater, f)"
   ]
  },
  {
   "cell_type": "markdown",
   "id": "309202ed",
   "metadata": {},
   "source": [
    "#### waves and tide included"
   ]
  },
  {
   "cell_type": "markdown",
   "id": "4492610f",
   "metadata": {},
   "source": [
    "##### waves intersections"
   ]
  },
  {
   "cell_type": "code",
   "execution_count": null,
   "id": "e2353aa2",
   "metadata": {},
   "outputs": [],
   "source": [
    "import traceback\n",
    "\n",
    "if os.path.isfile(os.path.join(filepath, sitename, 'intersections', sitename + '_transect_wave_intersects.pkl')):\n",
    "    print('Transect Intersect + Wave GDF exists and was loaded')\n",
    "    with open(os.path.join(filepath, sitename, 'intersections', sitename + '_transect_wave_intersects.pkl'), 'rb') as f:\n",
    "        TransectInterGDFWave = pickle.load(f)\n",
    "else:\n",
    "    try:\n",
    "        TransectInterGDFWave = Transects.WavesIntersect(settings, TransectInterGDF, BasePath, output, lonmin, lonmax, latmin, latmax)\n",
    "\n",
    "        with open(os.path.join(filepath, sitename, 'intersections', sitename + '_transect_wave_intersects.pkl'), 'wb') as f:\n",
    "            pickle.dump(TransectInterGDFWave, f)\n",
    "\n",
    "        print(f'Wave intersect successfully generated and saved for site: {sitename}')\n",
    "\n",
    "    except Exception as e:\n",
    "        print(f'Failed to process wave data for site: {sitename}')\n",
    "        print('Error message:', str(e))\n",
    "        traceback.print_exc()\n",
    "        TransectInterGDFWave = None"
   ]
  },
  {
   "cell_type": "markdown",
   "id": "c54c073f",
   "metadata": {},
   "source": [
    "##### Additional wave-based WL metrics\n",
    "This is for comparing shoreline change with vegetation change, and for quantifying the beach width between the two for each image. If you would like to include runup in your waterline corrections, add `TransectInterGDFWave` to `GetWaterIntersections()`:\n",
    "\n",
    "```TransectInterGDFWater = Transects.GetWaterIntersections(BasePath, TransectGDF, TransectInterGDF, WaterlineGDF, settings, output, TransectInterGDFWave, beachslope)```\n",
    "\n",
    "If you want to include runup AND calculate slopes using CoastSat.slope (recommended), exclude the `beachslope` variable:\n",
    "\n",
    "`TransectInterGDFWater = Transects.GetWaterIntersections(BasePath, TransectGDF, TransectInterGDF, WaterlineGDF, settings, output, TransectInterGDFWave)`"
   ]
  },
  {
   "cell_type": "code",
   "execution_count": null,
   "id": "a4242040",
   "metadata": {},
   "outputs": [],
   "source": [
    "import pandas as pd\n",
    "from datetime import datetime\n",
    "\n",
    "# === 1. Load your original tide CSV ===\n",
    "tide_df = pd.read_csv(r'C:\\MPA\\tide_data\\tide_db\\coast_tides_1.csv')\n",
    "\n",
    "# === 2. Convert the 'dates' column to remove timezone ===\n",
    "# It will convert to naive datetime (no timezone)\n",
    "tide_df['dates'] = pd.to_datetime(tide_df['dates']).dt.tz_localize(None)\n",
    "tide_df = tide_df.rename(columns={'dates': 'date'})\n",
    "\n",
    "# === 3. Save to correct CoastGuard path ===\n",
    "date_start = '2015-01-01'\n",
    "date_end = '2025-01-01'\n",
    "\n",
    "# Build the output path\n",
    "save_path = fr'C:\\MPA\\COASTGUARD\\Data\\tides\\{sitename}_tides_{date_start}_{date_end}.csv'\n",
    "\n",
    "# Save without index\n",
    "tide_df.to_csv(save_path, index=False)\n",
    "\n",
    "print(f\"Tide file saved to {save_path}\")"
   ]
  },
  {
   "cell_type": "code",
   "execution_count": null,
   "id": "0e0637da",
   "metadata": {},
   "outputs": [],
   "source": [
    "beachslope = None\n",
    "\n",
    "TransectInterGDFWater = Transects.GetWaterIntersections(BasePath, TransectGDF, TransectInterGDF, WaterlineGDF, settings, output)"
   ]
  },
  {
   "cell_type": "code",
   "execution_count": null,
   "id": "a2d2f245",
   "metadata": {},
   "outputs": [],
   "source": [
    "# Check if waterline corrections have been applied\n",
    "if 'wlcorrdist' not in TransectInterGDFWater.columns:\n",
    "    # Apply tidal + wave runup correction\n",
    "    TransectInterGDFWater = Transects.WLCorrections(\n",
    "        settings, \n",
    "        output, \n",
    "        TransectInterGDFWater, \n",
    "        TransectInterGDFWave,  # <- Add the wave-based intersections here\n",
    "        # Do NOT pass beachslope — leave it to auto-calculate!\n",
    "    )     \n",
    "\n",
    "# Calculate the beach width between Vegetation Line and corrected Water Line\n",
    "TransectInterGDFWater = Transects.CalcBeachWidth(\n",
    "    settings, \n",
    "    TransectGDF, \n",
    "    TransectInterGDFWater\n",
    ")\n",
    "\n",
    "# Save corrected Water Line intersections shapefile\n",
    "TransectInterGDFWater = Transects.SaveWaterIntersections(\n",
    "    TransectInterGDFWater, \n",
    "    WaterlineGDF,  \n",
    "    BasePath, \n",
    "    sitename\n",
    ")"
   ]
  },
  {
   "cell_type": "code",
   "execution_count": null,
   "id": "6e67d7f2",
   "metadata": {},
   "outputs": [],
   "source": [
    "# Save intersections as a pickle file\n",
    "with open(os.path.join(filepath, sitename, 'intersections', sitename + '_transect_water_intersects.pkl'), 'wb') as f:\n",
    "    pickle.dump(TransectInterGDFWater, f)"
   ]
  },
  {
   "cell_type": "code",
   "execution_count": null,
   "id": "75501cfa",
   "metadata": {},
   "outputs": [],
   "source": [
    "import scipy\n",
    "print(scipy.__version__)"
   ]
  },
  {
   "cell_type": "code",
   "execution_count": null,
   "id": "114552ab",
   "metadata": {},
   "outputs": [],
   "source": []
  },
  {
   "cell_type": "markdown",
   "id": "9bc0a8ca",
   "metadata": {},
   "source": [
    "##### Transect-Topo Intersections\n",
    "intersections with topographic data along each transect. This is for comparing veg edge positions with dune slopes"
   ]
  },
  {
   "cell_type": "code",
   "execution_count": null,
   "id": "d39d3993",
   "metadata": {},
   "outputs": [],
   "source": [
    "# EDIT ME: Path to slope raster for extracting slope values\n",
    "TIF = '/path/to/Slope_Raster.tif'\n",
    "\n",
    "if os.path.isfile(os.path.join(filepath, sitename, 'intersections', sitename + '_transect_topo_intersects.pkl')):\n",
    "    print('Transect Intersect + Topo GDF exists and was loaded')\n",
    "    with open(os.path.join\n",
    "              (filepath , sitename, 'intersections', sitename + '_transect_topo_intersects.pkl'), 'rb') as f:\n",
    "        TransectInterGDFTopo = pickle.load(f)\n",
    "else:\n",
    "    # Update Transects with Transition Zone widths and slope if available\n",
    "    TransectInterGDFTopo = Transects.TZIntersect(settings, TransectInterGDF, VeglineGDF, BasePath)\n",
    "    TransectInterGDFTopo = Transects.SlopeIntersect(settings, TransectInterGDFTopo, VeglineGDF, BasePath, TIF)\n",
    "    \n",
    "    with open(os.path.join(filepath, sitename, 'intersections', sitename + '_transect_topo_intersects.pkl'), 'wb') as f:\n",
    "        pickle.dump(TransectInterGDFTopo, f)"
   ]
  },
  {
   "cell_type": "markdown",
   "id": "3b16fbb9",
   "metadata": {},
   "source": [
    "#### Plotting\n",
    "Edit the desired Transect IDs to plot timeseries of veg change and beach width change across "
   ]
  },
  {
   "cell_type": "code",
   "execution_count": null,
   "id": "e3c524a3",
   "metadata": {},
   "outputs": [],
   "source": [
    "# Timeseries Plotting\n",
    "\n",
    "# EDIT ME: Select transect ID to plot\n",
    "# You can plot subplots within a list of plot IDs, e.g. [[sub1, sub2], plot2]\n",
    "# You can also comment Line 1 out and uncomment Line 2 to create plots for ALL Transect IDs\n",
    "# NOTE: If you want to plot ALL transects, it's recommended you switch ShowPlot=False\n",
    "\n",
    "TransectIDs = [[25,30,35],50,75] # Line 1\n",
    "# TransectIDs = list(TransectInterGDF['TransectID']) # Line 2\n",
    "\n",
    "for TransectID in TransectIDs:\n",
    "    # Plot timeseries of cross-shore veg position\n",
    "    Plotting.VegTimeseries(sitename, TransectInterGDF, TransectID, Hemisphere='N', ShowPlot=True)\n",
    "    # If plotting veg and water lines together\n",
    "    if settings['wetdry']:\n",
    "        Plotting.VegWaterTimeseries(sitename, TransectInterGDFWater, TransectID, Hemisphere='N', ShowPlot=True)\n"
   ]
  },
  {
   "cell_type": "code",
   "execution_count": null,
   "id": "7d9c5118",
   "metadata": {},
   "outputs": [],
   "source": [
    "# Beach Width Plotting\n",
    "\n",
    "# Select transect ID to plot\n",
    "TransectIDs = [[25,30,35],50,75]\n",
    "for TransectID in TransectIDs:\n",
    "    # Plot timeseries of cross-shore width between water edge and veg edge \n",
    "    Plotting.WidthTimeseries(sitename, TransectInterGDFWater, TransectID, Hemisphere='N')\n"
   ]
  },
  {
   "cell_type": "code",
   "execution_count": null,
   "id": "44cd6f49",
   "metadata": {},
   "outputs": [],
   "source": [
    "# EDIT ME: Path to slope raster for extracting slope values\n",
    "# TIF = r\"C:\\MPA\\COASTGUARD\\TestData\\C1\\slopes\\musquash_slope.tif\"  # example path\n",
    "\n",
    "if os.path.isfile(os.path.join(filepath, sitename, 'intersections', sitename + '_transect_topo_intersects.pkl')):\n",
    "    print('Transect Intersect + Topo GDF exists and was loaded')\n",
    "    with open(os.path.join\n",
    "              (filepath , sitename, 'intersections', sitename + '_transect_topo_intersects.pkl'), 'rb') as f:\n",
    "        TransectInterGDFTopo = pickle.load(f)\n",
    "else:\n",
    "    # Update Transects with Transition Zone widths and slope if available\n",
    "    TransectInterGDFTopo = Transects.TZIntersect(settings, TransectInterGDF, VeglineGDF, BasePath)\n",
    "    # TransectInterGDFTopo = Transects.SlopeIntersect(settings, TransectInterGDFTopo, VeglineGDF, BasePath, TIF)\n",
    "    \n",
    "    with open(os.path.join(filepath, sitename, 'intersections', sitename + '_transect_topo_intersects.pkl'), 'wb') as f:\n",
    "        pickle.dump(TransectInterGDFTopo, f)"
   ]
  },
  {
   "cell_type": "code",
   "execution_count": null,
   "id": "4c94dae9",
   "metadata": {},
   "outputs": [],
   "source": [
    "# Timeseries Plotting\n",
    "\n",
    "# EDIT ME: Select transect ID to plot\n",
    "# You can plot subplots within a list of plot IDs, e.g. [[sub1, sub2], plot2]\n",
    "# You can also comment Line 1 out and uncomment Line 2 to create plots for ALL Transect IDs\n",
    "# NOTE: If you want to plot ALL transects, it's recommended you switch ShowPlot=False\n",
    "\n",
    "TransectIDs = [[25,30,35],50,75] # Line 1\n",
    "# TransectIDs = list(TransectInterGDF['TransectID']) # Line 2\n",
    "\n",
    "for TransectID in TransectIDs:\n",
    "    # Plot timeseries of cross-shore veg position\n",
    "    Plotting.VegTimeseries(sitename, TransectInterGDF, TransectID, Hemisphere='N', ShowPlot=True)\n",
    "    # If plotting veg and water lines together\n",
    "    if settings['wetdry']:\n",
    "        Plotting.VegWaterTimeseries(sitename, TransectInterGDFWater, TransectID, Hemisphere='N', ShowPlot=True)"
   ]
  }
 ],
 "metadata": {
  "kernelspec": {
   "display_name": "conda_coastguard",
   "language": "python",
   "name": "coastguard"
  },
  "language_info": {
   "codemirror_mode": {
    "name": "ipython",
    "version": 3
   },
   "file_extension": ".py",
   "mimetype": "text/x-python",
   "name": "python",
   "nbconvert_exporter": "python",
   "pygments_lexer": "ipython3",
   "version": "3.10.13"
  }
 },
 "nbformat": 4,
 "nbformat_minor": 5
}
